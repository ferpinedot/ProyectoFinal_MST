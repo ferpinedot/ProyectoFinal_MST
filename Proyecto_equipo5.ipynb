{
 "cells": [
  {
   "cell_type": "markdown",
   "metadata": {},
   "source": [
    "<img src=\"http://oci02.img.iteso.mx/identidad_de_instancia_2018/ITESO/Logos%20ITESO/Logo-ITESO-Principal.jpg\">\n"
   ]
  },
  {
   "cell_type": "markdown",
   "metadata": {},
   "source": [
    "<center> <font color= #004A94> <font size = 6> Lic. Ingeniería Financiera </font> <br> <br> <font color= #047CFB> <font size = 4>Equipo 5 </font \n",
    "\n",
    " "
   ]
  },
  {
   "cell_type": "markdown",
   "metadata": {},
   "source": [
    "<center> <font color= #004A94> <font size = 6><font size = 4>I.F Fernanda Pinedo Talango if705971@iteso.mx</font "
   ]
  },
  {
   "cell_type": "markdown",
   "metadata": {},
   "source": [
    "<center> <font color= #004A94> <font size = 6><font size = 4>I.F Francisco Ricardo Rodríguez Ramírez if705783@iteso.mx</font "
   ]
  },
  {
   "cell_type": "markdown",
   "metadata": {},
   "source": [
    "<center> <font color= #004A94> <font size = 6><font size = 4>I.F Oscar Flores if@iteso.mx</font "
   ]
  },
  {
   "cell_type": "markdown",
   "metadata": {},
   "source": [
    "###### <span style=\"font-family:Papyrus; font-size:4em;\"> Resumen "
   ]
  },
  {
   "cell_type": "markdown",
   "metadata": {},
   "source": []
  },
  {
   "cell_type": "markdown",
   "metadata": {},
   "source": []
  },
  {
   "cell_type": "markdown",
   "metadata": {},
   "source": []
  },
  {
   "cell_type": "markdown",
   "metadata": {},
   "source": [
    "###### <span style=\"font-family:Papyrus; font-size:4em;\"> Fed Interest Rate Decision"
   ]
  },
  {
   "cell_type": "markdown",
   "metadata": {},
   "source": [
    "<p style=\"text-align: justify;\"> Las tasas de interés hacen referencia a la cantidad de interés que se debe en un periodo, el cual se representa como un porcentaje anual. Cada país consta de un Banco Central, el cual es el responsable de la política económica del país y ocasionalmente está involucrado en la toma de decisiones sobre las tasas. Las decisiones de un Banco Central, en especial de potencias económicas como lo es Estados Unidos suelen tener gran impacto en la economía, dado que en su anuncio viene implícito el rumbo de la economía, la decisión sobre un aumento o un recorte sobre las tasas son establecidas sobre las condiciones actuales del empleo, inflación e inversiones. </p>\n",
    "<p style=\"text-align: justify;\">Es un indicador muy importante, por lo que los operadores están muy al pendiente de sus anuncios, los cuales están en fechas predefinidas. Estos anuncios suelen afectar las decisiones de los operadores dado que los movimientos en las tasas de interés podrías afectar en varios aspectos del mercado de todas las industrias. \n",
    "Se considera este indicador, dado que las decisiones que toma la Fed, es decir sobre las tasas de interés suelen influir en la economía mundial. Por lo que un movimiento en estas podría afectar tanto la inflación y el crecimiento del país. \n",
    "Cualquier movimiento en las tasas de interés puede ser influyente, es decir si se decide recortarla, aumentarla o mantenerla. Estos anuncios sobre las tasas afectan al mercado de la siguiente manera. \n",
    "</p>"
   ]
  },
  {
   "cell_type": "markdown",
   "metadata": {},
   "source": [
    "* Si la tasa de interés sufre un aumento.\n",
    "    * Se suele tomar como un impulso a la moneda local, por lo que en este caso       el dólar se debería ver beneficiado sobre otras divisas.\n",
    "* Si la tasa de interés sufre un recorte. \n",
    "    * Se suele tomar como un signo de problemas inflacionarios y económicos         por lo que suele debilitar la moneda local, por lo que en este caso el         dólar se podría ver perjudicado sobre otras divisas. \n",
    "* Si la tasa de interés se mantiene.\n",
    "    * Podría ocasionar movimientos en el mercado si es que los inversionistas         esperaban un cambio."
   ]
  },
  {
   "cell_type": "markdown",
   "metadata": {},
   "source": [
    "<p style=\"text-align: justify;\"> A continuación, se presenta validaciones visuales sobre el comportamiento del Euro en relación con el Dólar en el momento en el que la Fed anuncia la tasa de interés por un lapso de media hora. Para entender las siguientes figuras es preciso destacar lo siguiente. \n",
    "    \n",
    "* Las líneas azules corresponden al periodo de tiempo, desde que se reporta el   indicador hasta que transcurre media hora. \n",
    "* La línea verde corresponde al máximo que se obtuvo en el periodo de media       hora.\n",
    "* La línea roja corresponde al mínimo que se obtuvo en el periodo de media       hora. \n",
    "* Las líneas negras marcan la diferencia entre el máximo y el mínimo o           viceversa.\n",
    "* Las líneas punteadas azules corresponden a la validación de máximos y/o        mínimos.\n"
   ]
  },
  {
   "cell_type": "markdown",
   "metadata": {},
   "source": [
    "###### <span style=\"font-family:Papyrus; font-size:4em;\"> Validaciones visuales\n",
    "Los siguientes eventos se presentaron durante uso horario UTC -5:00 (CDMX)"
   ]
  },
  {
   "cell_type": "markdown",
   "metadata": {},
   "source": [
    "## Validación 1"
   ]
  },
  {
   "cell_type": "markdown",
   "metadata": {},
   "source": [
    "![title](images/time1.jpg)"
   ]
  },
  {
   "cell_type": "markdown",
   "metadata": {},
   "source": [
    "<p style=\"text-align: justify;\">El día 19 de junio del 2019 se esperaba el reporte de la Fed sobre las tasas de interés, en el periodo anterior se había reportado una tasa de 2.5%  y para este anuncio se esperaba por parte de los analistas que las tasas no sufrieran algún movimiento. De acuerdo con el calendario económico de FXstreet las tasa de interés anunciada por la Fed se mantuvieron. "
   ]
  },
  {
   "cell_type": "markdown",
   "metadata": {},
   "source": [
    "Gráfica 1.1"
   ]
  },
  {
   "cell_type": "markdown",
   "metadata": {},
   "source": [
    "![title](images/graph1.jpg)"
   ]
  },
  {
   "cell_type": "markdown",
   "metadata": {},
   "source": [
    "<p style=\"text-align: justify;\">"
   ]
  },
  {
   "cell_type": "markdown",
   "metadata": {},
   "source": [
    "<p style=\"text-align: justify;\">De acuerdo con la gráfica 1.1 podemos observarque en el lapso de media hora, una vez la Fed emitió el  reporte sobre las tasa de interés, el euro se vio apreciado frente al dólar a raíz de la decisión de manter constante las tasas de interés. "
   ]
  },
  {
   "cell_type": "markdown",
   "metadata": {},
   "source": [
    "Tabla 1.1"
   ]
  },
  {
   "cell_type": "markdown",
   "metadata": {},
   "source": [
    "| Vela     | Horario  | Tipo de cambio | Comentarios |\n",
    "| :------- | :------: | -----:         |  -----:     |\n",
    "|          |          |                |             |\n",
    "|          |          |                |             |"
   ]
  },
  {
   "cell_type": "markdown",
   "metadata": {},
   "source": [
    "<p style=\"text-align: justify;\">El día 19 de junio del 2019 se esperaba el reporte de la Fed sobre las tasas de interés, en el periodo anterior se había reportado una tasa de 2.5%  y para este anuncio se esperaba por parte de los analistas que las tasas no sufrieran algún movimiento. De acuerdo con el calendario económico de FXstreet las tasa de interés anunciada por la Fed se mantuvieron. De acuerdo con la gráfica 1.1 y la tabla 1.1 podemos concluir que de acuerdo con la decision de mantener la tasa de interés, el dolar se debilitó frente al euro, que dentro de un periodo de 30 velas, es decir, una por minuto tocó su máximo en la número 6 y después de tocar este tomó una tendencia a la baja hasta la vela 30, sin embargo está nunca llegó a ser menor al tipo de cambio en el tiempo 0. Cabe destacar que se manifestó un movimiento brusco a la 13:00 es decir en momento que en teoría se anunció la decisión de la Fed. "
   ]
  },
  {
   "cell_type": "markdown",
   "metadata": {},
   "source": [
    "## Validación 2"
   ]
  },
  {
   "cell_type": "markdown",
   "metadata": {},
   "source": [
    "![title](images/time1.jpg)"
   ]
  },
  {
   "cell_type": "markdown",
   "metadata": {},
   "source": [
    "<p style=\"text-align: justify;\">El día 31 de julio del 2019, se esperaba el reporte de la Fed, conocemos que anteriormente se había establecido la tasa de interés en 2.5% es decir el periodo anterior se mantuvo, sin embargo la expectativa de los análistas indicaba que este periodo si reportarían algún recorte en las tasas de interés. En esta ocasión  de acuerdo con el calendario económico de FXStreet, la Fed reportó un recorte de 25 puntos base, es decir en este caso se estableció la tasa de interés en 2.25%. "
   ]
  },
  {
   "cell_type": "markdown",
   "metadata": {},
   "source": [
    "Gráfica 1.2"
   ]
  },
  {
   "cell_type": "markdown",
   "metadata": {},
   "source": [
    "![title](images/graph2.jpg)"
   ]
  },
  {
   "cell_type": "markdown",
   "metadata": {},
   "source": [
    "De acuerdo con la gráfica 1.2, podemos observar como a raíz del recorte de la tasa de interés el euro se vió fortalecido frente al dolar, es decir en la gráfica podemos notar una tendencia bajista en cuanto al tipo de cambio eur/usd.  "
   ]
  },
  {
   "cell_type": "markdown",
   "metadata": {},
   "source": [
    "Tabla 1.2"
   ]
  },
  {
   "cell_type": "markdown",
   "metadata": {},
   "source": [
    "| Vela     | Horario  | Tipo de cambio | Comentarios |\n",
    "| :------- | :------: | -----:         |  -----:     |\n",
    "|    1     | 13:00    |1.11264         |Máximo       |\n",
    "|    4     | 13:03    |1.10983         |Mínimo       |\n",
    "|   14     | 13:15    |1.11237         |Máximo despúes de la vela 1|\n",
    "|   31     | 13:30    |1.11122         |Vela final|"
   ]
  },
  {
   "cell_type": "markdown",
   "metadata": {},
   "source": [
    "## Validación 3"
   ]
  },
  {
   "cell_type": "markdown",
   "metadata": {},
   "source": [
    "![title](images/time3.png)"
   ]
  },
  {
   "cell_type": "markdown",
   "metadata": {},
   "source": [
    "Gráfica 1.3"
   ]
  },
  {
   "cell_type": "markdown",
   "metadata": {},
   "source": [
    "![title](images/graph3.png)"
   ]
  },
  {
   "cell_type": "markdown",
   "metadata": {},
   "source": [
    "Tabla 1.3"
   ]
  },
  {
   "cell_type": "markdown",
   "metadata": {},
   "source": [
    "| Vela     | Horario  | Tipo de cambio | Comentarios |\n",
    "| :------- | :------: | -----:         |  -----:     |\n",
    "|          |          |                |             |\n",
    "|          |          |                |             |"
   ]
  },
  {
   "cell_type": "markdown",
   "metadata": {},
   "source": [
    "## Validación 4"
   ]
  },
  {
   "cell_type": "markdown",
   "metadata": {},
   "source": [
    "![title](images/time4.png)"
   ]
  },
  {
   "cell_type": "markdown",
   "metadata": {},
   "source": [
    "Gráfica 1.4"
   ]
  },
  {
   "cell_type": "markdown",
   "metadata": {},
   "source": [
    "![title](images/graph4.png)"
   ]
  },
  {
   "cell_type": "markdown",
   "metadata": {},
   "source": [
    "Tabla 1.4"
   ]
  },
  {
   "cell_type": "markdown",
   "metadata": {},
   "source": [
    "| Vela     | Horario  | Tipo de cambio | Comentarios |\n",
    "| :------- | :------: | -----:         |  -----:     |\n",
    "|          |          |                |             |\n",
    "|          |          |                |             |"
   ]
  },
  {
   "cell_type": "markdown",
   "metadata": {},
   "source": [
    "## Validación 5"
   ]
  },
  {
   "cell_type": "markdown",
   "metadata": {},
   "source": [
    "![title](images/time5.png)"
   ]
  },
  {
   "cell_type": "markdown",
   "metadata": {},
   "source": [
    "Gráfica 1.5"
   ]
  },
  {
   "cell_type": "markdown",
   "metadata": {},
   "source": [
    "![title](images/graph5.png)"
   ]
  },
  {
   "cell_type": "markdown",
   "metadata": {},
   "source": [
    "Tabla 1.5"
   ]
  },
  {
   "cell_type": "markdown",
   "metadata": {},
   "source": [
    "| Vela     | Horario  | Tipo de cambio | Comentarios |\n",
    "| :------- | :------: | -----:         |  -----:     |\n",
    "|          |          |                |             |\n",
    "|          |          |                |             |"
   ]
  },
  {
   "cell_type": "markdown",
   "metadata": {},
   "source": [
    "## Validación 6"
   ]
  },
  {
   "cell_type": "markdown",
   "metadata": {},
   "source": [
    "![title](images/time6.png)"
   ]
  },
  {
   "cell_type": "markdown",
   "metadata": {},
   "source": [
    "Gráfica 1.6"
   ]
  },
  {
   "cell_type": "markdown",
   "metadata": {},
   "source": [
    "![title](images/graph6.png)"
   ]
  },
  {
   "cell_type": "markdown",
   "metadata": {},
   "source": [
    "Tabla 1.6"
   ]
  },
  {
   "cell_type": "markdown",
   "metadata": {},
   "source": [
    "| Vela     | Horario  | Tipo de cambio | Comentarios |\n",
    "| :------- | :------: | -----:         |  -----:     |\n",
    "|          |          |                |             |\n",
    "|          |          |                |             |"
   ]
  }
 ],
 "metadata": {
  "kernelspec": {
   "display_name": "Python 3",
   "language": "python",
   "name": "python3"
  },
  "language_info": {
   "codemirror_mode": {
    "name": "ipython",
    "version": 3
   },
   "file_extension": ".py",
   "mimetype": "text/x-python",
   "name": "python",
   "nbconvert_exporter": "python",
   "pygments_lexer": "ipython3",
   "version": "3.7.4"
  }
 },
 "nbformat": 4,
 "nbformat_minor": 2
}
