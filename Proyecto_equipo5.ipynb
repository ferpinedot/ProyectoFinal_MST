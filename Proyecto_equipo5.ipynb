{
 "cells": [
  {
   "cell_type": "markdown",
   "metadata": {},
   "source": [
    "<img src=\"http://oci02.img.iteso.mx/identidad_de_instancia_2018/ITESO/Logos%20ITESO/Logo-ITESO-Principal.jpg\">\n"
   ]
  },
  {
   "cell_type": "markdown",
   "metadata": {},
   "source": [
    "<center> <font color= #004A94> <font size = 6> Lic. Ingeniería Financiera </font> <br> <br> <font color= #047CFB> <font size = 4>I.F. María Fernanda Pinedo Talango - if705971@iteso.mx <br> I.F. Francisco Ricardo Rodríguez Ramírez - if705783@iteso.mx <br> I.F. Oscar Eduardo Flores Hernández - if715029@iteso.mx </font>\n",
    "\n",
    " "
   ]
  },
  {
   "cell_type": "markdown",
   "metadata": {},
   "source": [
    "<center><font color= #004A94> <font size = 6> Microestructura y Sistemas de Trading </font> <br> <br>"
   ]
  },
  {
   "cell_type": "markdown",
   "metadata": {},
   "source": [
    "<center><font color=#42c29b><font size=5> Laboratorio 4: Proyecto Final </font> <br> <br>"
   ]
  },
  {
   "cell_type": "markdown",
   "metadata": {},
   "source": [
    "<center> <font color= #047CFB> <font size = 4> Primavera 2020 </font>  |  <font color= #047CFB> <font size = 4> Repositorio: <a href='https://github.com/OscarFlores-IFi/proyecto_equipo5'>https://github.com/OscarFlores-IFi/proyecto_equipo5</a></font>"
   ]
  },
  {
   "cell_type": "markdown",
   "metadata": {},
   "source": [
    "###### <span style=\"font-family:Papyrus; font-size:4em;\"> Resumen "
   ]
  },
  {
   "cell_type": "markdown",
   "metadata": {},
   "source": []
  },
  {
   "cell_type": "markdown",
   "metadata": {},
   "source": []
  },
  {
   "cell_type": "markdown",
   "metadata": {},
   "source": []
  },
  {
   "cell_type": "markdown",
   "metadata": {},
   "source": [
    "###### <span style=\"font-family:Papyrus; font-size:4em;\"> Fed Interest Rate Decision"
   ]
  },
  {
   "cell_type": "markdown",
   "metadata": {},
   "source": [
    "<p style=\"text-align: justify;\"> Las tasas de interés hacen referencia a la cantidad de interés que se debe en un periodo, el cual se representa como un porcentaje anual. Cada país consta de un Banco Central, el cual es el responsable de la política económica del país y ocasionalmente está involucrado en la toma de decisiones sobre las tasas. Las decisiones de un Banco Central, en especial de potencias económicas como lo es, Estados Unidos suelen tener gran impacto en el mercado de divisas, dado que en su anuncio viene implícito el rumbo de la economía. La decisión sobre un aumento, un recorte o el manteneralas son establecidas sobre las condiciones actuales del empleo, inflación e inversiones. </p>\n",
    "<p style=\"text-align: justify;\">Es un indicador muy importante, por lo que los operadores están muy al pendiente de sus anuncios, los cuales están en fechas predefinidas. Estos anuncios suelen afectar las decisiones de los operadores dado que los movimientos en las tasas de interés podrías afectar en varios aspectos del mercado de todas las industrias. \n",
    "Se considera este indicador, dado que las decisiones que toma el sistema de la Reserva Federal de los Estados Unidos, sobre las tasas de interés suelen influir en la economía mundial. Por lo que un movimiento en estas podría afectar tanto la inflación y el crecimiento de la potencia económica que representa este país. \n",
    "Cualquier movimiento en las tasas de interés puede ser influyente, es decir si se decide recortarla, aumentarla o mantenerla. Dado que las decisiones siempre son orientadas con el objetivo de promover el crecimiento económico por lo que cualquiera de estas decisiones afectan al mercado de la siguiente manera. \n",
    "</p>"
   ]
  },
  {
   "cell_type": "markdown",
   "metadata": {},
   "source": [
    "Para comprender el como afectan las decisiones de la Fed, sobre las tasas de interés. Es importante mencionar que la política econóomica de la Reserva Fedderal se basa en el control de la inflación y la promoción del máximo empleo. \n",
    "\n",
    "* Si la tasa de interés sufre un aumento.\n",
    "    * Se suele tomar como una reducción al impulso de la política económica de la economía. \n",
    "* Si la tasa de interés sufre un recorte. \n",
    "    * Se traduce a la busqueda de impulsar la economía, dado que el objetivo es      que los créditos se abaraten.\n",
    "* Si la tasa de interés se mantiene.\n",
    "    * Podría ocasionar movimientos en el mercado si es que los inversionistas         esperaban un cambio.\n"
   ]
  },
  {
   "cell_type": "markdown",
   "metadata": {},
   "source": [
    "<p style=\"text-align: justify;\"> A continuación, se presenta validaciones visuales sobre el comportamiento del Euro en relación con el Dólar en el momento en el que la Fed anuncia la tasa de interés por un lapso de media hora. Para entender las siguientes figuras es preciso destacar lo siguiente. \n",
    "    \n",
    "* Las líneas azules corresponden al periodo de tiempo, desde que se reporta el   indicador hasta que transcurre media hora. \n",
    "* La línea verde corresponde al máximo que se obtuvo en el periodo de media       hora.\n",
    "* La línea roja corresponde al mínimo que se obtuvo en el periodo de media       hora. \n",
    "* Las líneas negras marcan la diferencia entre el máximo y el mínimo o           viceversa.\n",
    "* Las líneas punteadas azules corresponden a la validación de máximos y/o        mínimos.\n"
   ]
  },
  {
   "cell_type": "markdown",
   "metadata": {},
   "source": [
    "###### <span style=\"font-family:Papyrus; font-size:4em;\"> Validaciones visuales\n"
   ]
  },
  {
   "cell_type": "markdown",
   "metadata": {},
   "source": [
    "Los siguientes escenarios se presentaron en la zona horaria 00:00"
   ]
  },
  {
   "cell_type": "markdown",
   "metadata": {},
   "source": [
    "# Escenario 1 "
   ]
  },
  {
   "cell_type": "markdown",
   "metadata": {},
   "source": [
    "La Fed toma la decisión de aumentar la tasa de interés."
   ]
  },
  {
   "cell_type": "markdown",
   "metadata": {},
   "source": [
    "![title](images/time00.PNG)"
   ]
  },
  {
   "cell_type": "markdown",
   "metadata": {},
   "source": [
    "El día 19 de diciembre del 2018 se esperaba que la FED anunciara un aumento en la tasa de interés, dado que anteriormente habían anunciado una tasa de 2.25% en esta ocasión los analistas esperaban un aumento de 25 puntos base. De acuerdo con el calendario económico de FXstreet la tasa de interés sugrió un incremento de 25 puntos base."
   ]
  },
  {
   "cell_type": "markdown",
   "metadata": {},
   "source": [
    "![title](images/graph00.png)"
   ]
  },
  {
   "cell_type": "markdown",
   "metadata": {},
   "source": [
    "<p style=\"text-align: justify;\">De acuerdo con la gráfica 1.1 podemos observar que en el lapso de media hora, una vez se emitió el  reporte sobre las tasa de interés. En este caso el dólar se aprecia frente al euro a raíz de la decisión de la Fed de subir 25 puntos base la tasa de interés. "
   ]
  },
  {
   "cell_type": "markdown",
   "metadata": {},
   "source": [
    "Tabla 1.1\n",
    "\n",
    "| Vela     | Horario  | Tipo de cambio | Comentarios | \n",
    "| :------- | :------: | -----:         |  -----:     |\n",
    "|     1    |   19:00  |     1.14195    |  Máximo     |\n",
    "|     21    |   19:20  |     1.13838    |  Mínimo     |\n",
    "|     31   |   19:30  |     1.13915    |  Final      |\n"
   ]
  },
  {
   "cell_type": "markdown",
   "metadata": {},
   "source": [
    "<p style=\"text-align: justify;\">Observando la gráfica 1.1 y la tabla 1.1 podemos concluir que de acuerdo con la decision de subir la tasa de interés, el dolar se apreció frente al euro, que dentro de un periodo de 30 minutos, el tipo de cambio tocó un mínimo en el minuto 20, durante el tiempo restante el euro recupero algo de valor sin embargo, no fue significativo. Pues como podemos observar la vela final está muy por debajo de la inicial dado que esta tuvo el valor más alto en el periodo de tiempo. Cabe destacar que una vez, se dió el anuncio por parte de la Fed se puede observar un gran movimiento a favor del dólar."
   ]
  },
  {
   "cell_type": "markdown",
   "metadata": {},
   "source": [
    "Tabla 1.2 \n",
    "\n",
    "Tabla 1.6 Escenarios de gancias en pips si abres una operación corta a las 19:00 \n",
    "\n",
    "\n",
    "| Periodo         | Pips.    |\n",
    "| :-------        | :------: | \n",
    "| Inicial - Mínimo|   35.7    |\n",
    "| Inicial - Final |  28   |"
   ]
  },
  {
   "cell_type": "markdown",
   "metadata": {},
   "source": [
    "<p style=\"text-align: justify;\"> De acuerdo con la tabla 1.2, si en el momento del anuncio de la Fed se hubiera tomando una posición corta durante 20 minutos se hubiera alcanzado una ganancia de 35.7 pips. De igual manera, si se hubiera mantendio la posición durante los 30 minutos se obtendría una ganancia de 28 pips. "
   ]
  },
  {
   "cell_type": "markdown",
   "metadata": {},
   "source": [
    "## Diseño empírico de una operación"
   ]
  },
  {
   "cell_type": "markdown",
   "metadata": {},
   "source": [
    "A continuación describiremos que hubiera pasado en caso de abrir una posición corta antes de que se diera el anuncio de la Fed. "
   ]
  },
  {
   "cell_type": "markdown",
   "metadata": {},
   "source": [
    "Escenarios 1.1\n",
    "\n",
    "* Se abre la posición un minuto antes de la publicación de indicador, se coloca un Takeprofit de 30 pips y un Stoploss de 10 pips\n",
    "\n",
    "Tabla 1.3\n",
    "\n",
    "| Apertura de posición|  Se cierra la posición  |Ganacia en Pips| Velas trasncurridas |\n",
    "| :-------:         | :------:                | :----:        |   :-----------:     |\n",
    "|    1.14364          |    1.1395          |    32.8        |        3           |\n",
    "\n",
    "\n",
    "* Se abre la posición un minuto antes de la publicación de indicador, se coloca un Takeprofit de 50 pips y un Stoploss de 10 pips\n",
    "\n",
    "Tabla 1.\n",
    "\n",
    "| Apertura de posición|  Se cierra la posición  |Ganacia en Pips| Velas trasncurridas |\n",
    "| :-------:         | :------:                | :----:        |   :-----------:     |\n",
    "|    1.14364          |    1.13844              |    52         |        20             |\n",
    "\n"
   ]
  },
  {
   "cell_type": "markdown",
   "metadata": {},
   "source": [
    "\n",
    "# Escenario 2\n",
    "\n",
    "<p style=\"text-align: justify;\"> La Fed toma la decisión de mantener la tasa de interés\n",
    "    "
   ]
  },
  {
   "cell_type": "markdown",
   "metadata": {},
   "source": [
    "![title](images/time002.PNG)"
   ]
  },
  {
   "cell_type": "markdown",
   "metadata": {},
   "source": [
    "<p style=\"text-align: justify;\">El día 19 de junio del 2019 se esperaba el reporte de la Fed sobre las tasas de interés, en el periodo anterior se había reportado una tasa de 2.5%  y para este anuncio se esperaba por parte de los analistas que la tasa no sufrieran algún movimiento. De acuerdo con el calendario económico de FXstreet la tasa de interés anunciada por la Fed se mantuvo."
   ]
  },
  {
   "cell_type": "markdown",
   "metadata": {},
   "source": [
    "Gráfica 1.2"
   ]
  },
  {
   "cell_type": "markdown",
   "metadata": {},
   "source": [
    "![title](images/Graph01.png)"
   ]
  },
  {
   "cell_type": "markdown",
   "metadata": {},
   "source": [
    "<p style=\"text-align: justify;\">"
   ]
  },
  {
   "cell_type": "markdown",
   "metadata": {},
   "source": [
    "<p style=\"text-align: justify;\">De acuerdo con la gráfica 1.2 podemos observarque en el lapso de media hora, una vez se emitió el  reporte sobre las tasas de interés. En este caso el euro se vio fortalecido frente al dólar a raíz de la decisión de manter constante la tasa de interés. "
   ]
  },
  {
   "cell_type": "markdown",
   "metadata": {},
   "source": [
    "Tabla 1.5"
   ]
  },
  {
   "cell_type": "markdown",
   "metadata": {},
   "source": [
    "| Vela     | Horario  | Tipo de cambio | Comentarios |\n",
    "| :------- | :------: | -----:         |  -----:     |\n",
    "|     1    |   18:00  |     1.12283    |  Vela inicial   |\n",
    "|     7    |   18:06  |     1.12500    |  Máximo     |\n",
    "|    31    |   18:30  |     1.12468    |  Vela final |"
   ]
  },
  {
   "cell_type": "markdown",
   "metadata": {},
   "source": [
    "<p style=\"text-align: justify;\">Observando la gráfica 1.2 y la tabla 1.5 podemos concluir que de acuerdo con la decision de mantener la tasa de interés, el dolar se debilitó frente al euro, que dentro de un periodo de 30 minutos, el tipo de cambio alcanzó su máximo en la minuto 6 y posteriormente tomó una tendencia a la baja durante 15 minutos para después recuperar valor a favor del euro. Cabe destacar que se manifestó un movimiento brusco a la 18:00 es decir en momento que en teoría se anunció la decisión de la Fed, el euro se vió favorecido. "
   ]
  },
  {
   "cell_type": "markdown",
   "metadata": {},
   "source": [
    "Tabla 1.6 \n",
    "\n",
    "Escenarios de gancias en pips si abres una operación larga a las 18:00 \n",
    "\n",
    "| Periodo     | Pips.    |\n",
    "| :------- | :------: | \n",
    "| Inicial - Máximo|    21.7      | \n",
    "| Inicial - Vela final |  18.5        | "
   ]
  },
  {
   "cell_type": "markdown",
   "metadata": {},
   "source": [
    "<p style=\"text-align: justify;\">De acuerdo con la tabla 1.6, si en el momento del anuncio de la Fed se hubiera tomando una posición larga durante 6 minutos se hubiera alcanzado una ganancia de 21.7 pips. De igual manera, si se hubiera mantendio la misma posición durante los 30 minutos se obtendría una ganancia de 18.5 pips. "
   ]
  },
  {
   "cell_type": "markdown",
   "metadata": {},
   "source": [
    "## Diseño empírico de una operación"
   ]
  },
  {
   "cell_type": "markdown",
   "metadata": {},
   "source": [
    "A continuación describiremos que hubiera pasado en caso de abrir una posición larga un minuto antes de que se diera el anuncio de la Fed."
   ]
  },
  {
   "cell_type": "markdown",
   "metadata": {},
   "source": [
    "Escenarios 1.2\n",
    "\n",
    "* Se abre la posición un minuto antes de la publicación de indicador, se coloca un Takeprofit de 10 pips y un Stoploss de 10 pips\n",
    "\n",
    "Tabla 1.7\n",
    "\n",
    "| Apertura de posición|  Se cierra la posición  |Ganacia en Pips| Velas trasncurridas |\n",
    "| :-------:         | :------:                | :----:        |   :-----------:     |\n",
    "|   1.12215          | 1.12338        |    12.3       |        2         |\n",
    "\n",
    "\n",
    "* Se abre la posición un minuto antes de la publicación de indicador, se coloca un Takeprofit de 50 pips y un Stoploss de 10 pips\n",
    "\n",
    "Tabla 1.8\n",
    "\n",
    "| Apertura de posición|  Se cierra la posición  |Ganacia en Pips| Velas trasncurridas |\n",
    "| :-------:         | :------:                | :----:        |   :-----------:     |\n",
    "|    1.12215         |    N/A              |    0        |        30             |\n",
    "\n",
    "En este caso no se ejectuó la orden dado que en el periodo de 30 minutos no se llega a a alcanzar la ganancia de 50 pips, lo máximo que su pudo haber alcanzado fue una ganancia de 28.5 pips en un transcurso de media hora.\n"
   ]
  },
  {
   "cell_type": "markdown",
   "metadata": {},
   "source": [
    "# Escenario 3"
   ]
  },
  {
   "cell_type": "markdown",
   "metadata": {},
   "source": [
    "La Fed toma la decisión de recortar la tasa de interés"
   ]
  },
  {
   "cell_type": "markdown",
   "metadata": {},
   "source": [
    "![title](images/time03.PNG)"
   ]
  },
  {
   "cell_type": "markdown",
   "metadata": {},
   "source": [
    "<p style=\"text-align: justify;\">El día 31 de julio del 2019, se esperaba el reporte de la Fed, conocemos que anteriormente se había mantenido la tasa de interés en 2.5%, sin embargo la expectativa de los análistas indicaba que este periodo se reportaría algún recorte en las tasas de interés. En esta ocasión  de acuerdo con el calendario económico de FXStreet, la Fed reportó un recorte de 25 puntos base, es decir en este caso se estableció la tasa de interés en 2.25%. "
   ]
  },
  {
   "cell_type": "markdown",
   "metadata": {},
   "source": [
    "Gráfica 1.3"
   ]
  },
  {
   "cell_type": "markdown",
   "metadata": {},
   "source": [
    "![title](images/Graph02.png)"
   ]
  },
  {
   "cell_type": "markdown",
   "metadata": {},
   "source": [
    " De acuerdo con la gráfica 1.3, podemos observar como a raíz del recorte de la tasa de interés el euro se depreció frente al dolar, es decir en la gráfica podemos notar una tendencia bajista en cuanto al tipo de cambio eur/usd.  "
   ]
  },
  {
   "cell_type": "markdown",
   "metadata": {},
   "source": [
    "Tabla 1.9"
   ]
  },
  {
   "cell_type": "markdown",
   "metadata": {},
   "source": [
    "| Vela     | Horario  | Tipo de cambio | Comentarios |\n",
    "| :------- | :------: | -----:         |  -----:     |\n",
    "|    1     | 18:00    |1.11264         |Máximo       |\n",
    "|    4     | 18:03    |1.10983         |Mínimo       |\n",
    "|   31     | 18:30    |1.11122         |Vela final|"
   ]
  },
  {
   "cell_type": "markdown",
   "metadata": {},
   "source": [
    "<p style=\"text-align: justify;\"> Observando la gráfica 1.3 y la tabla 1.9 podemos conlcuir que de acuerdo con la decisión de la Fed de recortar las tasas de interés, el dólar se vió favorecido frente al euro. Que a raíz de la publicación del indicador el tipo de cambio tomo una tendencia a la baja en donde el dolar se ve fortalecido, en el periodo de 30 minutos el valor máximo se encuentra en el inicio del periodo, después de este, el valor mínimo es alcanzado en el minuto 3, como se puede observar en la gráfica 1.2 el tipo de cambio no recupero su valor inicial. En conclusión, en esta ocasión la decisión de recortar la tasa de interés el dólar se vió fortalecido frente al euro."
   ]
  },
  {
   "cell_type": "markdown",
   "metadata": {},
   "source": [
    "Tabla 1.10\n",
    "\n",
    "Escenarios de gancias en pips si abres una posición corta a las 18:00 \n",
    "\n",
    "| Periodo         | Pips.    |\n",
    "| :-------        | :------: |  \n",
    "| Inicial - Mínimo|   28.1    |\n",
    "| Inicial - Final|    14.2  |"
   ]
  },
  {
   "cell_type": "markdown",
   "metadata": {},
   "source": [
    "<p style=\"text-align: justify;\">De acuerdo con la tabla 1.10, si en el momento del anuncio de la Fed se hubiera tomando una posición corta durante 4 minutos se hubiera alcanzado una ganancia de 28.1 pips. De igual manera, si se hubiera mantendio la misma posición durante los 30 minutos se obtendría una ganancia de 14.2 pips. "
   ]
  },
  {
   "cell_type": "markdown",
   "metadata": {},
   "source": [
    "## Diseño empírico de una operación\n",
    "\n",
    "A continuación describiremos que hubiera pasado en caso de abrir una posición corta antes de que se diera el anuncio de la Fed."
   ]
  },
  {
   "cell_type": "markdown",
   "metadata": {},
   "source": [
    "Escenarios 1.4\n",
    "\n",
    "* Se abre la posición un minuto antes de la publicación de indicador, se coloca un Takeprofit de 20 pips y un Stoploss de 10 pips\n",
    "\n",
    "Tabla 1.11\n",
    "\n",
    "| Apertura de posición|  Se cierra la posición  |Ganacia en Pips| Velas trasncurridas |\n",
    "| :-------:         | :------:                | :----:        |   :-----------:     |\n",
    "|   1.11378          | 1.11169       |    24.8      |        2         |\n",
    "\n",
    "\n",
    "* Se abre la posición un minuto antes de la publicación de indicador, se coloca un Takeprofit de 35 pips y un Stoploss de 10 pips\n",
    "\n",
    "Tabla 1.12\n",
    "\n",
    "| Apertura de posición|  Se cierra la posición  |Ganacia en Pips| Velas trasncurridas |\n",
    "| :-------:         | :------:                | :----:        |   :-----------:     |\n",
    "|    1.11378        |    1.11130              |    39.5       |        4             |"
   ]
  },
  {
   "cell_type": "markdown",
   "metadata": {},
   "source": [
    "# Escenario 4"
   ]
  },
  {
   "cell_type": "markdown",
   "metadata": {},
   "source": [
    "La Fed toma la decisón de recortar la tasa de interés"
   ]
  },
  {
   "cell_type": "markdown",
   "metadata": {},
   "source": [
    "![title](images/time04.PNG)"
   ]
  },
  {
   "cell_type": "markdown",
   "metadata": {},
   "source": [
    "<p style=\"text-align: justify;\">El día 18 de septiembre del 2019 se esperaba el reporte de la Fed sobre las tasas de interés, en el periodo anterior se había reportado una tasa de 2.25%  y para este anuncio se esperaba por parte de los analistas que las tasas sufrieran un recort. De acuerdo con el calendario económico de FXstreet la Fed tomó la decisión de recortar la tasa de interés."
   ]
  },
  {
   "cell_type": "markdown",
   "metadata": {},
   "source": [
    "Gráfica 1.4"
   ]
  },
  {
   "cell_type": "markdown",
   "metadata": {},
   "source": [
    "![title](images/Graph03.png)"
   ]
  },
  {
   "cell_type": "markdown",
   "metadata": {},
   "source": [
    "De acuerdo con la gráfica 1.4, podemos observar como a raíz del recorte de la tasa de interés el euro se depreció frente al dolar, es decir en la gráfica podemos notar una tendencia bajista en cuanto al tipo de cambio eur/usd."
   ]
  },
  {
   "cell_type": "markdown",
   "metadata": {},
   "source": [
    "Tabla 1.12"
   ]
  },
  {
   "cell_type": "markdown",
   "metadata": {},
   "source": [
    "| Vela     | Horario  | Tipo de cambio | Comentarios |\n",
    "| :------- | :------: | -----:         |  -----:     |\n",
    "|   1      |  18:00   |    1.10612     | Máximo     |\n",
    "|   17     |  18:16   |    1.10287     | Mínimo     |\n",
    "|   31     |  18:30   |    1.10338     | Vela Final |"
   ]
  },
  {
   "cell_type": "markdown",
   "metadata": {},
   "source": [
    "<p style=\"text-align: justify;\"> Observando la gráfica 1.4 y la Tabla 1.7 podemos conlcuir que de acuerdo con la decisión de la Fed de recortar las tasas de interés, el dólar se vió favorecido frente al euro. Que a raíz de la publicación del indicador el tipo de cambio tomo una tendencia a la baja, en el periodo de 30 minutos el valor máximo se encuentra en el inicio del periodo, después de este, el valor mínimo es alcanzado en el minuto 16, como se puede observar en la gráfica 1.4 el tipo de cambio no recupero su valor inicial. En conclusión, en nuevamente la decisión de recortar la tasa de interés el dólar se vió fortalecido frente al euro."
   ]
  },
  {
   "cell_type": "markdown",
   "metadata": {},
   "source": [
    "Tabla 1.13\n",
    "\n",
    "\n",
    "Escenarios de gancias en pips si abres una posición corta a las 18:00 \n",
    "\n",
    "\n",
    "| Periodo         | Pips.    |\n",
    "| :-------        | :------: |  \n",
    "| Inicial - Mínimo|  32.5    |\n",
    "| Inicial - Final |  27.4    |"
   ]
  },
  {
   "cell_type": "markdown",
   "metadata": {},
   "source": [
    "<p style=\"text-align: justify;\">De acuerdo con la tabla 1.13, si en el momento del anuncio de la Fed se hubiera tomando una posición corta durante 17 minutos se hubiera alcanzado una ganancia de 28.1 pips. De igual manera, si se hubiera mantendio la misma posición durante los 30 minutos se obtendría una ganancia de 27.4 pips. "
   ]
  },
  {
   "cell_type": "markdown",
   "metadata": {},
   "source": [
    "## Diseño empírico de una operación\n",
    "\n",
    "A continuación describiremos que hubiera pasado en caso de abrir una posición corta antes de que se diera el anuncio de la Fed."
   ]
  },
  {
   "cell_type": "markdown",
   "metadata": {},
   "source": [
    "Escenarios 1.4\n",
    "\n",
    "* Se abre la posición un minuto antes de la publicación de indicador, se coloca un Takeprofit de 30 pips y un Stoploss de 10 pips\n",
    "\n",
    "Tabla 1.11\n",
    "\n",
    "| Apertura de posición|  Se cierra la posición  |Ganacia en Pips| Velas trasncurridas |\n",
    "| :-------:         | :------:                | :----:        |   :-----------:     |\n",
    "|   1.10655          | 1.10350       |    30      |        14         |\n",
    "\n",
    "\n",
    "* Se abre la posición un minuto antes de la publicación de indicador, se coloca un Takeprofit de 35 pips y un Stoploss de 10 pips\n",
    "\n",
    "Tabla 1.12\n",
    "\n",
    "| Apertura de posición|  Se cierra la posición  |Ganacia en Pips| Velas trasncurridas |\n",
    "| :-------:         | :------:             | :----:        |   :-----------:     |\n",
    "|    1.10655        |    1.10295              |    36      |        16           |"
   ]
  },
  {
   "cell_type": "markdown",
   "metadata": {},
   "source": [
    "# Escenario 5 \n",
    "La Fed toma la decisón de mantener la tasa de interés"
   ]
  },
  {
   "cell_type": "markdown",
   "metadata": {},
   "source": [
    "![title](images/time05.PNG)"
   ]
  },
  {
   "cell_type": "markdown",
   "metadata": {},
   "source": [
    "Gráfica 1.5"
   ]
  },
  {
   "cell_type": "markdown",
   "metadata": {},
   "source": [
    "![title](images/Graph05.png)"
   ]
  },
  {
   "cell_type": "markdown",
   "metadata": {},
   "source": [
    "De acuerdo con la gráfica 1.5, podemos observar como a raíz la decisión de mantener las tasa de interés,  el euro se vió fortalecido frente al dolar, es decir podemos en la gráfica podemos observar la tendencia alcista que toma el tipo de cambio a favor del euro."
   ]
  },
  {
   "cell_type": "markdown",
   "metadata": {},
   "source": [
    "Tabla 1.14"
   ]
  },
  {
   "cell_type": "markdown",
   "metadata": {},
   "source": [
    "| Vela     | Horario  | Tipo de cambio | Comentarios |\n",
    "| :------- | :------: | -----:         |  -----:     |\n",
    "|   1      | 19:00    | 1.10023        |  Vela inicial     |\n",
    "|   5      | 19:04    | 1.09995        |  Mínimo    |\n",
    "|   28     | 19:27    | 1.10081        |  Máximo     |\n",
    "|   31     | 19:30    | 1.10079        |  Vela final |"
   ]
  },
  {
   "cell_type": "markdown",
   "metadata": {},
   "source": [
    "<p style=\"text-align: justify;\"> Observando la gráfica 1.5 y la tabla 1.14 podemos conlcuir que de acuerdo con la decisión de la Fed de mantenerlas tasas de interés, el euro se vió favorecido frente al dolar. Que a raíz de la publicación del indicador el tipo de cambio tomo una tendencia alcista, en el periodo de 30 minutos el valor mínimo se da en el 4 para después tomar una tendencia alcista en donde toca el  máximo en el minuto 27, En conclusión, la decisión de mantener las tasas de interés favoreció al euro."
   ]
  },
  {
   "cell_type": "markdown",
   "metadata": {},
   "source": [
    "Tabla 1.15\n",
    "\n",
    "\n",
    "Escenarios de gancias en pips si abres una posición larga a las 19:00 \n",
    "\n",
    "\n",
    "| Periodo         | Pips.    |\n",
    "| :-------        | :------: |  \n",
    "| Inicial - Máximo| 5.8    |\n",
    "| Inicial - Mínimo| 2.8  |\n",
    "| Inicial - Final|  5.6   |"
   ]
  },
  {
   "cell_type": "markdown",
   "metadata": {},
   "source": [
    "<p style=\"text-align: justify;\">De acuerdo con la tabla 1.15, si en el momento del anuncio de la Fed se hubiera tomando una posición larga durante 26 minutos se hubiera alcanzado una ganancia de 5.8 pips. De igual manera, si se hubiera mantendio la posición durante los 30 minutos se obtendría una ganancia de 5.6 pips. "
   ]
  },
  {
   "cell_type": "markdown",
   "metadata": {},
   "source": [
    "## Diseño empírico de una operación\n",
    "\n",
    "A continuación describiremos que hubiera pasado en caso de abrir una posición larga antes de que se diera el anuncio de la Fed."
   ]
  },
  {
   "cell_type": "markdown",
   "metadata": {},
   "source": [
    "Escenarios 1.5\n",
    "\n",
    "* Se abre la posición un minuto antes de la publicación de indicador, se coloca un Takeprofit de 30 pips y un Stoploss de 5 pips\n",
    "\n",
    "Tabla 1.16\n",
    "\n",
    "| Apertura de posición|  Se cierra la posición  |Ganacia en Pips| Velas trasncurridas |\n",
    "| :-------:         | :------:                | :----:        |   :-----------:     |\n",
    "|   1.10023          |         N/A         |    0      |        31         |\n",
    "\n",
    "En este caso no se ejectuó la orden dado que en el periodo de 30 minutos no se llega a a alcanzar la ganancia de 30 pips, lo máximo que su pudo haber alcanzado fue una ganancia de 5.8 pips en un transcurso de 28 minutos.\n",
    "\n",
    "* Se abre la posición un minuto antes de la publicación de indicador, se coloca un Takeprofit de 35 pips y un Stoploss de 10 pips\n",
    "\n",
    "Tabla 1.17\n",
    "\n",
    "| Apertura de posición|  Se cierra la posición  |Ganacia en Pips| Velas trasncurridas |\n",
    "| :-------:         | :------:             | :----:        |   :-----------:     |\n",
    "|    1.10023        |    N/A           |    0     |        31          |\n",
    "\n",
    "En este caso no se ejectuó la orden dado que en el periodo de 30 minutos no se llega a a alcanzar la ganancia de 30 pips, lo máximo que su pudo haber alcanzado fue una ganancia de 5.8 pips en un transcurso de 28 minutos."
   ]
  },
  {
   "cell_type": "markdown",
   "metadata": {},
   "source": [
    "###### <span style=\"font-family:Papyrus; font-size:4em;\"> Aspectos Estadísticos/Matemáticos"
   ]
  },
  {
   "cell_type": "markdown",
   "metadata": {},
   "source": [
    "## Caracterización econométrica"
   ]
  },
  {
   "cell_type": "markdown",
   "metadata": {},
   "source": [
    "<font size =3> Para tener un mejor entendimiento del comportamiento del Indicador escogido y mencionado anteriormente, se realiza un análisis estadístico/matemático basado en la metodología de **Box-Jenkins**. En donde el indicador pasa por una serie de diferentes pruebas para poder determinar características y propiedades de la serie de tiempo, como lo son la autocorrelación y la autocorrelación parcial, la heterocedasticidad, la normalidad, estacionalidad, estacionariedad y la detección de valores atípicos, para posteriormente, tomando en cuenta estas características, se pueda armar una mejor estrategia de trading."
   ]
  },
  {
   "cell_type": "code",
   "execution_count": 1,
   "metadata": {},
   "outputs": [],
   "source": [
    "# Descarga de librerías a utilizar\n",
    "\n",
    "import funciones as fn\n",
    "import visualizaciones as vn\n",
    "import datos as dt\n",
    "import entradas as et\n",
    "\n",
    "import pandas as pd\n",
    "import numpy as np\n",
    "import statsmodels.api as sm\n",
    "from statsmodels.tsa.stattools import adfuller\n",
    "from statsmodels.stats.diagnostic import het_breuschpagan \n",
    "import statsmodels.stats.diagnostic as smd\n",
    "import scipy.stats\n",
    "from scipy.stats import shapiro\n",
    "from scipy.stats import normaltest\n",
    "\n",
    "import matplotlib.pyplot as plt\n",
    "from statsmodels.graphics.tsaplots import plot_acf\n",
    "from statsmodels.graphics.tsaplots import plot_pacf\n",
    "from statsmodels.graphics.gofplots import qqplot\n",
    "from statsmodels.tsa.seasonal import seasonal_decompose\n",
    "import statsmodels.api as sm\n",
    "from statsmodels.tsa.seasonal import STL\n",
    "\n",
    "from statsmodels.tsa.arima_model import ARIMA\n",
    "from pandas.plotting import register_matplotlib_converters\n",
    "register_matplotlib_converters()\n",
    "\n",
    "import warnings\n",
    "warnings.filterwarnings('ignore')"
   ]
  },
  {
   "cell_type": "code",
   "execution_count": 2,
   "metadata": {},
   "outputs": [],
   "source": [
    "# Lectura del archivo excel con el indicador\n",
    "\n",
    "datos = fn.f_leer_archivo(param_archivo = 'archivos/FedInterestRateDecision-UnitedStates.xlsx', sheet_name= 0)"
   ]
  },
  {
   "cell_type": "code",
   "execution_count": 3,
   "metadata": {},
   "outputs": [
    {
     "data": {
      "text/html": [
       "<div>\n",
       "<style scoped>\n",
       "    .dataframe tbody tr th:only-of-type {\n",
       "        vertical-align: middle;\n",
       "    }\n",
       "\n",
       "    .dataframe tbody tr th {\n",
       "        vertical-align: top;\n",
       "    }\n",
       "\n",
       "    .dataframe thead th {\n",
       "        text-align: right;\n",
       "    }\n",
       "</style>\n",
       "<table border=\"1\" class=\"dataframe\">\n",
       "  <thead>\n",
       "    <tr style=\"text-align: right;\">\n",
       "      <th></th>\n",
       "      <th>datetime</th>\n",
       "      <th>actual</th>\n",
       "      <th>consensus</th>\n",
       "      <th>previous</th>\n",
       "    </tr>\n",
       "  </thead>\n",
       "  <tbody>\n",
       "    <tr>\n",
       "      <th>0</th>\n",
       "      <td>2020-01-29 19:00:00</td>\n",
       "      <td>1.75</td>\n",
       "      <td>1.75</td>\n",
       "      <td>1.75</td>\n",
       "    </tr>\n",
       "    <tr>\n",
       "      <th>1</th>\n",
       "      <td>2019-12-11 19:00:00</td>\n",
       "      <td>1.75</td>\n",
       "      <td>1.75</td>\n",
       "      <td>1.75</td>\n",
       "    </tr>\n",
       "    <tr>\n",
       "      <th>2</th>\n",
       "      <td>2019-10-30 18:00:00</td>\n",
       "      <td>1.75</td>\n",
       "      <td>1.75</td>\n",
       "      <td>2.00</td>\n",
       "    </tr>\n",
       "    <tr>\n",
       "      <th>3</th>\n",
       "      <td>2019-09-18 18:00:00</td>\n",
       "      <td>2.00</td>\n",
       "      <td>2.00</td>\n",
       "      <td>2.25</td>\n",
       "    </tr>\n",
       "    <tr>\n",
       "      <th>4</th>\n",
       "      <td>2019-07-31 18:00:00</td>\n",
       "      <td>2.25</td>\n",
       "      <td>2.25</td>\n",
       "      <td>2.50</td>\n",
       "    </tr>\n",
       "    <tr>\n",
       "      <th>5</th>\n",
       "      <td>2019-06-19 18:00:00</td>\n",
       "      <td>2.50</td>\n",
       "      <td>2.50</td>\n",
       "      <td>2.50</td>\n",
       "    </tr>\n",
       "    <tr>\n",
       "      <th>6</th>\n",
       "      <td>2019-05-01 18:00:00</td>\n",
       "      <td>2.50</td>\n",
       "      <td>2.50</td>\n",
       "      <td>2.50</td>\n",
       "    </tr>\n",
       "    <tr>\n",
       "      <th>7</th>\n",
       "      <td>2019-03-20 18:00:00</td>\n",
       "      <td>2.50</td>\n",
       "      <td>2.50</td>\n",
       "      <td>2.50</td>\n",
       "    </tr>\n",
       "    <tr>\n",
       "      <th>8</th>\n",
       "      <td>2019-01-30 19:00:00</td>\n",
       "      <td>2.50</td>\n",
       "      <td>2.50</td>\n",
       "      <td>2.50</td>\n",
       "    </tr>\n",
       "    <tr>\n",
       "      <th>9</th>\n",
       "      <td>2018-12-19 19:00:00</td>\n",
       "      <td>2.50</td>\n",
       "      <td>2.50</td>\n",
       "      <td>2.25</td>\n",
       "    </tr>\n",
       "    <tr>\n",
       "      <th>10</th>\n",
       "      <td>2018-11-08 19:00:00</td>\n",
       "      <td>2.25</td>\n",
       "      <td>2.25</td>\n",
       "      <td>2.25</td>\n",
       "    </tr>\n",
       "    <tr>\n",
       "      <th>11</th>\n",
       "      <td>2018-09-26 18:00:00</td>\n",
       "      <td>2.25</td>\n",
       "      <td>2.25</td>\n",
       "      <td>2.00</td>\n",
       "    </tr>\n",
       "    <tr>\n",
       "      <th>12</th>\n",
       "      <td>2018-08-01 18:00:00</td>\n",
       "      <td>2.00</td>\n",
       "      <td>2.00</td>\n",
       "      <td>2.00</td>\n",
       "    </tr>\n",
       "    <tr>\n",
       "      <th>13</th>\n",
       "      <td>2018-06-13 18:00:00</td>\n",
       "      <td>2.00</td>\n",
       "      <td>2.00</td>\n",
       "      <td>1.75</td>\n",
       "    </tr>\n",
       "    <tr>\n",
       "      <th>14</th>\n",
       "      <td>2018-05-02 18:00:00</td>\n",
       "      <td>1.75</td>\n",
       "      <td>1.75</td>\n",
       "      <td>1.75</td>\n",
       "    </tr>\n",
       "    <tr>\n",
       "      <th>15</th>\n",
       "      <td>2018-03-21 18:00:00</td>\n",
       "      <td>1.75</td>\n",
       "      <td>1.75</td>\n",
       "      <td>1.50</td>\n",
       "    </tr>\n",
       "    <tr>\n",
       "      <th>16</th>\n",
       "      <td>2018-01-31 19:00:00</td>\n",
       "      <td>1.50</td>\n",
       "      <td>1.50</td>\n",
       "      <td>1.50</td>\n",
       "    </tr>\n",
       "    <tr>\n",
       "      <th>17</th>\n",
       "      <td>2017-12-13 19:00:00</td>\n",
       "      <td>1.50</td>\n",
       "      <td>1.50</td>\n",
       "      <td>1.25</td>\n",
       "    </tr>\n",
       "    <tr>\n",
       "      <th>18</th>\n",
       "      <td>2017-11-01 18:00:00</td>\n",
       "      <td>1.25</td>\n",
       "      <td>1.25</td>\n",
       "      <td>1.25</td>\n",
       "    </tr>\n",
       "    <tr>\n",
       "      <th>19</th>\n",
       "      <td>2017-09-20 18:00:00</td>\n",
       "      <td>1.25</td>\n",
       "      <td>1.25</td>\n",
       "      <td>1.25</td>\n",
       "    </tr>\n",
       "  </tbody>\n",
       "</table>\n",
       "</div>"
      ],
      "text/plain": [
       "              datetime  actual  consensus  previous\n",
       "0  2020-01-29 19:00:00    1.75       1.75      1.75\n",
       "1  2019-12-11 19:00:00    1.75       1.75      1.75\n",
       "2  2019-10-30 18:00:00    1.75       1.75      2.00\n",
       "3  2019-09-18 18:00:00    2.00       2.00      2.25\n",
       "4  2019-07-31 18:00:00    2.25       2.25      2.50\n",
       "5  2019-06-19 18:00:00    2.50       2.50      2.50\n",
       "6  2019-05-01 18:00:00    2.50       2.50      2.50\n",
       "7  2019-03-20 18:00:00    2.50       2.50      2.50\n",
       "8  2019-01-30 19:00:00    2.50       2.50      2.50\n",
       "9  2018-12-19 19:00:00    2.50       2.50      2.25\n",
       "10 2018-11-08 19:00:00    2.25       2.25      2.25\n",
       "11 2018-09-26 18:00:00    2.25       2.25      2.00\n",
       "12 2018-08-01 18:00:00    2.00       2.00      2.00\n",
       "13 2018-06-13 18:00:00    2.00       2.00      1.75\n",
       "14 2018-05-02 18:00:00    1.75       1.75      1.75\n",
       "15 2018-03-21 18:00:00    1.75       1.75      1.50\n",
       "16 2018-01-31 19:00:00    1.50       1.50      1.50\n",
       "17 2017-12-13 19:00:00    1.50       1.50      1.25\n",
       "18 2017-11-01 18:00:00    1.25       1.25      1.25\n",
       "19 2017-09-20 18:00:00    1.25       1.25      1.25"
      ]
     },
     "execution_count": 3,
     "metadata": {},
     "output_type": "execute_result"
    }
   ],
   "source": [
    "datos.head(20)"
   ]
  },
  {
   "cell_type": "markdown",
   "metadata": {},
   "source": [
    "<font size =3> En la gráfica siguiente se observa el valor actual del cambio de las tasas de interés de la Reserva Federal de Estados Unidos a través del tiempo, con un período de tiempo de once años, desde el año 2009 hasta el 2020."
   ]
  },
  {
   "cell_type": "code",
   "execution_count": 4,
   "metadata": {},
   "outputs": [
    {
     "data": {
      "image/png": "[encoded data removed]",
      "text/plain": [
       "<Figure size 432x288 with 1 Axes>"
      ]
     },
     "metadata": {
      "needs_background": "light"
     },
     "output_type": "display_data"
    }
   ],
   "source": [
    "vn.v_indicador_orig(datos)"
   ]
  },
  {
   "cell_type": "markdown",
   "metadata": {},
   "source": [
    "<font size =3>  Por medio de la gráfica siguiente, se puede observar que el indicador no tiene una media móvil constante, así como su desviación estándar tampoco es constante, por lo que no será una serie estacionaria, y se confirmará más adelante haciéndole la prueba de Dickey-Fuller."
   ]
  },
  {
   "cell_type": "code",
   "execution_count": 5,
   "metadata": {},
   "outputs": [
    {
     "data": {
      "image/png": "[encoded data removed]",
      "text/plain": [
       "<Figure size 432x288 with 1 Axes>"
      ]
     },
     "metadata": {
      "needs_background": "light"
     },
     "output_type": "display_data"
    }
   ],
   "source": [
    "vn.v_rmrdsv_original(datos)"
   ]
  },
  {
   "cell_type": "markdown",
   "metadata": {},
   "source": [
    "<font size =3> La metodología de **Box Jenkins**, se divide principalmente en tres etapas:\n",
    "1. Identificación\n",
    "2. Estimación\n",
    "3. Diagnóstico del modelo\n",
    "<br>\n",
    "    En este caso, únicamente se utilizarán las primeras dos partes del modelo, la identificación del mismo y la estimación, en donde en la primera parte utilizaremos pruebas que se mencionarán más adelante para tener una estimación del tipo de serie con el se estará tratando para crear la estrategia de trading a lo largo del proyecto."
   ]
  },
  {
   "cell_type": "markdown",
   "metadata": {},
   "source": [
    "# 1. Identificación del modelo"
   ]
  },
  {
   "cell_type": "markdown",
   "metadata": {},
   "source": [
    "<font size =3> En esta primera etapa de la metodología del modelo Box-Jenkins, el primer paso es analizar la estacionariedad de la serie, como se observó en las gráficas anteriores, la serie no parece ser estacionaria a simple vista, por lo que a continuación se le aplicará la prueba de Dickey-Fuller para verificar esta observación con respecto al valor actual del indicador. Posterior al análisis de estacionariedad, para la identificación del modelo, es igualmente necesario checar el factor de autocorrelación y autocorrelación de la serie ya estacionaria para poder en un futuro usar de guía ambas gráficas para determinar los valores *p* y *q* del modelo, así como la estacionalidad para determinar si existe algún factor estacional dentro de la misma serie."
   ]
  },
  {
   "cell_type": "markdown",
   "metadata": {},
   "source": [
    "## Estacionariedad"
   ]
  },
  {
   "cell_type": "markdown",
   "metadata": {},
   "source": [
    "<font size =3> Estacionariedad es cuando la distribución de probabilidad en un instante de tiempo fijo es la misma para todos los instantes de tiempo o posiciones. Para que se diga que una serie es estacionaria, es porque su media y volatilidad permanecen constantes.\n",
    "<br>\n",
    "Para hacer la prueba de estacionariedad, se realizó de manera matemática la **Prueba Aumentada de Dickey-Fuller** para esta serie de tiempo, en donde:\n",
    "<br>\n",
    "\n",
    "\\begin{equation*}\n",
    "H_0 = Presencia de Raiz Unitaria\n",
    "\\end{equation*}\n",
    "<br>\n",
    "\\begin{equation*}\n",
    "H_1 = No hay Presencia de Raiz Unitaria\n",
    "\\end{equation*}\n",
    "<br>\n",
    "    \n",
    "Siendo que la hipótesis nula, al tener presencia de raíz unitaria es *no estacionaria*, por lo que su media y volatilidad no son constates, por otro lado, la hipótesis alternativa indica que al no tener presencia de raíz unitaria, la serie de tiempo se considera *estacionaria*.\n",
    "<br>\n",
    "Para ser un poco más claros, la raíz unitaria, ya mencionada antes es una característica de los procesos en modelos de series de tiempo, es una tendencia estocástica en la misma.\n",
    "<br>\n",
    "En la prueba realizada a los valores actuales del indicador, el resultado fue un *p-value* mucho mayor al valor asignado a alfa de 0.05\n",
    "<br>\n",
    "    \n",
    "\\begin{equation*}\n",
    "p-value > \\alpha\n",
    "\\end{equation*}\n",
    "<br>\n",
    "Por lo que existe presencia de una raíz unitaria, siendo así que la serie de tiempo de las tasas de interés de Estados Unidos se trata de una serie no estacionaria."
   ]
  },
  {
   "cell_type": "markdown",
   "metadata": {},
   "source": [
    "<font size =3>  La prueba matemática utilizada, como se menciona anteriormente es la prueba aumentada de **Dickey-Fuller**, la cual evalúa la presencia de raíz unitaria en la serie de datos. El resultado de esta prueba se mide en números negativos, mientras menor sea el número (más negativo), mayor es el rechazo de la hipótesis nula, por lo que la función sería estacionaria, así como también se espera que el valor de la prueba de Dickey Fuller sea mucho menor que el valor crítico al 5% de nivel de significancia.\n",
    "<br>\n",
    "En el caso de esta serie de tiempo, el valor es negativo relativamente cercano a cero, por lo que se puede asumir que no se rechaza la hipótesis nula, así como este valor es mayor que los valores críticos, y además de esto el *p-value* es mayor al valor de alfa, por lo que se aceptaría la hipótesis nula con lo que se confirma que la serie de tiempo no es estacionaria."
   ]
  },
  {
   "cell_type": "code",
   "execution_count": 6,
   "metadata": {},
   "outputs": [
    {
     "data": {
      "text/plain": [
       "{'Dickey Fuller Test Statistic': -1.8386366695928695,\n",
       " 'P-Value': 0.6858367571183107,\n",
       " 'Número de rezagos': 2,\n",
       " 'Número de observaciones': 86,\n",
       " 'Valores críticos': {'1%': -4.068093220911366,\n",
       "  '5%': -3.462834240758675,\n",
       "  '10%': -3.1576809941263035},\n",
       " 'Criterio de información maximizada': -194.8219055754903,\n",
       " '¿Estacionaria?': 'No'}"
      ]
     },
     "execution_count": 6,
     "metadata": {},
     "output_type": "execute_result"
    }
   ],
   "source": [
    "# Prueba Dickey-Fuller\n",
    "\n",
    "estacionariedad = fn.f_stationarity(datos)\n",
    "estacionariedad"
   ]
  },
  {
   "cell_type": "markdown",
   "metadata": {},
   "source": [
    "<font size =3> Como se busca que la serie de tiempo sea estacionaria, se le aplica una diferenciación, lo cual es tomar la diferencia de la observación en un instante en particular con la de un punto anterior en el tiempo, lo cual ayuda a la reducción de tendencia y la estacionalidad, mejorando la estacionariedad.\n",
    "<br>\n",
    "    Como se observa a continuación, después de aplicar la diferenciación, se vuelve a realizar la prueba de Dickey-Fuller, pero esta vez los valores de la prueba son mucho menores (más negativos), además de que el valor ahora es menor que todos los valores críticos, y en este caso el *p-value* es menor al asignado por alfa, aceptando la hipótesis alternativa concluyendo que la serie de tiempo del indicador ahora si es estacionaria."
   ]
  },
  {
   "cell_type": "code",
   "execution_count": 7,
   "metadata": {},
   "outputs": [
    {
     "data": {
      "text/plain": [
       "{'Dickey Fuller Test Statistic': -4.37575691280943,\n",
       " 'P-Value': 0.002392939031872795,\n",
       " 'Número de rezagos': 2,\n",
       " 'Número de observaciones': 85,\n",
       " 'Valores críticos': {'1%': -4.06943017911663,\n",
       "  '5%': -3.4634663061266027,\n",
       "  '10%': -3.1580485182169755},\n",
       " 'Criterio de información maximizada': -207.7006236913499,\n",
       " '¿Estacionaria?': 'Si'}"
      ]
     },
     "execution_count": 7,
     "metadata": {},
     "output_type": "execute_result"
    }
   ],
   "source": [
    "# Prueba Dickey-Fuller con serie despues de diferenciación\n",
    "\n",
    "estacionariedad_dif = fn.f_dif_stationarity(datos)\n",
    "estacionariedad_dif"
   ]
  },
  {
   "cell_type": "code",
   "execution_count": 8,
   "metadata": {},
   "outputs": [
    {
     "data": {
      "image/png": "[encoded data removed]",
      "text/plain": [
       "<Figure size 432x288 with 1 Axes>"
      ]
     },
     "metadata": {
      "needs_background": "light"
     },
     "output_type": "display_data"
    }
   ],
   "source": [
    "vn.v_indicador_dif(datos)"
   ]
  },
  {
   "cell_type": "code",
   "execution_count": 9,
   "metadata": {},
   "outputs": [
    {
     "data": {
      "image/png": "[encoded data removed]",
      "text/plain": [
       "<Figure size 432x288 with 1 Axes>"
      ]
     },
     "metadata": {
      "needs_background": "light"
     },
     "output_type": "display_data"
    }
   ],
   "source": [
    "vn.v_rmrdsv_dif(datos)"
   ]
  },
  {
   "cell_type": "markdown",
   "metadata": {},
   "source": [
    "<font size =3> De igual manera, en las gráficas anteriores, para facilitar la visualización de los datos del indicador, se muestra en la primera gráfica los valores del indicador con una diferencia y en la segunda, se muestran los mismos valores con la diferencia, o sea, ya estacionarios con su media y desviación estándar móviles. "
   ]
  },
  {
   "cell_type": "markdown",
   "metadata": {},
   "source": [
    "<font size =3> Otra forma de ratificar los nuevos resultados es utilizando las gráficas de autocorrelación y autocorrelación parcial, pero con la nueva serie de tiempo modificada, ya estacionaria. Se pueden observar estas gráficas en donde ahora, ambas convergen a cero al final del eje x. La gráfica de autocorrelación converge a cero de una manera más rápida que la gráfica de autocorrelación con los valores del indicador antes de ser estacionario, igualmente, la gráfica de autocorrelación parcial converje a cero igualmente, en vez de diverger como sería en el caso de utilizar los valores no estacionarios del indicador, mostrando de esta manera que la nueva serie diferenciada es estacionaria."
   ]
  },
  {
   "cell_type": "markdown",
   "metadata": {},
   "source": [
    "## Componentes de Autocorrelación y Autocorrelación Parcial"
   ]
  },
  {
   "cell_type": "markdown",
   "metadata": {},
   "source": [
    "<font size =3> La autocorrelación y la autocorrelación parcial se utilizan para medir la fuerza de una relación por medio de una observación en una serie de tiempo, en este caso, del indicador, con observaciones en pasos de tiempo anteriores. Y así poder verificar si el comportamiento de la serie tiene algún patrón a futuro.\n",
    "<br>\n",
    "Para el cálculo matemático de la autocorrelación se utilizó la prueba de **Multiplicadores de Lagrange** , en donde:\n",
    "<br>\n",
    "\n",
    "\\begin{equation*}\n",
    "H_0 = No Existe Autocorrelacion\n",
    "\\end{equation*}\n",
    "<br>\n",
    "    \n",
    "\\begin{equation*}\n",
    "H_1 = Existe Autocorrelacion\n",
    "\\end{equation*}\n",
    "<br>\n",
    "    \n",
    "En la hipótesis nula se considera que existe una distribución de datos de forma independiente, y en la hipótesis alternativa se menciona que la distribución de datos no se da de forma independiente. \n",
    "<br>\n",
    "    \n",
    "En la prueba realizada a la serie de tiempo, se obtuvo que el *p-value* era demasiado cercano al cero, por lo que se acepta la hipótesis alternativa, dando así como conclusión que la serie está autocorrelacionada. Teniendo como resultado una serie autocorrelacionada, se debe de considerar la existencia de un patrón de comportamiento, la cual se podría especificar con procesos autorregresivos *AR(p)*, de medias móviles *MA(q)* o mixtos *ARMA(p,q)*."
   ]
  },
  {
   "cell_type": "code",
   "execution_count": 10,
   "metadata": {},
   "outputs": [
    {
     "data": {
      "text/plain": [
       "{'Lagrange Multiplier Value': 41.76556383941002,\n",
       " 'LM P-Value': 3.627201423640138e-06,\n",
       " 'F-Statistic Value': 8.599637569940036,\n",
       " 'F-Statistic P-Value': 1.6280196973414823e-08,\n",
       " '¿Autocorrelación?': 'Si'}"
      ]
     },
     "execution_count": 10,
     "metadata": {},
     "output_type": "execute_result"
    }
   ],
   "source": [
    "# Prueba Multiplicadores de Lagrange\n",
    "\n",
    "fac_lm = fn.f_autocorr_lm(datos)\n",
    "fac_lm"
   ]
  },
  {
   "cell_type": "markdown",
   "metadata": {},
   "source": [
    "<font size =3> Para la gráfica de autocorrelación se utilizó la correlación de Pearson como base, en donde el coeficiente del mismo es utilizado como índice para medir el grado de relación, en este caso de la misma variable pero en dos períodos de tiempo diferentes. \n",
    "<br>\n",
    "    \\begin{equation*} \n",
    "    \\rho_{{x_t}{x_{t-1}}} = \\frac{\\sigma_{{x_t}{x_{t-1}}}} {\\sigma_{x_t} \\sigma_{x_{t-1}}}\n",
    "    \\end{equation*}\n",
    "<br>\n",
    "Siendo el numerador la covarianza de *X* en tiempo *t* y *X* en tiempo *t-1*, y el denominador la desviación estándar de *X* en tiempo *t* multiplicada por la desviación estándar de *X* en tiempo *t-1*\n",
    "<br>\n",
    "Para la interpretación de la gráfica de autocorrelación, se puede observar que el primer valor de los veinte mostrados en la gráfica es uno, el cual es un valor bastante alto, aunque los datos parecen converger hacia el cero, lo que muestra que la serie del indicador ya diferenciado de las tasas de interés de la Reserva Federal de los Estados Unidos, es una serie estacionaria, por lo que queda oficialmente que al modelo se le podría incluir la diferenciación de orden 1. Y en cuanto a los *q* valores, se deciden tomar en cuenta MA(3) debido a la gráfica a continuación."
   ]
  },
  {
   "cell_type": "code",
   "execution_count": 11,
   "metadata": {},
   "outputs": [
    {
     "data": {
      "image/png": "[encoded data removed]",
      "text/plain": [
       "<Figure size 432x288 with 1 Axes>"
      ]
     },
     "metadata": {
      "needs_background": "light"
     },
     "output_type": "display_data"
    }
   ],
   "source": [
    "vn.v_fac_estac(datos)"
   ]
  },
  {
   "cell_type": "markdown",
   "metadata": {},
   "source": [
    "<font size =3> Para la gráfica de autocorrelación parcial se utiliza la fórmula matemática:\n",
    "<br>\n",
    "    \\begin{equation*} \n",
    "    \\rho_{{x_t}{x_{t-1}}} = \\frac{\\sigma_{{x_t}{x_{t-1}}}} {\\sqrt{\\sigma_{x_t} \\sigma_{x_{t-1}}}}\n",
    "    \\end{equation*}\n",
    "<br>\n",
    "<font size =3> Para la interpretación de la gráfica de la autocorrelación parcial, normalmente se busca que sea lo más cercana a cero y converja; como se puede observar, en este caso los *p* valores de la gráfica se van acercando al cero, aunque al primer valor ser uno, muestra que la serie no es invertible. \n"
   ]
  },
  {
   "cell_type": "code",
   "execution_count": 12,
   "metadata": {},
   "outputs": [
    {
     "data": {
      "image/png": "[encoded data removed]",
      "text/plain": [
       "<Figure size 432x288 with 1 Axes>"
      ]
     },
     "metadata": {
      "needs_background": "light"
     },
     "output_type": "display_data"
    }
   ],
   "source": [
    "vn.v_facp_estac(datos)"
   ]
  },
  {
   "cell_type": "markdown",
   "metadata": {},
   "source": [
    "## Estacionalidad"
   ]
  },
  {
   "cell_type": "markdown",
   "metadata": {},
   "source": [
    "<font size =3> La estacionalidad o variación estacional de una serie de tiempo, es la variación periódica y predecible de la misma con un periodo anterior, usualmente inferior o igual a un año.\n",
    "<br>\n",
    "Se dice que existe estacionalidad en los datos cuando estos presentan un comportamiento cíclico o periódico, esto quiere decir, que el comportamiento de los datos se repite en el tiempo, siendo por ejemplo, el precio de las tasas de interés del día de hoy, parecidas a las del mes pasado, y el del mes pasado al antepasado, etcétera."
   ]
  },
  {
   "cell_type": "code",
   "execution_count": 13,
   "metadata": {},
   "outputs": [
    {
     "data": {
      "image/png": "[encoded data removed]",
      "text/plain": [
       "<Figure size 432x288 with 4 Axes>"
      ]
     },
     "metadata": {
      "needs_background": "light"
     },
     "output_type": "display_data"
    }
   ],
   "source": [
    "vn.v_seasonality(datos)"
   ]
  },
  {
   "cell_type": "markdown",
   "metadata": {},
   "source": [
    "<font size =3> En la gráfica mostrada anteriormente, se puede apreciar de manera visual el comportamiento de los precios actuales del indicador de la Reserva Federal de los Estados Unidos. En la primera gráfica, se muestra el comportamiento de las tasas, con la serie ya estacionaria, después de una diferencia, en la segunda gráfica se observa la tendencia de estos datos, en la cuarta gráfica, se observa los residuos, los cuales son interesantes de observar, ya que se ven muy constantes desde el 2009 al 2015, teniendo relación con la gráfica *actual*, y a partir del 2016 a este año 2020, ya se muestra como un período de alta variabilidad en los datos.\n",
    "<br> \n",
    "    Por último, en la tercera gráfica, se puede observar la *estacionalidad*, en donde se observa un comportamiento repetitivo a partir del 2015/2016 en donde parece que existe un mismo patrón con ligeras modificaciones por año aproximadamente, en donde, conforme pasa el tiempo, los cambios a pesar de tener el mismo comportamiento, son más significativos."
   ]
  },
  {
   "cell_type": "markdown",
   "metadata": {},
   "source": [
    "# 2. Estimación del modelo"
   ]
  },
  {
   "cell_type": "markdown",
   "metadata": {},
   "source": [
    "<font size =3> Para la segunda etapa de la metodología de *Box-Jenkins*, se realiza con ayuda de la etapa anterior de identificación, una propuesta para el modelo de la serie ya estacionaria. En este caso se llegó a la conclusión de que se trataba de un ARIMA(3,1,3) con factor estacional que para este caso no se tomará en cuenta, ya que solo trabajaremos con modelos ARIMA y no SARIMA."
   ]
  },
  {
   "cell_type": "code",
   "execution_count": 15,
   "metadata": {},
   "outputs": [
    {
     "data": {
      "image/png": "[encoded data removed]",
      "text/plain": [
       "<Figure size 432x288 with 1 Axes>"
      ]
     },
     "metadata": {
      "needs_background": "light"
     },
     "output_type": "display_data"
    }
   ],
   "source": [
    "vn.v_model_arima_orig(datos)"
   ]
  },
  {
   "cell_type": "markdown",
   "metadata": {},
   "source": [
    "<font size =3> La gráfica anterior, muestra de color azul la serie de tiempo del indicador ya estacionaria, con una diferencia, como se puede comprobar en gráficas anteriores, el color naranja se observa el modelo propuesto como ARIMA(3,1,3) en donde se tomó AR(3), una diferencia I(1), y MA(3)."
   ]
  },
  {
   "cell_type": "markdown",
   "metadata": {},
   "source": [
    "# 3. Diagnóstico del modelo"
   ]
  },
  {
   "cell_type": "markdown",
   "metadata": {},
   "source": [
    "## Prueba de Normalidad"
   ]
  },
  {
   "cell_type": "markdown",
   "metadata": {},
   "source": [
    "<font size =3> La prueba de normalidad se utiliza al momento de hacer uso de datos, y sirve para determinar si un conjunto de estos está bien modelado y sus residuales siguen una distribución normal, así como para calcular la probabilidad de que una variable aleatoria subyacente al conjunto de datos se distribuya normalmente.\n",
    "<br> Para el caso del diagnóstico del modelo según la metodología de **Box-Jenkins**, se realiza esta prueba de normalidad con los residuales del modelo propuesto. A continuación se observan los resultados de la prueba de normalidad **Chi-Squared**, en donde el *p-value* al ser menor que el valor *alfa*, indica que no se trata de una distribución normal de los residuos de la serie estacionaria."
   ]
  },
  {
   "cell_type": "code",
   "execution_count": 16,
   "metadata": {},
   "outputs": [
    {
     "data": {
      "text/plain": [
       "{'Chi Squared Test Value': 10.783525054097478,\n",
       " 'P-value': 0.004553939816062775,\n",
       " '¿Normal?': 'No'}"
      ]
     },
     "execution_count": 16,
     "metadata": {},
     "output_type": "execute_result"
    }
   ],
   "source": [
    "fn.f_norm_resid(datos)"
   ]
  },
  {
   "cell_type": "markdown",
   "metadata": {},
   "source": [
    "<font size =3> Igualmente se observa una gráfica a continuación, en donde se muestra que los residuales no siguen exactamente una distribución normal, pero tiene cierto parecido, siendo una distribución simétrica.\n",
    "<br> De esta manera se podría concluir con respecto a la metodología de **Box-Jenkins**, que el modelo a pesar de no ser exacto, ya que no se tomo en cuenta el factor estacional para la predicción del mismo, es bastante parecido, por lo que el modelo estimado no es tan diferente del modelo real de la serie."
   ]
  },
  {
   "cell_type": "code",
   "execution_count": 17,
   "metadata": {},
   "outputs": [
    {
     "data": {
      "image/png": "[encoded data removed]",
      "text/plain": [
       "<Figure size 864x576 with 1 Axes>"
      ]
     },
     "metadata": {
      "needs_background": "light"
     },
     "output_type": "display_data"
    },
    {
     "data": {
      "text/plain": [
       "<Figure size 864x576 with 0 Axes>"
      ]
     },
     "metadata": {},
     "output_type": "display_data"
    }
   ],
   "source": [
    "vn.v_norm_resids(datos)"
   ]
  },
  {
   "cell_type": "code",
   "execution_count": 18,
   "metadata": {},
   "outputs": [
    {
     "data": {
      "text/plain": [
       "{'Nivel de sesgo': 0.21121354798384095,\n",
       " 'Asimétrico?': 'No',\n",
       " 'Tipo de asimetría si hay': 'Simétrico'}"
      ]
     },
     "execution_count": 18,
     "metadata": {},
     "output_type": "execute_result"
    }
   ],
   "source": [
    "fn.f_skewness_resid(datos)"
   ]
  },
  {
   "cell_type": "markdown",
   "metadata": {},
   "source": [
    "# Prueba de Normalidad a los datos del indicador estacionario"
   ]
  },
  {
   "cell_type": "markdown",
   "metadata": {},
   "source": [
    "<font size =3> Cada una de las pruebas a utilizar, calcula una estadística específica de la prueba, por lo que como se ha visto en pruebas anteriores, los resultados de estas pueden variar significativamente, por lo que se ha escogido el *p-value* para interpretar los resultados de estas.\n",
    "    <br>\n",
    "    Para la prueba de normalidad en el cálculo matemático se hicieron las pruebas de **Shapiro-Wilk** y **D'Agostino** en donde:\n",
    "<br>\n",
    "    \n",
    "\\begin{equation*}\n",
    "H_0 = Distribucion Normal\n",
    "\\end{equation*}\n",
    "<br>\n",
    " \n",
    "\\begin{equation*}\n",
    "H_1 = Distribucion No Normal\n",
    "\\end{equation*}\n",
    "\n",
    "En las dos pruebas realizadas el resultado fue el mismo, el *p-value* era mucho menor al valor alfa asignado de 0.05.\n",
    "\\begin{equation*}\n",
    "p-value < \\alpha\n",
    "\\end{equation*}\n",
    "<br>\n",
    "Por lo que se rechaza la hipótesis nula y se acepta la hipótesis alternativa confirmando que los datos no tienen una distribución normal.   "
   ]
  },
  {
   "cell_type": "markdown",
   "metadata": {},
   "source": [
    "<font size =3> La primera prueba realizada fue la de **Shapiro-Wilk**, la cual evalúa los datos y cuantifica la probabilidad de que formen parte de una distribución normal, haciendo así que el resultado de la prueba estadística oscile entre los valores 0 y 1.\n",
    "<br>\n",
    "En este caso, a pesar de que el valor estadístico fue superior al 0.50, indicando que los datos tienen un 66% de probabilidad de asemejarse a una distribución normal, aún hay una cantidad razonablemente grande para pensar que así es, por lo que se concluye que los datos no tienen una distribución normal.\n",
    "<br> \n",
    "En cuanto al *p-value*, se observa a primera vista que el valor es mucho menor al alfa del 0.05, por lo que como se mencionaba antes, se rechaza la hipótesis nula y se acepta la hipótesis alternativa, siendo así que los datos no forman parte de una distribución normal."
   ]
  },
  {
   "cell_type": "code",
   "execution_count": 19,
   "metadata": {},
   "outputs": [
    {
     "data": {
      "text/plain": [
       "{'Statistic Value': 0.49207377433776855,\n",
       " 'P-value': 6.424537911247383e-16,\n",
       " '¿Normal?': 'No'}"
      ]
     },
     "execution_count": 19,
     "metadata": {},
     "output_type": "execute_result"
    }
   ],
   "source": [
    "# Prueba Shapiro-Wilk\n",
    "\n",
    "normalidad_shw = fn.f_norm_shw(datos)\n",
    "normalidad_shw"
   ]
  },
  {
   "cell_type": "markdown",
   "metadata": {},
   "source": [
    "<font size =3> La segunda prueba realizada fue la de **D'Agostino**, en donde lo que ésta hace es basarse en las transformaciones de la curtosis y la asimetría de los datos, para determinar si siguen una distribución normal. En este caso al igual que en los anteriores, se observa que el *p-value* es mucho menor al valor alfa asignado, por lo que se rechaza la hipótesis nula y se acepta la alternativa de que no es una distribución normal."
   ]
  },
  {
   "cell_type": "code",
   "execution_count": 20,
   "metadata": {},
   "outputs": [
    {
     "data": {
      "text/plain": [
       "{'Statistic Value': 24.421788912190085,\n",
       " 'P-value': 4.975948978508964e-06,\n",
       " '¿Normal?': 'No'}"
      ]
     },
     "execution_count": 20,
     "metadata": {},
     "output_type": "execute_result"
    }
   ],
   "source": [
    "# Prueba D'Agostino\n",
    "\n",
    "normalidad_dagp = fn.f_norm_dagp(datos)\n",
    "normalidad_dagp"
   ]
  },
  {
   "cell_type": "markdown",
   "metadata": {},
   "source": [
    "<font size =3> Una forma de interpretar los valores de la serie de tiempo para determinar si se trata de una distribución normal, es realizar un *histograma*, colocando en el eje *x* los valores del indicador estacionario y en el eje *y* el número de observaciones de cada valor. \n",
    "<br> Se puede observar a primera vista que el número de observaciones por dato, pareciese tener una ligera forma de la campana de Gauss, aunque le faltan varios valores, ya que al momento de volver la serie estacionaria sacándole la diferencia, lo que esto hace es \"emparejar\" los valores, tratando de volver la media, como la varianza, constantes.\n",
    "<br>\n",
    "    Igualmente se calculó de la misma serie de datos estacionarios el sesgo, si es que este existía. Y se observa que la distribución no es necesariamente asimétrica, ya que aunque el nivel de sesgo es diferente de cero, no llega a entrar entre los valores 1 y -1."
   ]
  },
  {
   "cell_type": "code",
   "execution_count": 21,
   "metadata": {},
   "outputs": [
    {
     "data": {
      "image/png": "[encoded data removed]",
      "text/plain": [
       "<Figure size 432x288 with 1 Axes>"
      ]
     },
     "metadata": {
      "needs_background": "light"
     },
     "output_type": "display_data"
    }
   ],
   "source": [
    "vn.v_norm_hist(datos)"
   ]
  },
  {
   "cell_type": "code",
   "execution_count": 22,
   "metadata": {},
   "outputs": [
    {
     "data": {
      "text/plain": [
       "{'Nivel de sesgo': -0.8560854426364055,\n",
       " 'Asimétrico?': 'No',\n",
       " 'Tipo de asimetría si hay': 'Simétrico'}"
      ]
     },
     "execution_count": 22,
     "metadata": {},
     "output_type": "execute_result"
    }
   ],
   "source": [
    "sesgo = fn.f_skewness(datos)\n",
    "sesgo"
   ]
  },
  {
   "cell_type": "markdown",
   "metadata": {},
   "source": [
    "<font size =3> Una segunda forma de visualizar si los datos cumplen con una distribución normal, es un gráfico muy popular conocido como *gráfico QQ* (cuantil-cuantil). Esta gráfica genera la distrubución gaussiana/normal y estas se dividen en cinco grupos llamados cuantiles. Cada punto azul en la muestra de nuestros datos se combina con un miembro similar de la distribución gaussiana en la misma distribución acumulativa. \n",
    "<br>\n",
    "    Un escenario perfecto en el que los datos se colocan exactamente por encima de la línea roja a 45° inicializando de la esquina inferior izquierda. Y como en este caso los puntos azules no siguen la línea roja, se puede decir que no se trata de una distribución normal."
   ]
  },
  {
   "cell_type": "code",
   "execution_count": 24,
   "metadata": {},
   "outputs": [
    {
     "data": {
      "image/png": "[encoded data removed]",
      "text/plain": [
       "<Figure size 432x288 with 1 Axes>"
      ]
     },
     "metadata": {
      "needs_background": "light"
     },
     "output_type": "display_data"
    }
   ],
   "source": [
    "vn.v_norm_qq(datos)"
   ]
  },
  {
   "cell_type": "markdown",
   "metadata": {},
   "source": [
    "# Heterocedasticidad de Indicador estacionario"
   ]
  },
  {
   "cell_type": "markdown",
   "metadata": {},
   "source": [
    "<font size =3> La heterocedasticidad es una propiedad de las series de tiempo, la cual indica que la varianza está aumentando de manera sistemática, como una tendencia alcista, creciente o que va en aumento. \n",
    "<br>\n",
    "Para el cálculo matemático de la misma, se realizaron tres pruebas diferentes, **Breusch-Pagan**, **White** y **ARCH**, como se observará a continuación en el mismo orden, en donde:\n",
    "\n",
    "<br>\n",
    "\\begin{equation*}\n",
    "H_0 = Serie de tiempo Homocedastica\n",
    "\\end{equation*}\n",
    "    \n",
    "<br>\n",
    "\\begin{equation*}\n",
    "H_1 = Serie de tiempo Heterocedastica\n",
    "\\end{equation*}\n",
    "    \n",
    "<br>\n",
    "Siendo una serie de tiempo Homocedástica, significaría una varianza constante a través del tiempo. En las tres pruebas realizadas, el resultado fue el mismo, el *p-value* fue menor al valor de significancia de 0.05 asignado.\n",
    "\n",
    "\\begin{equation*} \n",
    "p-value < \\alpha \n",
    "\\end{equation*}\n",
    "\n",
    "<br>                                  \n",
    "Por lo que se rechaza la hipótesis nula y se aprueba la hipótesis alternativa, probando así que la serie de tiempo es heterocedástica."
   ]
  },
  {
   "cell_type": "code",
   "execution_count": 25,
   "metadata": {},
   "outputs": [
    {
     "data": {
      "text/plain": [
       "{'Lagrange Multiplier Value': 19.70365620510583,\n",
       " 'LM P-value': 9.042818831042714e-06,\n",
       " 'Statistic Value': 24.811202759667836,\n",
       " 'F-Statistic P-Value': 3.228661676904736e-06,\n",
       " '¿Heteroscedástico?': 'Si'}"
      ]
     },
     "execution_count": 25,
     "metadata": {},
     "output_type": "execute_result"
    }
   ],
   "source": [
    "# Prueba Breusch-Pagan\n",
    "\n",
    "heterocedasticidad_bp = fn.f_heter_bp(datos)\n",
    "heterocedasticidad_bp"
   ]
  },
  {
   "cell_type": "code",
   "execution_count": 26,
   "metadata": {},
   "outputs": [
    {
     "data": {
      "text/plain": [
       "{'Lagrange Multiplier Value': 25.077406012752412,\n",
       " 'LM P-value': 3.58517594728579e-06,\n",
       " 'Statistic Value': 16.938109000369234,\n",
       " 'F-Statistic P-Value': 6.438248039593287e-07,\n",
       " '¿Heteroscedástico?': 'Si'}"
      ]
     },
     "execution_count": 26,
     "metadata": {},
     "output_type": "execute_result"
    }
   ],
   "source": [
    "# Prueba White\n",
    "\n",
    "heterocedasticidad_w = fn.f_heter_w(datos)\n",
    "heterocedasticidad_w"
   ]
  },
  {
   "cell_type": "code",
   "execution_count": 27,
   "metadata": {},
   "outputs": [
    {
     "data": {
      "text/plain": [
       "{'Lagrange Multiplier Value': 58.129125938485494,\n",
       " 'LM P-value': 1.3815643263087996e-05,\n",
       " 'Statistic Value': 13.839042530999693,\n",
       " 'F-Statistic P-Value': 1.7208485516565748e-13,\n",
       " '¿Heteroscedástico?': 'Si'}"
      ]
     },
     "execution_count": 27,
     "metadata": {},
     "output_type": "execute_result"
    }
   ],
   "source": [
    "# Prueba ARCH\n",
    "\n",
    "heterocedasticidad_arch = fn.f_het_arch(datos)\n",
    "heterocedasticidad_arch"
   ]
  },
  {
   "cell_type": "markdown",
   "metadata": {},
   "source": [
    "<font size =3> Posteriormente se hizo una investigación más a fondo, en donde para este tipo de datos, de series de tiempo, la prueba que realmente calcula si la serie es heterocedástica u homogénea, es únicamente la prueba ARCH. Ya que esta contempla no solamente la varianza no uniforme, sino que también se ve afectada por varianzas precedentes, lo cual es llamado *autorregresión*, así como esto, igualmente toma en cuenta que la varianza de un período es afectada por una o más variables, siendo *condicional*, siendo estas consideraciones importantes para el análisis de series de tiempo en finanzas."
   ]
  },
  {
   "cell_type": "markdown",
   "metadata": {},
   "source": [
    "# Detección de valores atípicos"
   ]
  },
  {
   "cell_type": "markdown",
   "metadata": {},
   "source": [
    "<font size =3> La detección de valores atípicos es muchas veces crucial para las pruebas de heterocedasticidad o normalidad, ya que en el caso de una prueba de *normalidad* la cual se base en la asimetría de los datos o en la curtosis, se puede ver afectada por la presencia de estos valores, en el caso de las pruebas de *heterocedasticidad*, puede afectar los resultados de la misma, interpretándose como un incremento en la varianza en ese instante y puede confundirse con efectos de heterocedasticidad condicional. Por lo que es importante detectar estos valores.\n",
    "<br> \n",
    "    Una manera de poder visualizar estos valores, es por medio de una gráfica de cuantiles, en donde se observa el valor mínimo, el valor máximo, cual es el rango en el que se concentran la mayoría de los valores e igualmente se muestran de esta forma también los valores atípicos."
   ]
  },
  {
   "cell_type": "markdown",
   "metadata": {},
   "source": [
    "### Datos del Indicador no estacionario"
   ]
  },
  {
   "cell_type": "markdown",
   "metadata": {},
   "source": [
    "<font size =3> Para la identificación de estos valores en la serie de tiempo del indicador deseado, se realizó la gráfica de cuantiles, y se observa que la mayoría de los valores se concentran en el rango de cero a uno, lo cual se puede confirmar en la primera gráfica donde se muestran los valores actuales del indicador a través del tiempo desde el 2009 hasta el 2020, en donde en los primeros siete años estas tasas se mantuvieron muy bajas, representando más del 60% de los datos en ese rango. Los mostrados como datos atípicos en esta gráfica son los mayores a dos por ciento, ya que las tasas llegaron a esos niveles entre el 2018 y 2020; aunque realmente no sería necesario excluirlos de la serie de tiempo, porque aunque se muestren como valores atípicos en la gráfica, realmente no están tan alejados del promedio de los datos, por lo cual la varianza de los mismos no necesariamente se ve tan afectada."
   ]
  },
  {
   "cell_type": "code",
   "execution_count": 29,
   "metadata": {},
   "outputs": [
    {
     "data": {
      "image/png": "[encoded data removed]",
      "text/plain": [
       "<Figure size 432x288 with 1 Axes>"
      ]
     },
     "metadata": {
      "needs_background": "light"
     },
     "output_type": "display_data"
    }
   ],
   "source": [
    "vn.v_det_at(datos)"
   ]
  },
  {
   "cell_type": "markdown",
   "metadata": {},
   "source": [
    "### Datos del Indicador estacionario"
   ]
  },
  {
   "cell_type": "markdown",
   "metadata": {},
   "source": [
    "<font size =3> En el caso del indicador ya estacionario, se realiza de igual manera la gráfica de cuantiles y se observa que los valores esta vez se concentran en el cero, con unos pocos sobrepasando el -2 y otros sobrepasando el 2, pero sin valores entre los rangos mencionados. Por lo que tampoco serían necesariamente datos atípicos, ya que en sí los datos ya estacionarios no son continuos."
   ]
  },
  {
   "cell_type": "code",
   "execution_count": 30,
   "metadata": {},
   "outputs": [
    {
     "data": {
      "image/png": "[encoded data removed]",
      "text/plain": [
       "<Figure size 432x288 with 1 Axes>"
      ]
     },
     "metadata": {
      "needs_background": "light"
     },
     "output_type": "display_data"
    }
   ],
   "source": [
    "vn.v_det_at_dif(datos)"
   ]
  },
  {
   "cell_type": "markdown",
   "metadata": {},
   "source": [
    "###### <span style=\"font-family:Papyrus; font-size:4em;\"> Regla de Trading"
   ]
  },
  {
   "cell_type": "markdown",
   "metadata": {},
   "source": [
    "De acuerdo con las visualizaciones visuales, tenemos los siguientes indicios para la regla de trading. \n",
    "\n",
    "* Lo ideal sería tomar la posición un minuto antes de que la decisión de la Fed para aprovechar la volatilidad al momento que se anuncia el indicador.\n",
    "* La mayaría de las veces los analistas se anticipan a la decisión de la Fed, lo que provoca que los movimientos en el tipo de cambio no sean tan bruscos. \n",
    "* La tendencia del tipo de cambio se logra observar en los primero 5 minutos.  \n"
   ]
  },
  {
   "cell_type": "markdown",
   "metadata": {},
   "source": [
    "Con base en la información obtenida, es decir los resultados de la evaluación empírica se considerará lo siguiente para formular una estrategia de trading para cuando se publiquen el indicador que le corresponde a la decisión de la Fed sobre las tasas de interés. \n",
    "\n",
    " Tabla 1.11\n",
    "\n",
    "| Escenario  |Estrategia |Lotes | Takeprofit| Stoploss |Comentario|\n",
    "| :-------   | :------:  |:-------| :------:  | :------- |         :------- |          \n",
    "| La Fed decide mantener las tasas de interés | Tomar posición larga eurusd  |1 |25| 10|El euro se ve apreciado frente al dólar, los cambios en pips no suelen ser muy altos.\n",
    "| La Fed decide incrementar las tasas de interés    | Tomar posición corta eurusd|1 |30|10 |El euro se drepecia frente al dólar, los cambios en pips suelen ser altos. \n",
    "| La Fed decide recortar las tasas de interés   |   Tomar posición corta eurusd  |1| 15|5 | El euro se deprecia frente al dólar, los cambios en pips no suelen ser altos. "
   ]
  },
  {
   "cell_type": "markdown",
   "metadata": {},
   "source": [
    "\n",
    " Tabla 1.12\n",
    "\n",
    "| Escenario|  Regla      |Lotes | Sentido| Takeprofit |Stoploss| Justificación|\n",
    "| :-------| :------:  |:----:| :------:  | :----: |:----: | :-------: \n",
    "|A|Actual >= Consensus >= Previous|1| Comprar  | 25   | 10  |Las posibilidades de que la Fed mantenga las tasas de interés son mayores. |\n",
    "|B|Actual >= Consensus < Previous |1| Comprar |    25    |  10     |Las posibilidades de que la Fed mantenga las tasas de interés son mayores.|\n",
    "|C|Actual < Consensus >= Previous |1| Comprar   |   25       |  10       | Las posibilidades de que la Fed mantenga las tasas de interés soon mayores.\n",
    "|D|Actual < Consensus < Previous  |1|  Vender     |     15     |  5       | Las posibilidades de un recorte de las tasas de interés son únicas."
   ]
  },
  {
   "cell_type": "markdown",
   "metadata": {},
   "source": [
    "Bibliografía \n",
    "\n",
    "* S.A. (2019) El Financiero: ¿Qué significa que la Fed recorte la tasa de interés? Recuperado el 27 de abril del 2020 de https://www.elfinanciero.com.mx/economia/que-significa-que-la-fed-recorte-la-tasa-de-interes\n",
    "\n",
    "* S.A.(2020) Admiral Markets: FED - ¿Cómo afecta la subida tipos FED a los mercados? Recuperado el 27 de abril del 2020 de https://admiralmarkets.es/education/articles/forex-strategy/fed-tipos\n",
    "\n",
    "* S.A (2020) Los anuncios acerca de las tasas de interés de la Fed y de los bancos principales. Recuperado el 27 de abril del 2020 de https://www.iforex.mx/anuncios-tasas-de-interes"
   ]
  },
  {
   "cell_type": "code",
   "execution_count": null,
   "metadata": {},
   "outputs": [],
   "source": []
  }
 ],
 "metadata": {
  "kernelspec": {
   "display_name": "Python 3",
   "language": "python",
   "name": "python3"
  },
  "language_info": {
   "codemirror_mode": {
    "name": "ipython",
    "version": 3
   },
   "file_extension": ".py",
   "mimetype": "text/x-python",
   "name": "python",
   "nbconvert_exporter": "python",
   "pygments_lexer": "ipython3",
   "version": "3.6.8"
  }
 },
 "nbformat": 4,
 "nbformat_minor": 2
}
