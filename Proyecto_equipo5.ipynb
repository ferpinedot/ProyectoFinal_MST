{
 "cells": [
  {
   "cell_type": "markdown",
   "metadata": {},
   "source": [
    "<img src=\"http://oci02.img.iteso.mx/identidad_de_instancia_2018/ITESO/Logos%20ITESO/Logo-ITESO-Principal.jpg\">\n"
   ]
  },
  {
   "cell_type": "markdown",
   "metadata": {},
   "source": [
    "<center> <font color= #004A94> <font size = 6> Lic. Ingeniería Financiera </font> <br> <br> <font color= #047CFB> <font size = 4>Equipo 5 </font \n",
    "\n",
    " "
   ]
  },
  {
   "cell_type": "markdown",
   "metadata": {},
   "source": [
    "<center> <font color= #004A94> <font size = 6><font size = 4>I.F Fernanda Pinedo Talango if705971@iteso.mx</font "
   ]
  },
  {
   "cell_type": "markdown",
   "metadata": {},
   "source": [
    "<center> <font color= #004A94> <font size = 6><font size = 4>I.F Francisco Ricardo Rodríguez Ramírez if705783@iteso.mx</font "
   ]
  },
  {
   "cell_type": "markdown",
   "metadata": {},
   "source": [
    "<center> <font color= #004A94> <font size = 6><font size = 4>I.F Oscar Eduardo Flores Hernández if715029@iteso.mx</font "
   ]
  },
  {
   "cell_type": "markdown",
   "metadata": {},
   "source": [
    "###### <span style=\"font-family:Papyrus; font-size:4em;\"> Resumen "
   ]
  },
  {
   "cell_type": "markdown",
   "metadata": {},
   "source": []
  },
  {
   "cell_type": "markdown",
   "metadata": {},
   "source": []
  },
  {
   "cell_type": "markdown",
   "metadata": {},
   "source": []
  },
  {
   "cell_type": "markdown",
   "metadata": {},
   "source": [
    "###### <span style=\"font-family:Papyrus; font-size:4em;\"> Fed Interest Rate Decision"
   ]
  },
  {
   "cell_type": "markdown",
   "metadata": {},
   "source": [
    "<p style=\"text-align: justify;\"> Las tasas de interés hacen referencia a la cantidad de interés que se debe en un periodo, el cual se representa como un porcentaje anual. Cada país consta de un Banco Central, el cual es el responsable de la política económica del país y ocasionalmente está involucrado en la toma de decisiones sobre las tasas. Las decisiones de un Banco Central, en especial de potencias económicas como lo es, Estados Unidos suelen tener gran impacto en el mercado de divisas, dado que en su anuncio viene implícito el rumbo de la economía. La decisión sobre un aumento, un recorte o el manteneralas son establecidas sobre las condiciones actuales del empleo, inflación e inversiones. </p>\n",
    "<p style=\"text-align: justify;\">Es un indicador muy importante, por lo que los operadores están muy al pendiente de sus anuncios, los cuales están en fechas predefinidas. Estos anuncios suelen afectar las decisiones de los operadores dado que los movimientos en las tasas de interés podrías afectar en varios aspectos del mercado de todas las industrias. \n",
    "Se considera este indicador, dado que las decisiones que toma el sistema de la Reserva Federal de los Estados Unidos, sobre las tasas de interés suelen influir en la economía mundial. Por lo que un movimiento en estas podría afectar tanto la inflación y el crecimiento de la potencia económica que representa este país. \n",
    "Cualquier movimiento en las tasas de interés puede ser influyente, es decir si se decide recortarla, aumentarla o mantenerla. Dado que las decisiones siempre son orientadas con el objetivo de promover el crecimiento económico por lo que cualquiera de estas decisiones afectan al mercado de la siguiente manera. \n",
    "</p>"
   ]
  },
  {
   "cell_type": "markdown",
   "metadata": {},
   "source": [
    "Para comprender el como afectan las decisiones de la Fed, sobre las tasas de interés. Es importante mencionar que la política econóomica de la Reserva Fedderal se basa en el control de la inflación y la promoción del máximo empleo. \n",
    "\n",
    "* Si la tasa de interés sufre un aumento.\n",
    "    * Se suele tomar como una reducción al impulso de la política económica de la economía. \n",
    "* Si la tasa de interés sufre un recorte. \n",
    "    * Se traduce a la busqueda de impulsar la economía, dado que el objetivo es      que los créditos se abaraten.\n",
    "* Si la tasa de interés se mantiene.\n",
    "    * Podría ocasionar movimientos en el mercado si es que los inversionistas         esperaban un cambio.\n"
   ]
  },
  {
   "cell_type": "markdown",
   "metadata": {},
   "source": [
    "<p style=\"text-align: justify;\"> A continuación, se presenta validaciones visuales sobre el comportamiento del Euro en relación con el Dólar en el momento en el que la Fed anuncia la tasa de interés por un lapso de media hora. Para entender las siguientes figuras es preciso destacar lo siguiente. \n",
    "    \n",
    "* Las líneas azules corresponden al periodo de tiempo, desde que se reporta el   indicador hasta que transcurre media hora. \n",
    "* La línea verde corresponde al máximo que se obtuvo en el periodo de media       hora.\n",
    "* La línea roja corresponde al mínimo que se obtuvo en el periodo de media       hora. \n",
    "* Las líneas negras marcan la diferencia entre el máximo y el mínimo o           viceversa.\n",
    "* Las líneas punteadas azules corresponden a la validación de máximos y/o        mínimos.\n"
   ]
  },
  {
   "cell_type": "markdown",
   "metadata": {},
   "source": [
    "###### <span style=\"font-family:Papyrus; font-size:4em;\"> Validaciones visuales\n"
   ]
  },
  {
   "cell_type": "markdown",
   "metadata": {},
   "source": [
    "Los siguientes escenarios se presentaron en la zona horaria 00:00"
   ]
  },
  {
   "cell_type": "markdown",
   "metadata": {},
   "source": [
    "## Escenario 1 (pendiente cambiar horario)"
   ]
  },
  {
   "cell_type": "markdown",
   "metadata": {},
   "source": [
    "La Fed toma la decisión de aumentar la tasa de interés."
   ]
  },
  {
   "cell_type": "markdown",
   "metadata": {},
   "source": [
    "![title](images/time0.PNG)"
   ]
  },
  {
   "cell_type": "markdown",
   "metadata": {},
   "source": [
    "El día 19 de diciembre del 2018 se esperaba que la FED anunciara un aumento en la tasa de interés, dado que anteriormente habían anunciado una tasa de 2.25% en esta ocasión los analistas esperaban un aumento de 25 puntos base. De acuerdo con el calendario económico de FXstreet la tasa de interés sugrió un incremento de 25 puntos base."
   ]
  },
  {
   "cell_type": "markdown",
   "metadata": {},
   "source": [
    "![title](images/graph0.png)"
   ]
  },
  {
   "cell_type": "markdown",
   "metadata": {},
   "source": [
    "<p style=\"text-align: justify;\">De acuerdo con la gráfica 1.1 podemos observar que en el lapso de media hora, una vez se emitió el  reporte sobre las tasa de interés. En este caso el euro se vio apreciado frente al dólar a raíz de la decisión de la Fed de subir 25 puntos base la tasa de interés. "
   ]
  },
  {
   "cell_type": "markdown",
   "metadata": {},
   "source": [
    "Tabla 1.1\n",
    "\n",
    "| Vela     | Horario  | Tipo de cambio | Comentarios | \n",
    "| :------- | :------: | -----:         |  -----:     |\n",
    "|     1    |   14:00  |     1.13697    | Vela inicial|\n",
    "|     8    |   14:07  |     1.13685    |  Mínimo     |\n",
    "|     14   |   14:13  |     1.13873   |  Máximo      |\n",
    "|    31    |   14:30  |     1.13729    |  Vela final |"
   ]
  },
  {
   "cell_type": "markdown",
   "metadata": {},
   "source": [
    "Tabla 1.2 \n",
    "\n",
    "\n",
    "| Periodo         | Pips.    |\n",
    "| :-------        | :------: | \n",
    "| Inicial - Máximo| -17.6    | \n",
    "| Inicial - Mínimo|   1.2    |\n",
    "| Inicial - Final |  -3.2    |"
   ]
  },
  {
   "cell_type": "markdown",
   "metadata": {},
   "source": [
    "<p style=\"text-align: justify;\">Observando la gráfica 1.1 y la tabla 1.1 podemos concluir que de acuerdo con la decision de subir la tasa de interés, el dolar se debilitó frente al euro, que dentro de un periodo de 30 minutos, el tipo de cambio tocó un mínimo en el minuto 7 y posteriormente tomo una tendencia a la alcista durante 9 minutos para después el dólar recuperara algo de valor. Sin embargo después de este, tomó una tendencia a la baja del tipo de cambio hasta la vela 30 el cual no fue suficiente para que el dólar se viera beneficiado en comparación al tipo de cambio inicial. "
   ]
  },
  {
   "cell_type": "markdown",
   "metadata": {},
   "source": [
    "## Escenario 2\n",
    "<p style=\"text-align: justify;\"> La Fed toma la decisión de mantener la tasa de interés\n",
    "    "
   ]
  },
  {
   "cell_type": "markdown",
   "metadata": {},
   "source": [
    "![title](images/time2.PNG)"
   ]
  },
  {
   "cell_type": "markdown",
   "metadata": {},
   "source": [
    "<p style=\"text-align: justify;\">El día 19 de junio del 2019 se esperaba el reporte de la Fed sobre las tasas de interés, en el periodo anterior se había reportado una tasa de 2.5%  y para este anuncio se esperaba por parte de los analistas que la tasa no sufrieran algún movimiento. De acuerdo con el calendario económico de FXstreet la tasa de interés anunciada por la Fed se mantuvo."
   ]
  },
  {
   "cell_type": "markdown",
   "metadata": {},
   "source": [
    "Gráfica 1.2"
   ]
  },
  {
   "cell_type": "markdown",
   "metadata": {},
   "source": [
    "![title](images/Graph1.png)"
   ]
  },
  {
   "cell_type": "markdown",
   "metadata": {},
   "source": [
    "<p style=\"text-align: justify;\">"
   ]
  },
  {
   "cell_type": "markdown",
   "metadata": {},
   "source": [
    "<p style=\"text-align: justify;\">De acuerdo con la gráfica 1.2 podemos observarque en el lapso de media hora, una vez se emitió el  reporte sobre las tasa de interé. En este caso el euro se vio apreciado frente al dólar a raíz de la decisión de manter constante la tasa de interés. "
   ]
  },
  {
   "cell_type": "markdown",
   "metadata": {},
   "source": [
    "Tabla 1.3"
   ]
  },
  {
   "cell_type": "markdown",
   "metadata": {},
   "source": [
    "| Vela     | Horario  | Tipo de cambio | Comentarios |\n",
    "| :------- | :------: | -----:         |  -----:     |\n",
    "|     1    |   18:00  |     1.12283    |  Vela inicial   |\n",
    "|     7    |   18:06  |     1.12500    |  Máximo     |\n",
    "|    22    |   18:21  |     1.12317    |  Mínimo después del máximo  |\n",
    "|    31    |   18:30  |     1.12468    |  Vela final |"
   ]
  },
  {
   "cell_type": "markdown",
   "metadata": {},
   "source": [
    "Tabla 1.4\n",
    "\n",
    "| Periodo     | Pips.    |\n",
    "| :------- | :------: | \n",
    "| Inicial - Máximo|    -21.7      | \n",
    "| Inicial - Vela final |  -18.5        | "
   ]
  },
  {
   "cell_type": "markdown",
   "metadata": {},
   "source": [
    "<p style=\"text-align: justify;\">Observando la gráfica 1.2 y la tabla 1.3 podemos concluir que de acuerdo con la decision de mantener la tasa de interés, el dolar se debilitó frente al euro, que dentro de un periodo de 30 minutos, el tipo de cambio alcanzó su máximo en la minuto 6 y posteriormente tomo una tendencia a la baja durante 15 minutos para después recuperar valor a favor del euro. sin embargo, tomó una tendencia a la baja hasta la vela 30.Cabe destacar que se manifestó un movimiento brusco a la 13:00 es decir en momento que en teoría se anunció la decisión de la Fed, el euro se vió favorecido. "
   ]
  },
  {
   "cell_type": "markdown",
   "metadata": {},
   "source": [
    "## Escenario 3"
   ]
  },
  {
   "cell_type": "markdown",
   "metadata": {},
   "source": [
    "La Fed toma la decisión de recortar la tasa de interés"
   ]
  },
  {
   "cell_type": "markdown",
   "metadata": {},
   "source": [
    "![title](images/time2.png)"
   ]
  },
  {
   "cell_type": "markdown",
   "metadata": {},
   "source": [
    "<p style=\"text-align: justify;\">El día 31 de julio del 2019, se esperaba el reporte de la Fed, conocemos que anteriormente se había mantenido la tasa de interés en 2.5%, sin embargo la expectativa de los análistas indicaba que este periodo se reportaría algún recorte en las tasas de interés. En esta ocasión  de acuerdo con el calendario económico de FXStreet, la Fed reportó un recorte de 25 puntos base, es decir en este caso se estableció la tasa de interés en 2.25%. "
   ]
  },
  {
   "cell_type": "markdown",
   "metadata": {},
   "source": [
    "Gráfica 1.3"
   ]
  },
  {
   "cell_type": "markdown",
   "metadata": {},
   "source": [
    "![title](images/Graph2.PNG)"
   ]
  },
  {
   "cell_type": "markdown",
   "metadata": {},
   "source": [
    "De acuerdo con la gráfica 1.3, podemos observar como a raíz del recorte de la tasa de interés el euro se depreciófrente al dolar, es decir en la gráfica podemos notar una tendencia bajista en cuanto al tipo de cambio eur/usd.  "
   ]
  },
  {
   "cell_type": "markdown",
   "metadata": {},
   "source": [
    "Tabla 1.5"
   ]
  },
  {
   "cell_type": "markdown",
   "metadata": {},
   "source": [
    "| Vela     | Horario  | Tipo de cambio | Comentarios |\n",
    "| :------- | :------: | -----:         |  -----:     |\n",
    "|    1     | 18:00    |1.11264         |Máximo       |\n",
    "|    4     | 18:03    |1.10983         |Mínimo       |\n",
    "|   14     | 18:15    |1.11238         |Máximo despúes del mínimo|\n",
    "|   31     | 18:30    |1.11122         |Vela final|"
   ]
  },
  {
   "cell_type": "markdown",
   "metadata": {},
   "source": [
    "Tabla 1.6 \n",
    "\n",
    "\n",
    "| Periodo         | Pips.    |\n",
    "| :-------        | :------: |  \n",
    "| Inicial - Mínimo|   28.1    |\n",
    "| Inicial - Final|    14.2  |"
   ]
  },
  {
   "cell_type": "markdown",
   "metadata": {},
   "source": [
    "<p style=\"text-align: justify;\"> Observando la gráfica 1.3 y la Tabla 1.5 podemos conlcuir que de acuerdo con la decisión de la Fed de recortar las tasas de interés, el dólar se vió favorecido frente al euro. Que a raíz de la publicación del indicador el tipo de cambio tomo una tendencia a la baja en donde el dolar se ve fortalecido, en el periodo de 30 minutos el valor máximo se encuentra en el inicio del periodo, después de este, el valor mínimo es alcanzado en el minuto 3, como se puede observar en la gráfica 1.2 el tipo de cambio no recupero su valor inicial. En conclusión, en esta ocasión la decisión de recortar la tasa de interés el dólar se vió fortalecido frente al euro."
   ]
  },
  {
   "cell_type": "markdown",
   "metadata": {},
   "source": [
    "## Escenario 4"
   ]
  },
  {
   "cell_type": "markdown",
   "metadata": {},
   "source": [
    "La Fed toma la decisón de recortar la tasa de interés"
   ]
  },
  {
   "cell_type": "markdown",
   "metadata": {},
   "source": [
    "![title](images/time3.PNG)"
   ]
  },
  {
   "cell_type": "markdown",
   "metadata": {},
   "source": [
    "<p style=\"text-align: justify;\">El día 18 de septiembre del 2019 se esperaba el reporte de la Fed sobre las tasas de interés, en el periodo anterior se había reportado una tasa de 2.25%  y para este anuncio se esperaba por parte de los analistas que las tasas sufrieran un recort. De acuerdo con el calendario económico de FXstreet la Fed tomó la decisión de recortar la tasa de interés."
   ]
  },
  {
   "cell_type": "markdown",
   "metadata": {},
   "source": [
    "Gráfica 1.4"
   ]
  },
  {
   "cell_type": "markdown",
   "metadata": {},
   "source": [
    "![title](images/Graph3.png)"
   ]
  },
  {
   "cell_type": "markdown",
   "metadata": {},
   "source": [
    "De acuerdo con la gráfica 1.4, podemos observar como a raíz del recorte de la tasa de interés el euro se depreció frente al dolar, es decir en la gráfica podemos notar una tendencia bajista en cuanto al tipo de cambio eur/usd."
   ]
  },
  {
   "cell_type": "markdown",
   "metadata": {},
   "source": [
    "Tabla 1.7"
   ]
  },
  {
   "cell_type": "markdown",
   "metadata": {},
   "source": [
    "| Vela     | Horario  | Tipo de cambio | Comentarios |\n",
    "| :------- | :------: | -----:         |  -----:     |\n",
    "|   1      |  18:00   |    1.10612     | Máximo     |\n",
    "|   17     |  18:16   |    1.10287     | Mínimo     |\n",
    "|   31     |  18:30   |    1.10338     | Vela Final |"
   ]
  },
  {
   "cell_type": "markdown",
   "metadata": {},
   "source": [
    "Tabla 1.8 \n",
    "\n",
    "\n",
    "| Periodo         | Pips.    |\n",
    "| :-------        | :------: |  \n",
    "| Inicial - Mínimo|  32.5    |\n",
    "| Inicial - Final |  27.4    |"
   ]
  },
  {
   "cell_type": "markdown",
   "metadata": {},
   "source": [
    "<p style=\"text-align: justify;\"> Observando la gráfica 1.4 y la Tabla 1.7 podemos conlcuir que de acuerdo con la decisión de la Fed de recortar las tasas de interés, el dólar se vió favorecido frente al euro. Que a raíz de la publicación del indicador el tipo de cambio tomo una tendencia a la baja, en el periodo de 30 minutos el valor máximo se encuentra en el inicio del periodo, después de este, el valor mínimo es alcanzado en el minuto 16, como se puede observar en la gráfica 1.4 el tipo de cambio no recupero su valor inicial. En conclusión, en nuevamente la decisión de recortar la tasa de interés el dólar se vió fortalecido frente al euro."
   ]
  },
  {
   "cell_type": "markdown",
   "metadata": {},
   "source": [
    "## Escenario 5 \n",
    "La Fed toma la decisón de mantener la tasa de interés"
   ]
  },
  {
   "cell_type": "markdown",
   "metadata": {},
   "source": [
    "![title](images/time5.png)"
   ]
  },
  {
   "cell_type": "markdown",
   "metadata": {},
   "source": [
    "Gráfica 1.5"
   ]
  },
  {
   "cell_type": "markdown",
   "metadata": {},
   "source": [
    "![title](images/Graph5.png)"
   ]
  },
  {
   "cell_type": "markdown",
   "metadata": {},
   "source": [
    "De acuerdo con la gráfica 1.5, podemos observar como a raíz la decisión de mantener las tasa de interés,  el euro se vió fortalecido frente al dolar, es decir podemos en la gráfica podemos observar la tendencia alcista que toma el tipo de cambio a favor del euro."
   ]
  },
  {
   "cell_type": "markdown",
   "metadata": {},
   "source": [
    "Tabla 1.9"
   ]
  },
  {
   "cell_type": "markdown",
   "metadata": {},
   "source": [
    "| Vela     | Horario  | Tipo de cambio | Comentarios |\n",
    "| :------- | :------: | -----:         |  -----:     |\n",
    "|   1      | 19:00    | 1.10023        |  Vela inicial     |\n",
    "|   2      | 19:04    | 1.09995        |  Mínimo    |\n",
    "|   20     | 19:27    | 1.10081        |  Máximo     |\n",
    "|   31     | 19:30    | 1.10079        |  Vela final |"
   ]
  },
  {
   "cell_type": "markdown",
   "metadata": {},
   "source": [
    "Tabla 1.10\n",
    "\n",
    "\n",
    "| Periodo         | Pips.    |\n",
    "| :-------        | :------: |  \n",
    "| Inicial - Máximo| -5.8    |\n",
    "| Inicial - Mínimo|  2.8  |\n",
    "| Inicial - Final|  -5.6   |"
   ]
  },
  {
   "cell_type": "markdown",
   "metadata": {},
   "source": [
    "<p style=\"text-align: justify;\"> Observando la gráfica 1.5 y la Tabla 1.9 podemos conlcuir que de acuerdo con la decisión de la Fed de mantenerlas tasas de interés, el euro se vió favorecido frente al dolar. Que a raíz de la publicación del indicador el tipo de cambio tomo una tendencia alcista, en el periodo de 30 minutos el valor mínimo se da en el 4 para después tomar una tendencia alcista en donde toca el  máximo en el minuto 27, En conclusión, la decisión de mantener las tasas de interés favoreció al euro."
   ]
  },
  {
   "cell_type": "markdown",
   "metadata": {},
   "source": [
    "###### <span style=\"font-family:Papyrus; font-size:4em;\"> Estrategia de Trading"
   ]
  },
  {
   "cell_type": "markdown",
   "metadata": {},
   "source": [
    "De acuerdo con lo observado anteriormente podemos conlcuir que a raíz de la decisión de la Fed sucede lo siguiente. "
   ]
  },
  {
   "cell_type": "markdown",
   "metadata": {},
   "source": [
    "* La volatilidad aumenta. \n",
    "* La especulación aumenta por lo que los volúmenes de operación son altos. \n",
    "* El efecto es rápido. \n",
    "* Si el consenso ha anticipado la decisión la consecuencia será de un movimiento más razonable. \n",
    "* Si el consenso no se acerca a la decisión provoca grandes movimientos. \n",
    "\n"
   ]
  },
  {
   "cell_type": "markdown",
   "metadata": {},
   "source": [
    "Con base en la información obtenida, es decir los resultados de la evaluación empírica se considerará lo siguiente para formular una estrategia de trading para cuando se publiquen el indicador que le corresponde a la decisión de la Fed sobre las tasas de interés. \n",
    "\n",
    " Tabla 1.11\n",
    "\n",
    "| Escenario  |Estrategia |Volúmen | Takeprofit| Stoploss |\n",
    "| :-------   | :------:  |:-------| :------:  | :------- |                  \n",
    "| La Fed decide mantener las tasas de interés | Tomar posición larga eurusd  |10 | 56| 30 | \n",
    "| La Fed decide incrementar las tasas de interés    | Tomar posición larga eurusd|10 |56|30 |\n",
    "| La Fed decide recortar las tasas de interés   |   Tomar posición corta eurusd  |20| 30|20 |\n"
   ]
  },
  {
   "cell_type": "markdown",
   "metadata": {},
   "source": [
    "Para para las posiciones largas que se realicen, se considerará el arriesgar el 3% del capital, que en este caso cada operación tendría un riesgo de 3,000 dólares."
   ]
  },
  {
   "cell_type": "markdown",
   "metadata": {},
   "source": [
    "Para las posiciones cortas que se realicen, se considerará el arriegar el 4% del capital, que en este caso cada operación tendría un riesgo de 4,000 dólares. "
   ]
  },
  {
   "cell_type": "markdown",
   "metadata": {},
   "source": [
    "Referencias:\n",
    "\n",
    "https://www.elfinanciero.com.mx/economia/que-significa-que-la-fed-recorte-la-tasa-de-interes\n",
    "https://admiralmarkets.es/education/articles/forex-strategy/fed-tipos\n",
    "https://www.iforex.mx/anuncios-tasas-de-interes"
   ]
  },
  {
   "cell_type": "code",
   "execution_count": null,
   "metadata": {},
   "outputs": [],
   "source": []
  },
  {
   "cell_type": "code",
   "execution_count": null,
   "metadata": {},
   "outputs": [],
   "source": []
  }
 ],
 "metadata": {
  "kernelspec": {
   "display_name": "Python 3",
   "language": "python",
   "name": "python3"
  },
  "language_info": {
   "codemirror_mode": {
    "name": "ipython",
    "version": 3
   },
   "file_extension": ".py",
   "mimetype": "text/x-python",
   "name": "python",
   "nbconvert_exporter": "python",
   "pygments_lexer": "ipython3",
   "version": "3.7.4"
  }
 },
 "nbformat": 4,
 "nbformat_minor": 2
}
