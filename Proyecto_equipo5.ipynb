{
 "cells": [
  {
   "cell_type": "markdown",
   "metadata": {},
   "source": [
    "<img src=\"http://oci02.img.iteso.mx/identidad_de_instancia_2018/ITESO/Logos%20ITESO/Logo-ITESO-Principal.jpg\">\n"
   ]
  },
  {
   "cell_type": "markdown",
   "metadata": {},
   "source": [
    "<center> <font color= #004A94> <font size = 6> Lic. Ingeniería Financiera </font> <br> <br> <font color= #047CFB> <font size = 4>I.F. María Fernanda Pinedo Talango - if705971@iteso.mx <br> I.F. Francisco Ricardo Rodríguez Ramírez - if705783@iteso.mx <br> I.F. Oscar Eduardo Flores Hernández - if715029@iteso.mx </font>\n",
    "\n",
    " "
   ]
  },
  {
   "cell_type": "markdown",
   "metadata": {},
   "source": [
    "<center><font color= #004A94> <font size = 6> Microestructura y Sistemas de Trading </font> <br> <br>"
   ]
  },
  {
   "cell_type": "markdown",
   "metadata": {},
   "source": [
    "<center><font color=#42c29b><font size=5> Laboratorio 4: Proyecto Final </font> <br> <br>"
   ]
  },
  {
   "cell_type": "markdown",
   "metadata": {},
   "source": [
    "<center> <font color= #047CFB> <font size = 4> Primavera 2020 </font>  |  <font color= #047CFB> <font size = 4> Repositorio: <a href='https://github.com/OscarFlores-IFi/proyecto_equipo5'>https://github.com/OscarFlores-IFi/proyecto_equipo5</a></font>"
   ]
  },
  {
   "cell_type": "markdown",
   "metadata": {},
   "source": [
    "###### <span style=\"font-family:Papyrus; font-size:4em;\"> Resumen "
   ]
  },
  {
   "cell_type": "markdown",
   "metadata": {},
   "source": []
  },
  {
   "cell_type": "markdown",
   "metadata": {},
   "source": []
  },
  {
   "cell_type": "markdown",
   "metadata": {},
   "source": []
  },
  {
   "cell_type": "markdown",
   "metadata": {},
   "source": [
    "##### <span style=\"font-family:Papyrus; font-size:4em;\"> Fed Interest Rate Decision"
   ]
  },
  {
   "cell_type": "markdown",
   "metadata": {},
   "source": [
    "<p style=\"text-align: justify;\"> Las tasas de interés hacen referencia a la cantidad de interés que se debe en un periodo, el cual se representa como un porcentaje anual. Cada país consta de un Banco Central, el cual es el responsable de la política económica del país y ocasionalmente está involucrado en la toma de decisiones sobre las tasas. Las decisiones de un Banco Central, en especial de potencias económicas como lo es, Estados Unidos suelen tener gran impacto en el mercado de divisas, dado que en su anuncio viene implícito el rumbo de la economía. La decisión sobre un aumento, un recorte o el manteneralas son establecidas sobre las condiciones actuales del empleo, inflación e inversiones. </p>\n",
    "<p style=\"text-align: justify;\">Es un indicador muy importante, por lo que los operadores están muy al pendiente de sus anuncios, los cuales están en fechas predefinidas. Estos anuncios suelen afectar las decisiones de los operadores dado que los movimientos en las tasas de interés podrías afectar en varios aspectos del mercado de todas las industrias. \n",
    "Se considera este indicador, dado que las decisiones que toma el sistema de la Reserva Federal de los Estados Unidos, sobre las tasas de interés suelen influir en la economía mundial. Por lo que un movimiento en estas podría afectar tanto la inflación y el crecimiento de la potencia económica que representa este país. \n",
    "Cualquier movimiento en las tasas de interés puede ser influyente, es decir si se decide recortarla, aumentarla o mantenerla. Dado que las decisiones siempre son orientadas con el objetivo de promover el crecimiento económico por lo que cualquiera de estas decisiones afectan al mercado de la siguiente manera. \n",
    "</p>"
   ]
  },
  {
   "cell_type": "markdown",
   "metadata": {},
   "source": [
    "Para comprender el como afectan las decisiones de la Fed, sobre las tasas de interés. Es importante mencionar que la política econóomica de la Reserva Fedderal se basa en el control de la inflación y la promoción del máximo empleo. \n",
    "\n",
    "* Si la tasa de interés sufre un aumento.\n",
    "    * Se suele tomar como una reducción al impulso de la política económica de la economía. \n",
    "* Si la tasa de interés sufre un recorte. \n",
    "    * Se traduce a la busqueda de impulsar la economía, dado que el objetivo es      que los créditos se abaraten.\n",
    "* Si la tasa de interés se mantiene.\n",
    "    * Podría ocasionar movimientos en el mercado si es que los inversionistas         esperaban un cambio.\n"
   ]
  },
  {
   "cell_type": "markdown",
   "metadata": {},
   "source": [
    "<p style=\"text-align: justify;\"> A continuación, se presenta validaciones visuales sobre el comportamiento del Euro en relación con el Dólar en el momento en el que la Fed anuncia la tasa de interés por un lapso de media hora. Para entender las siguientes figuras es preciso destacar lo siguiente. \n",
    "    \n",
    "* Las líneas azules corresponden al periodo de tiempo, desde que se reporta el   indicador hasta que transcurre media hora. \n",
    "* La línea verde corresponde al máximo que se obtuvo en el periodo de media       hora.\n",
    "* La línea roja corresponde al mínimo que se obtuvo en el periodo de media       hora. \n",
    "* Las líneas negras marcan la diferencia entre el máximo y el mínimo o           viceversa.\n",
    "* Las líneas punteadas azules corresponden a la validación de máximos y/o        mínimos.\n"
   ]
  },
  {
   "cell_type": "markdown",
   "metadata": {},
   "source": [
    "###### <span style=\"font-family:Papyrus; font-size:4em;\"> Validaciones visuales\n"
   ]
  },
  {
   "cell_type": "markdown",
   "metadata": {},
   "source": [
    "Los siguientes escenarios se presentaron en la zona horaria 00:00"
   ]
  },
  {
   "cell_type": "markdown",
   "metadata": {},
   "source": [
    "# Escenario 1 "
   ]
  },
  {
   "cell_type": "markdown",
   "metadata": {},
   "source": [
    "La Fed toma la decisión de aumentar la tasa de interés."
   ]
  },
  {
   "cell_type": "markdown",
   "metadata": {},
   "source": [
    "![title](images/time00.PNG)"
   ]
  },
  {
   "cell_type": "markdown",
   "metadata": {},
   "source": [
    "El día 19 de diciembre del 2018 se esperaba que la FED anunciara un aumento en la tasa de interés, dado que anteriormente habían anunciado una tasa de 2.25% en esta ocasión los analistas esperaban un aumento de 25 puntos base. De acuerdo con el calendario económico de FXstreet la tasa de interés sugrió un incremento de 25 puntos base."
   ]
  },
  {
   "cell_type": "markdown",
   "metadata": {},
   "source": [
    "![title](images/graph00.png)"
   ]
  },
  {
   "cell_type": "markdown",
   "metadata": {},
   "source": [
    "<p style=\"text-align: justify;\">De acuerdo con la gráfica 1.1 podemos observar que en el lapso de media hora, una vez se emitió el  reporte sobre las tasa de interés. En este caso el dólar se aprecia frente al euro a raíz de la decisión de la Fed de subir 25 puntos base la tasa de interés. "
   ]
  },
  {
   "cell_type": "markdown",
   "metadata": {},
   "source": [
    "Tabla 1.1\n",
    "\n",
    "| Vela     | Horario  | Tipo de cambio | Comentarios | \n",
    "| :------- | :------: | -----:         |  -----:     |\n",
    "|     1    |   19:00  |     1.14195    |  Máximo     |\n",
    "|     21    |   19:20  |     1.13838    |  Mínimo     |\n",
    "|     31   |   19:30  |     1.13915    |  Final      |\n"
   ]
  },
  {
   "cell_type": "markdown",
   "metadata": {},
   "source": [
    "<p style=\"text-align: justify;\">Observando la gráfica 1.1 y la tabla 1.1 podemos concluir que de acuerdo con la decision de subir la tasa de interés, el dolar se apreció frente al euro, que dentro de un periodo de 30 minutos, el tipo de cambio tocó un mínimo en el minuto 20, durante el tiempo restante el euro recupero algo de valor sin embargo, no fue significativo. Pues como podemos observar la vela final está muy por debajo de la inicial dado que esta tuvo el valor más alto en el periodo de tiemo. Cabe destacar que una vez, se dió el anuncio por parte de la Fed se puede observar un gran movimiento a favor del dólar."
   ]
  },
  {
   "cell_type": "markdown",
   "metadata": {},
   "source": [
    "Tabla 1.2 \n",
    "\n",
    "Tabla 1.6 Escenarios de gancias en pips si abres una operación larga a las 19:00 \n",
    "\n",
    "\n",
    "| Periodo         | Pips.    |\n",
    "| :-------        | :------: | \n",
    "| Inicial - Mínimo|   35.7    |\n",
    "| Inicial - Final |  28   |"
   ]
  },
  {
   "cell_type": "markdown",
   "metadata": {},
   "source": [
    "<p style=\"text-align: justify;\"> De acuerdo con la tabla 1.2, si en el momento del anuncio de la Fed se hubiera tomando una posición larga durante 20 minutos se hubiera alcanzado una ganancia de 35.7 pips. De igual manera, si se hubiera mantendio la posición durante los 30 minutos se obtendría una ganancia de 28 pips. "
   ]
  },
  {
   "cell_type": "markdown",
   "metadata": {},
   "source": [
    "## Diseño empírico de una operación"
   ]
  },
  {
   "cell_type": "markdown",
   "metadata": {},
   "source": [
    "A continuación describiremos que hubiera pasado en caso de abrir una posición larga antes de que se diera el anuncio de la Fed. "
   ]
  },
  {
   "cell_type": "markdown",
   "metadata": {},
   "source": [
    "Escenarios 1.1\n",
    "\n",
    "* Se abre la posición un minuto antes de la publicación de indicador, se coloca un Takeprofit de 30 pips y un Stoploss de 10 pips\n",
    "\n",
    "Tabla 1.3\n",
    "\n",
    "| Apertura de posición|  Se cierra la posición  |Ganacia en Pips| Velas trasncurridas |\n",
    "| :-------:         | :------:                | :----:        |   :-----------:     |\n",
    "|    1.14364          |    1.1395          |    32.8        |        3           |\n",
    "\n",
    "\n",
    "* Se abre la posición un minuto antes de la publicación de indicador, se coloca un Takeprofit de 50 pips y un Stoploss de 10 pips\n",
    "\n",
    "Tabla 1.\n",
    "\n",
    "| Apertura de posición|  Se cierra la posición  |Ganacia en Pips| Velas trasncurridas |\n",
    "| :-------:         | :------:                | :----:        |   :-----------:     |\n",
    "|    1.14364          |    1.13844              |    52         |        20             |\n",
    "\n"
   ]
  },
  {
   "cell_type": "markdown",
   "metadata": {},
   "source": [
    "\n",
    "# Escenario 2\n",
    "\n",
    "<p style=\"text-align: justify;\"> La Fed toma la decisión de mantener la tasa de interés\n",
    "    "
   ]
  },
  {
   "cell_type": "markdown",
   "metadata": {},
   "source": [
    "![title](images/time002.PNG)"
   ]
  },
  {
   "cell_type": "markdown",
   "metadata": {},
   "source": [
    "<p style=\"text-align: justify;\">El día 19 de junio del 2019 se esperaba el reporte de la Fed sobre las tasas de interés, en el periodo anterior se había reportado una tasa de 2.5%  y para este anuncio se esperaba por parte de los analistas que la tasa no sufrieran algún movimiento. De acuerdo con el calendario económico de FXstreet la tasa de interés anunciada por la Fed se mantuvo."
   ]
  },
  {
   "cell_type": "markdown",
   "metadata": {},
   "source": [
    "Gráfica 1.2"
   ]
  },
  {
   "cell_type": "markdown",
   "metadata": {},
   "source": [
    "![title](images/Graph01.png)"
   ]
  },
  {
   "cell_type": "markdown",
   "metadata": {},
   "source": [
    "<p style=\"text-align: justify;\">"
   ]
  },
  {
   "cell_type": "markdown",
   "metadata": {},
   "source": [
    "<p style=\"text-align: justify;\">De acuerdo con la gráfica 1.2 podemos observarque en el lapso de media hora, una vez se emitió el  reporte sobre las tasa de interé. En este caso el euro se vio apreciado frente al dólar a raíz de la decisión de manter constante la tasa de interés. "
   ]
  },
  {
   "cell_type": "markdown",
   "metadata": {},
   "source": [
    "Tabla 1.5"
   ]
  },
  {
   "cell_type": "markdown",
   "metadata": {},
   "source": [
    "| Vela     | Horario  | Tipo de cambio | Comentarios |\n",
    "| :------- | :------: | -----:         |  -----:     |\n",
    "|     1    |   18:00  |     1.12283    |  Vela inicial   |\n",
    "|     7    |   18:06  |     1.12500    |  Máximo     |\n",
    "|    31    |   18:30  |     1.12468    |  Vela final |"
   ]
  },
  {
   "cell_type": "markdown",
   "metadata": {},
   "source": [
    "<p style=\"text-align: justify;\">Observando la gráfica 1.2 y la tabla 1.5 podemos concluir que de acuerdo con la decision de mantener la tasa de interés, el dolar se debilitó frente al euro, que dentro de un periodo de 30 minutos, el tipo de cambio alcanzó su máximo en la minuto 6 y posteriormente tomo una tendencia a la baja durante 15 minutos para después recuperar valor a favor del euro. sin embargo, tomó una tendencia a la baja hasta la vela 30.Cabe destacar que se manifestó un movimiento brusco a la 13:00 es decir en momento que en teoría se anunció la decisión de la Fed, el euro se vió favorecido. "
   ]
  },
  {
   "cell_type": "markdown",
   "metadata": {},
   "source": [
    "Tabla 1.6 \n",
    "\n",
    "Escenarios de gancias en pips si abres una operación corta a las 18:00 \n",
    "\n",
    "| Periodo     | Pips.    |\n",
    "| :------- | :------: | \n",
    "| Inicial - Máximo|    21.7      | \n",
    "| Inicial - Vela final |  18.5        | "
   ]
  },
  {
   "cell_type": "markdown",
   "metadata": {},
   "source": [
    "<p style=\"text-align: justify;\">De acuerdo con la tabla 1.6, si en el momento del anuncio de la Fed se hubiera tomando una posición corta durante 6 minutos se hubiera alcanzado una ganancia de 21.7 pips. De igual manera, si se hubiera mantendio la posición durante los 30 minutos se obtendría una ganancia de 18.5 pips. "
   ]
  },
  {
   "cell_type": "markdown",
   "metadata": {},
   "source": [
    "## Diseño empírico de una operación"
   ]
  },
  {
   "cell_type": "markdown",
   "metadata": {},
   "source": [
    "A continuación describiremos que hubiera pasado en caso de abrir una posición corta un minuto antes de que se diera el anuncio de la Fed."
   ]
  },
  {
   "cell_type": "markdown",
   "metadata": {},
   "source": [
    "Escenarios 1.2\n",
    "\n",
    "* Se abre la posición un minuto antes de la publicación de indicador, se coloca un Takeprofit de 10 pips y un Stoploss de 10 pips\n",
    "\n",
    "Tabla 1.7\n",
    "\n",
    "| Apertura de posición|  Se cierra la posición  |Ganacia en Pips| Velas trasncurridas |\n",
    "| :-------:         | :------:                | :----:        |   :-----------:     |\n",
    "|   1.12215          | 1.12338        |    12.3       |        2         |\n",
    "\n",
    "\n",
    "* Se abre la posición un minuto antes de la publicación de indicador, se coloca un Takeprofit de 50 pips y un Stoploss de 10 pips\n",
    "\n",
    "Tabla 1.8\n",
    "\n",
    "| Apertura de posición|  Se cierra la posición  |Ganacia en Pips| Velas trasncurridas |\n",
    "| :-------:         | :------:                | :----:        |   :-----------:     |\n",
    "|    1.12215         |    N/A              |    0        |        30             |\n",
    "\n",
    "En este caso no se ejectuó la orden dado que en el periodo de 30 minutos no se llega a a alcanzar la ganancia de 50 pips, lo máximo que su pudo haber alcanzado fue una ganancia de 28.5 pips en un transcurso de media hora.\n"
   ]
  },
  {
   "cell_type": "markdown",
   "metadata": {},
   "source": [
    "# Escenario 3"
   ]
  },
  {
   "cell_type": "markdown",
   "metadata": {},
   "source": [
    "La Fed toma la decisión de recortar la tasa de interés"
   ]
  },
  {
   "cell_type": "markdown",
   "metadata": {},
   "source": [
    "![title](images/time03.PNG)"
   ]
  },
  {
   "cell_type": "markdown",
   "metadata": {},
   "source": [
    "<p style=\"text-align: justify;\">El día 31 de julio del 2019, se esperaba el reporte de la Fed, conocemos que anteriormente se había mantenido la tasa de interés en 2.5%, sin embargo la expectativa de los análistas indicaba que este periodo se reportaría algún recorte en las tasas de interés. En esta ocasión  de acuerdo con el calendario económico de FXStreet, la Fed reportó un recorte de 25 puntos base, es decir en este caso se estableció la tasa de interés en 2.25%. "
   ]
  },
  {
   "cell_type": "markdown",
   "metadata": {},
   "source": [
    "Gráfica 1.3"
   ]
  },
  {
   "cell_type": "markdown",
   "metadata": {},
   "source": [
    "![title](images/Graph02.png)"
   ]
  },
  {
   "cell_type": "markdown",
   "metadata": {},
   "source": [
    "De acuerdo con la gráfica 1.3, podemos observar como a raíz del recorte de la tasa de interés el euro se depreciófrente al dolar, es decir en la gráfica podemos notar una tendencia bajista en cuanto al tipo de cambio eur/usd.  "
   ]
  },
  {
   "cell_type": "markdown",
   "metadata": {},
   "source": [
    "Tabla 1.9"
   ]
  },
  {
   "cell_type": "markdown",
   "metadata": {},
   "source": [
    "| Vela     | Horario  | Tipo de cambio | Comentarios |\n",
    "| :------- | :------: | -----:         |  -----:     |\n",
    "|    1     | 18:00    |1.11264         |Máximo       |\n",
    "|    4     | 18:03    |1.10983         |Mínimo       |\n",
    "|   31     | 18:30    |1.11122         |Vela final|"
   ]
  },
  {
   "cell_type": "markdown",
   "metadata": {},
   "source": [
    "<p style=\"text-align: justify;\"> Observando la gráfica 1.3 y la tabla 1.9 podemos conlcuir que de acuerdo con la decisión de la Fed de recortar las tasas de interés, el dólar se vió favorecido frente al euro. Que a raíz de la publicación del indicador el tipo de cambio tomo una tendencia a la baja en donde el dolar se ve fortalecido, en el periodo de 30 minutos el valor máximo se encuentra en el inicio del periodo, después de este, el valor mínimo es alcanzado en el minuto 3, como se puede observar en la gráfica 1.2 el tipo de cambio no recupero su valor inicial. En conclusión, en esta ocasión la decisión de recortar la tasa de interés el dólar se vió fortalecido frente al euro."
   ]
  },
  {
   "cell_type": "markdown",
   "metadata": {},
   "source": [
    "Tabla 1.10\n",
    "\n",
    "Escenarios de gancias en pips si abres una operación corta a las 18:00 \n",
    "\n",
    "| Periodo         | Pips.    |\n",
    "| :-------        | :------: |  \n",
    "| Inicial - Mínimo|   28.1    |\n",
    "| Inicial - Final|    14.2  |"
   ]
  },
  {
   "cell_type": "markdown",
   "metadata": {},
   "source": [
    "<p style=\"text-align: justify;\">De acuerdo con la tabla 1.10, si en el momento del anuncio de la Fed se hubiera tomando una posición larga durante 4 minutos se hubiera alcanzado una ganancia de 28.1 pips. De igual manera, si se hubiera mantendio la posición durante los 30 minutos se obtendría una ganancia de 14.2 pips. "
   ]
  },
  {
   "cell_type": "markdown",
   "metadata": {},
   "source": [
    "## Diseño empírico de una operación\n",
    "\n",
    "A continuación describiremos que hubiera pasado en caso de abrir una posición larga antes de que se diera el anuncio de la Fed."
   ]
  },
  {
   "cell_type": "markdown",
   "metadata": {},
   "source": [
    "Escenarios 1.4\n",
    "\n",
    "* Se abre la posición un minuto antes de la publicación de indicador, se coloca un Takeprofit de 20 pips y un Stoploss de 10 pips\n",
    "\n",
    "Tabla 1.11\n",
    "\n",
    "| Apertura de posición|  Se cierra la posición  |Ganacia en Pips| Velas trasncurridas |\n",
    "| :-------:         | :------:                | :----:        |   :-----------:     |\n",
    "|   1.11378          | 1.11169       |    24.8      |        2         |\n",
    "\n",
    "\n",
    "* Se abre la posición un minuto antes de la publicación de indicador, se coloca un Takeprofit de 35 pips y un Stoploss de 10 pips\n",
    "\n",
    "Tabla 1.12\n",
    "\n",
    "| Apertura de posición|  Se cierra la posición  |Ganacia en Pips| Velas trasncurridas |\n",
    "| :-------:         | :------:                | :----:        |   :-----------:     |\n",
    "|    1.11378        |    1.11130              |    39.5       |        4             |"
   ]
  },
  {
   "cell_type": "markdown",
   "metadata": {},
   "source": [
    "# Escenario 4"
   ]
  },
  {
   "cell_type": "markdown",
   "metadata": {},
   "source": [
    "La Fed toma la decisón de recortar la tasa de interés"
   ]
  },
  {
   "cell_type": "markdown",
   "metadata": {},
   "source": [
    "![title](images/time04.PNG)"
   ]
  },
  {
   "cell_type": "markdown",
   "metadata": {},
   "source": [
    "<p style=\"text-align: justify;\">El día 18 de septiembre del 2019 se esperaba el reporte de la Fed sobre las tasas de interés, en el periodo anterior se había reportado una tasa de 2.25%  y para este anuncio se esperaba por parte de los analistas que las tasas sufrieran un recort. De acuerdo con el calendario económico de FXstreet la Fed tomó la decisión de recortar la tasa de interés."
   ]
  },
  {
   "cell_type": "markdown",
   "metadata": {},
   "source": [
    "Gráfica 1.4"
   ]
  },
  {
   "cell_type": "markdown",
   "metadata": {},
   "source": [
    "![title](images/Graph03.png)"
   ]
  },
  {
   "cell_type": "markdown",
   "metadata": {},
   "source": [
    "De acuerdo con la gráfica 1.4, podemos observar como a raíz del recorte de la tasa de interés el euro se depreció frente al dolar, es decir en la gráfica podemos notar una tendencia bajista en cuanto al tipo de cambio eur/usd."
   ]
  },
  {
   "cell_type": "markdown",
   "metadata": {},
   "source": [
    "Tabla 1.12"
   ]
  },
  {
   "cell_type": "markdown",
   "metadata": {},
   "source": [
    "| Vela     | Horario  | Tipo de cambio | Comentarios |\n",
    "| :------- | :------: | -----:         |  -----:     |\n",
    "|   1      |  18:00   |    1.10612     | Máximo     |\n",
    "|   17     |  18:16   |    1.10287     | Mínimo     |\n",
    "|   31     |  18:30   |    1.10338     | Vela Final |"
   ]
  },
  {
   "cell_type": "markdown",
   "metadata": {},
   "source": [
    "<p style=\"text-align: justify;\"> Observando la gráfica 1.4 y la Tabla 1.7 podemos conlcuir que de acuerdo con la decisión de la Fed de recortar las tasas de interés, el dólar se vió favorecido frente al euro. Que a raíz de la publicación del indicador el tipo de cambio tomo una tendencia a la baja, en el periodo de 30 minutos el valor máximo se encuentra en el inicio del periodo, después de este, el valor mínimo es alcanzado en el minuto 16, como se puede observar en la gráfica 1.4 el tipo de cambio no recupero su valor inicial. En conclusión, en nuevamente la decisión de recortar la tasa de interés el dólar se vió fortalecido frente al euro."
   ]
  },
  {
   "cell_type": "markdown",
   "metadata": {},
   "source": [
    "Tabla 1.13\n",
    "\n",
    "\n",
    "| Periodo         | Pips.    |\n",
    "| :-------        | :------: |  \n",
    "| Inicial - Mínimo|  32.5    |\n",
    "| Inicial - Final |  27.4    |"
   ]
  },
  {
   "cell_type": "markdown",
   "metadata": {},
   "source": [
    "<p style=\"text-align: justify;\">De acuerdo con la tabla 1.13, si en el momento del anuncio de la Fed se hubiera tomando una posición larga durante 17 minutos se hubiera alcanzado una ganancia de 28.1 pips. De igual manera, si se hubiera mantendio la posición durante los 30 minutos se obtendría una ganancia de 27.4 pips. "
   ]
  },
  {
   "cell_type": "markdown",
   "metadata": {},
   "source": [
    "Escenarios 1.4\n",
    "\n",
    "* Se abre la posición un minuto antes de la publicación de indicador, se coloca un Takeprofit de 30 pips y un Stoploss de 10 pips\n",
    "\n",
    "Tabla 1.11\n",
    "\n",
    "| Apertura de posición|  Se cierra la posición  |Ganacia en Pips| Velas trasncurridas |\n",
    "| :-------:         | :------:                | :----:        |   :-----------:     |\n",
    "|   1.10655          | 1.10350       |    30      |        14         |\n",
    "\n",
    "\n",
    "* Se abre la posición un minuto antes de la publicación de indicador, se coloca un Takeprofit de 35 pips y un Stoploss de 10 pips\n",
    "\n",
    "Tabla 1.12\n",
    "\n",
    "| Apertura de posición|  Se cierra la posición  |Ganacia en Pips| Velas trasncurridas |\n",
    "| :-------:         | :------:             | :----:        |   :-----------:     |\n",
    "|    1.10655        |    1.10295              |    36      |        16           |"
   ]
  },
  {
   "cell_type": "markdown",
   "metadata": {},
   "source": [
    "# Escenario 5 \n",
    "La Fed toma la decisón de mantener la tasa de interés"
   ]
  },
  {
   "cell_type": "markdown",
   "metadata": {},
   "source": [
    "![title](images/time05.PNG)"
   ]
  },
  {
   "cell_type": "markdown",
   "metadata": {},
   "source": [
    "Gráfica 1.5"
   ]
  },
  {
   "cell_type": "markdown",
   "metadata": {},
   "source": [
    "![title](images/Graph05.png)"
   ]
  },
  {
   "cell_type": "markdown",
   "metadata": {},
   "source": [
    "De acuerdo con la gráfica 1.5, podemos observar como a raíz la decisión de mantener las tasa de interés,  el euro se vió fortalecido frente al dolar, es decir podemos en la gráfica podemos observar la tendencia alcista que toma el tipo de cambio a favor del euro."
   ]
  },
  {
   "cell_type": "markdown",
   "metadata": {},
   "source": [
    "Tabla 1.14"
   ]
  },
  {
   "cell_type": "markdown",
   "metadata": {},
   "source": [
    "| Vela     | Horario  | Tipo de cambio | Comentarios |\n",
    "| :------- | :------: | -----:         |  -----:     |\n",
    "|   1      | 19:00    | 1.10023        |  Vela inicial     |\n",
    "|   5      | 19:04    | 1.09995        |  Mínimo    |\n",
    "|   28     | 19:27    | 1.10081        |  Máximo     |\n",
    "|   31     | 19:30    | 1.10079        |  Vela final |"
   ]
  },
  {
   "cell_type": "markdown",
   "metadata": {},
   "source": [
    "<p style=\"text-align: justify;\"> Observando la gráfica 1.5 y la tabla 1.14 podemos conlcuir que de acuerdo con la decisión de la Fed de mantenerlas tasas de interés, el euro se vió favorecido frente al dolar. Que a raíz de la publicación del indicador el tipo de cambio tomo una tendencia alcista, en el periodo de 30 minutos el valor mínimo se da en el 4 para después tomar una tendencia alcista en donde toca el  máximo en el minuto 27, En conclusión, la decisión de mantener las tasas de interés favoreció al euro."
   ]
  },
  {
   "cell_type": "markdown",
   "metadata": {},
   "source": [
    "Tabla 1.15\n",
    "\n",
    "\n",
    "| Periodo         | Pips.    |\n",
    "| :-------        | :------: |  \n",
    "| Inicial - Máximo| 5.8    |\n",
    "| Inicial - Mínimo| 2.8  |\n",
    "| Inicial - Final|  5.6   |"
   ]
  },
  {
   "cell_type": "markdown",
   "metadata": {},
   "source": [
    "<p style=\"text-align: justify;\">De acuerdo con la tabla 1.15, si en el momento del anuncio de la Fed se hubiera tomando una posición corta durante 26 minutos se hubiera alcanzado una ganancia de 5.8 pips. De igual manera, si se hubiera mantendio la posición durante los 30 minutos se obtendría una ganancia de 5.6 pips. "
   ]
  },
  {
   "cell_type": "markdown",
   "metadata": {},
   "source": [
    "Escenarios 1.5\n",
    "\n",
    "* Se abre la posición un minuto antes de la publicación de indicador, se coloca un Takeprofit de 30 pips y un Stoploss de 5 pips\n",
    "\n",
    "Tabla 1.16\n",
    "\n",
    "| Apertura de posición|  Se cierra la posición  |Ganacia en Pips| Velas trasncurridas |\n",
    "| :-------:         | :------:                | :----:        |   :-----------:     |\n",
    "|   1.10023          |         N/A         |    0      |        31         |\n",
    "\n",
    "En este caso no se ejectuó la orden dado que en el periodo de 30 minutos no se llega a a alcanzar la ganancia de 30 pips, lo máximo que su pudo haber alcanzado fue una ganancia de 5.8 pips en un transcurso de 28 minutos.\n",
    "\n",
    "* Se abre la posición un minuto antes de la publicación de indicador, se coloca un Takeprofit de 35 pips y un Stoploss de 10 pips\n",
    "\n",
    "Tabla 1.17\n",
    "\n",
    "| Apertura de posición|  Se cierra la posición  |Ganacia en Pips| Velas trasncurridas |\n",
    "| :-------:         | :------:             | :----:        |   :-----------:     |\n",
    "|    1.10023        |    N/A           |    0     |        31          |\n",
    "\n",
    "En este caso no se ejectuó la orden dado que en el periodo de 30 minutos no se llega a a alcanzar la ganancia de 30 pips, lo máximo que su pudo haber alcanzado fue una ganancia de 5.8 pips en un transcurso de 28 minutos."
   ]
  },
  {
   "cell_type": "markdown",
   "metadata": {},
   "source": [
    "###### <span style=\"font-family:Papyrus; font-size:4em;\"> Regla de Trading"
   ]
  },
  {
   "cell_type": "markdown",
   "metadata": {},
   "source": [
    "De acuerdo con lo observado anteriormente podemos conlcuir que a raíz de la decisión de la Fed sucede lo siguiente. "
   ]
  },
  {
   "cell_type": "markdown",
   "metadata": {},
   "source": [
    "* La volatilidad aumenta. \n",
    "* La especulación aumenta por lo que los volúmenes de operación son altos. \n",
    "* El efecto es rápido. \n",
    "* Si el consenso ha anticipado la decisión la consecuencia será de un movimiento más razonable. \n",
    "* Si el consenso no se acerca a la decisión provoca grandes movimientos. \n",
    "\n"
   ]
  },
  {
   "cell_type": "markdown",
   "metadata": {},
   "source": [
    "Con base en la información obtenida, es decir los resultados de la evaluación empírica se considerará lo siguiente para formular una estrategia de trading para cuando se publiquen el indicador que le corresponde a la decisión de la Fed sobre las tasas de interés. \n",
    "\n",
    " Tabla 1.11\n",
    "\n",
    "| Escenario  |Estrategia |Lotes | Takeprofit| Stoploss |\n",
    "| :-------   | :------:  |:-------| :------:  | :------- |                  \n",
    "| La Fed decide mantener las tasas de interés | Tomar posición larga eurusd  |1 | |  | \n",
    "| La Fed decide incrementar las tasas de interés    | Tomar posición corta eurusd|1 || |\n",
    "| La Fed decide recortar las tasas de interés   |   Tomar posición corta eurusd  |1| | |\n"
   ]
  },
  {
   "cell_type": "markdown",
   "metadata": {},
   "source": []
  },
  {
   "cell_type": "markdown",
   "metadata": {},
   "source": []
  },
  {
   "cell_type": "markdown",
   "metadata": {},
   "source": [
    "###### <span style=\"font-family:Papyrus; font-size:4em;\"> Bibliografía"
   ]
  },
  {
   "cell_type": "markdown",
<<<<<<< HEAD
   "metadata": {},
   "source": [
    "# *Aspectos estadísticos/matemáticos*"
   ]
  },
  {
   "cell_type": "markdown",
   "metadata": {},
   "source": [
    "Para tener un mejor entendimiento del comportamiento del Indicador escogido y mencionado anteriormente, se realiza un análisis estadístico/matemático. En donde el indicador pasa por siete diferentes pruebas para poder determinar características de la serie de tiempo."
   ]
  },
  {
   "cell_type": "code",
   "execution_count": 2,
   "metadata": {},
   "outputs": [
    {
     "name": "stderr",
     "output_type": "stream",
     "text": [
      "c:\\users\\user\\appdata\\local\\programs\\python\\python36\\lib\\site-packages\\ipykernel_launcher.py:17: DeprecationWarning: The statsmodels.sandbox.stats.diagnostic module is deprecated. Use statsmodels.stats.diagnostic.\n"
     ]
    }
   ],
   "source": [
    "# Descarga de librerías a utilizar\n",
    "\n",
    "import funciones as fn\n",
    "import visualizaciones as vn\n",
    "import datos as dt\n",
    "import entradas as et\n",
    "\n",
    "import pandas as pd\n",
    "import numpy as np\n",
    "import statsmodels.api as sm\n",
    "from statsmodels.tsa.stattools import adfuller\n",
    "from statsmodels.stats.diagnostic import het_breuschpagan \n",
    "import statsmodels.stats.diagnostic as smd\n",
    "import scipy.stats\n",
    "from scipy.stats import shapiro\n",
    "from scipy.stats import normaltest\n",
    "from statsmodels.sandbox.stats.diagnostic import acorr_lm\n",
    "import statsmodels.sandbox.stats.diagnostic as ssd\n",
    "from statsmodels.sandbox.stats.diagnostic import het_arch\n",
    "\n",
    "import matplotlib.pyplot as plt\n",
    "from statsmodels.graphics.tsaplots import plot_acf\n",
    "from statsmodels.graphics.tsaplots import plot_pacf\n",
    "from statsmodels.graphics.gofplots import qqplot\n",
    "from statsmodels.tsa.seasonal import seasonal_decompose\n",
    "import statsmodels.api as sm\n",
    "from statsmodels.tsa.seasonal import STL"
   ]
  },
  {
   "cell_type": "code",
   "execution_count": 5,
   "metadata": {},
   "outputs": [
    {
     "name": "stdout",
     "output_type": "stream",
     "text": [
      "              datetime  actual  consensus  previous\n",
      "0  2020-01-29 19:00:00    1.75       1.75      1.75\n",
      "1  2019-12-11 19:00:00    1.75       1.75      1.75\n",
      "2  2019-10-30 18:00:00    1.75       1.75      2.00\n",
      "3  2019-09-18 18:00:00    2.00       2.00      2.25\n",
      "4  2019-07-31 18:00:00    2.25       2.25      2.50\n",
      "..                 ...     ...        ...       ...\n",
      "84 2009-08-12 18:15:00    0.25       0.25      0.25\n",
      "85 2009-06-24 18:15:00    0.25       0.25      0.25\n",
      "86 2009-04-29 18:15:00    0.25       0.25      0.25\n",
      "87 2009-03-18 18:15:00    0.25       0.25      0.25\n",
      "88 2009-01-28 19:15:00    0.25       0.25      0.25\n",
      "\n",
      "[89 rows x 4 columns]\n"
     ]
    }
   ],
   "source": [
    "# Lectura del archivo excel con el indicador\n",
    "\n",
    "datos = fn.f_leer_archivo(param_archivo = 'archivos/FedInterestRateDecision-UnitedStates.xlsx', sheet_name= 0)"
   ]
  },
  {
   "cell_type": "code",
   "execution_count": 6,
   "metadata": {},
   "outputs": [
    {
     "data": {
      "text/html": [
       "<div>\n",
       "<style scoped>\n",
       "    .dataframe tbody tr th:only-of-type {\n",
       "        vertical-align: middle;\n",
       "    }\n",
       "\n",
       "    .dataframe tbody tr th {\n",
       "        vertical-align: top;\n",
       "    }\n",
       "\n",
       "    .dataframe thead th {\n",
       "        text-align: right;\n",
       "    }\n",
       "</style>\n",
       "<table border=\"1\" class=\"dataframe\">\n",
       "  <thead>\n",
       "    <tr style=\"text-align: right;\">\n",
       "      <th></th>\n",
       "      <th>datetime</th>\n",
       "      <th>actual</th>\n",
       "      <th>consensus</th>\n",
       "      <th>previous</th>\n",
       "    </tr>\n",
       "  </thead>\n",
       "  <tbody>\n",
       "    <tr>\n",
       "      <th>0</th>\n",
       "      <td>2020-01-29 19:00:00</td>\n",
       "      <td>1.75</td>\n",
       "      <td>1.75</td>\n",
       "      <td>1.75</td>\n",
       "    </tr>\n",
       "    <tr>\n",
       "      <th>1</th>\n",
       "      <td>2019-12-11 19:00:00</td>\n",
       "      <td>1.75</td>\n",
       "      <td>1.75</td>\n",
       "      <td>1.75</td>\n",
       "    </tr>\n",
       "    <tr>\n",
       "      <th>2</th>\n",
       "      <td>2019-10-30 18:00:00</td>\n",
       "      <td>1.75</td>\n",
       "      <td>1.75</td>\n",
       "      <td>2.00</td>\n",
       "    </tr>\n",
       "    <tr>\n",
       "      <th>3</th>\n",
       "      <td>2019-09-18 18:00:00</td>\n",
       "      <td>2.00</td>\n",
       "      <td>2.00</td>\n",
       "      <td>2.25</td>\n",
       "    </tr>\n",
       "    <tr>\n",
       "      <th>4</th>\n",
       "      <td>2019-07-31 18:00:00</td>\n",
       "      <td>2.25</td>\n",
       "      <td>2.25</td>\n",
       "      <td>2.50</td>\n",
       "    </tr>\n",
       "    <tr>\n",
       "      <th>5</th>\n",
       "      <td>2019-06-19 18:00:00</td>\n",
       "      <td>2.50</td>\n",
       "      <td>2.50</td>\n",
       "      <td>2.50</td>\n",
       "    </tr>\n",
       "    <tr>\n",
       "      <th>6</th>\n",
       "      <td>2019-05-01 18:00:00</td>\n",
       "      <td>2.50</td>\n",
       "      <td>2.50</td>\n",
       "      <td>2.50</td>\n",
       "    </tr>\n",
       "    <tr>\n",
       "      <th>7</th>\n",
       "      <td>2019-03-20 18:00:00</td>\n",
       "      <td>2.50</td>\n",
       "      <td>2.50</td>\n",
       "      <td>2.50</td>\n",
       "    </tr>\n",
       "    <tr>\n",
       "      <th>8</th>\n",
       "      <td>2019-01-30 19:00:00</td>\n",
       "      <td>2.50</td>\n",
       "      <td>2.50</td>\n",
       "      <td>2.50</td>\n",
       "    </tr>\n",
       "    <tr>\n",
       "      <th>9</th>\n",
       "      <td>2018-12-19 19:00:00</td>\n",
       "      <td>2.50</td>\n",
       "      <td>2.50</td>\n",
       "      <td>2.25</td>\n",
       "    </tr>\n",
       "    <tr>\n",
       "      <th>10</th>\n",
       "      <td>2018-11-08 19:00:00</td>\n",
       "      <td>2.25</td>\n",
       "      <td>2.25</td>\n",
       "      <td>2.25</td>\n",
       "    </tr>\n",
       "    <tr>\n",
       "      <th>11</th>\n",
       "      <td>2018-09-26 18:00:00</td>\n",
       "      <td>2.25</td>\n",
       "      <td>2.25</td>\n",
       "      <td>2.00</td>\n",
       "    </tr>\n",
       "    <tr>\n",
       "      <th>12</th>\n",
       "      <td>2018-08-01 18:00:00</td>\n",
       "      <td>2.00</td>\n",
       "      <td>2.00</td>\n",
       "      <td>2.00</td>\n",
       "    </tr>\n",
       "    <tr>\n",
       "      <th>13</th>\n",
       "      <td>2018-06-13 18:00:00</td>\n",
       "      <td>2.00</td>\n",
       "      <td>2.00</td>\n",
       "      <td>1.75</td>\n",
       "    </tr>\n",
       "    <tr>\n",
       "      <th>14</th>\n",
       "      <td>2018-05-02 18:00:00</td>\n",
       "      <td>1.75</td>\n",
       "      <td>1.75</td>\n",
       "      <td>1.75</td>\n",
       "    </tr>\n",
       "    <tr>\n",
       "      <th>15</th>\n",
       "      <td>2018-03-21 18:00:00</td>\n",
       "      <td>1.75</td>\n",
       "      <td>1.75</td>\n",
       "      <td>1.50</td>\n",
       "    </tr>\n",
       "    <tr>\n",
       "      <th>16</th>\n",
       "      <td>2018-01-31 19:00:00</td>\n",
       "      <td>1.50</td>\n",
       "      <td>1.50</td>\n",
       "      <td>1.50</td>\n",
       "    </tr>\n",
       "    <tr>\n",
       "      <th>17</th>\n",
       "      <td>2017-12-13 19:00:00</td>\n",
       "      <td>1.50</td>\n",
       "      <td>1.50</td>\n",
       "      <td>1.25</td>\n",
       "    </tr>\n",
       "    <tr>\n",
       "      <th>18</th>\n",
       "      <td>2017-11-01 18:00:00</td>\n",
       "      <td>1.25</td>\n",
       "      <td>1.25</td>\n",
       "      <td>1.25</td>\n",
       "    </tr>\n",
       "    <tr>\n",
       "      <th>19</th>\n",
       "      <td>2017-09-20 18:00:00</td>\n",
       "      <td>1.25</td>\n",
       "      <td>1.25</td>\n",
       "      <td>1.25</td>\n",
       "    </tr>\n",
       "  </tbody>\n",
       "</table>\n",
       "</div>"
      ],
      "text/plain": [
       "              datetime  actual  consensus  previous\n",
       "0  2020-01-29 19:00:00    1.75       1.75      1.75\n",
       "1  2019-12-11 19:00:00    1.75       1.75      1.75\n",
       "2  2019-10-30 18:00:00    1.75       1.75      2.00\n",
       "3  2019-09-18 18:00:00    2.00       2.00      2.25\n",
       "4  2019-07-31 18:00:00    2.25       2.25      2.50\n",
       "5  2019-06-19 18:00:00    2.50       2.50      2.50\n",
       "6  2019-05-01 18:00:00    2.50       2.50      2.50\n",
       "7  2019-03-20 18:00:00    2.50       2.50      2.50\n",
       "8  2019-01-30 19:00:00    2.50       2.50      2.50\n",
       "9  2018-12-19 19:00:00    2.50       2.50      2.25\n",
       "10 2018-11-08 19:00:00    2.25       2.25      2.25\n",
       "11 2018-09-26 18:00:00    2.25       2.25      2.00\n",
       "12 2018-08-01 18:00:00    2.00       2.00      2.00\n",
       "13 2018-06-13 18:00:00    2.00       2.00      1.75\n",
       "14 2018-05-02 18:00:00    1.75       1.75      1.75\n",
       "15 2018-03-21 18:00:00    1.75       1.75      1.50\n",
       "16 2018-01-31 19:00:00    1.50       1.50      1.50\n",
       "17 2017-12-13 19:00:00    1.50       1.50      1.25\n",
       "18 2017-11-01 18:00:00    1.25       1.25      1.25\n",
       "19 2017-09-20 18:00:00    1.25       1.25      1.25"
      ]
     },
     "execution_count": 6,
     "metadata": {},
     "output_type": "execute_result"
    }
   ],
   "source": [
    "datos.head(20)"
   ]
  },
  {
   "cell_type": "markdown",
   "metadata": {},
   "source": [
    "En la gráfica siguiente se observa el cambio de las tasas de interés de la Reserva Federal de Estados Unidos a través del tiempo, desde el año 2009 hasta el 2020."
   ]
  },
  {
   "cell_type": "code",
   "execution_count": 7,
   "metadata": {},
   "outputs": [
    {
     "data": {
      "image/png": "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\n",
      "text/plain": [
       "<Figure size 432x288 with 1 Axes>"
      ]
     },
     "metadata": {
      "needs_background": "light"
     },
     "output_type": "display_data"
    }
   ],
   "source": [
    "vn.v_indicador_orig(datos)"
   ]
  },
  {
   "cell_type": "markdown",
   "metadata": {},
   "source": [
    "# Componente de Autocorrelación y Autocorrelación Parcial"
   ]
  },
  {
   "cell_type": "markdown",
   "metadata": {},
   "source": [
    "La autocorrelación y la autocorrelación parcial se utiliza para medir la fuerza de una relación con una observación en una serie de tiempo, en este caso, del indicador con observaciones en pasos de tiempo anteriores.\n",
    "<br>\n",
    "Para el cálculo matemático de la autocorrelación se utilizó la prueba de **Ljung-Box**, la cual prueba la aleatoriedad general basándose en un número de rezagos. \n",
    "<br>\n",
    "Para la gráfica de autocorrelación se utilizó la correlación de Pearson como base, en donde el coeficiente del mismo es utilizado como índice para medir el grado de relación, en este caso de la misma variable pero en dos períodos de tiempo diferentes. \n",
    "<br>\n",
    "    \\begin{equation*} \n",
    "    \\rho_{{x_t}{x_{t-1}}} = \\frac{\\sigma_{{x_t}{x_{t-1}}}} {\\sigma_{x_t} \\sigma_{x_{t-1}}}\n",
    "    \\end{equation*}\n",
    "<br>\n",
    "Siendo el numerador la covarianza de *X* en tiempo *t* y *X* en tiempo *t-1*, y el denominador la desviación estándar de *X* en tiempo *t* multiplicada por la desviación estándar de *X* en tiempo *t-1*"
   ]
  },
  {
   "cell_type": "code",
   "execution_count": 12,
   "metadata": {},
   "outputs": [
    {
     "ename": "AttributeError",
     "evalue": "module 'funciones' has no attribute 'f_autocorr_lm'",
     "output_type": "error",
     "traceback": [
      "\u001b[1;31m---------------------------------------------------------------------------\u001b[0m",
      "\u001b[1;31mAttributeError\u001b[0m                            Traceback (most recent call last)",
      "\u001b[1;32m<ipython-input-12-18abc6a0bc9c>\u001b[0m in \u001b[0;36m<module>\u001b[1;34m\u001b[0m\n\u001b[1;32m----> 1\u001b[1;33m \u001b[0mfac_lm\u001b[0m \u001b[1;33m=\u001b[0m \u001b[0mfn\u001b[0m\u001b[1;33m.\u001b[0m\u001b[0mf_autocorr_lm\u001b[0m\u001b[1;33m(\u001b[0m\u001b[0mdatos\u001b[0m\u001b[1;33m)\u001b[0m\u001b[1;33m\u001b[0m\u001b[1;33m\u001b[0m\u001b[0m\n\u001b[0m\u001b[0;32m      2\u001b[0m \u001b[0mfac_lm\u001b[0m\u001b[1;33m\u001b[0m\u001b[1;33m\u001b[0m\u001b[0m\n",
      "\u001b[1;31mAttributeError\u001b[0m: module 'funciones' has no attribute 'f_autocorr_lm'"
     ]
    }
   ],
   "source": [
    "fac_lm = fn.f_autocorr_lm(datos)\n",
    "fac_lm"
   ]
  },
  {
   "cell_type": "code",
   "execution_count": 8,
   "metadata": {},
   "outputs": [
    {
     "data": {
      "image/png": "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\n",
      "text/plain": [
       "<Figure size 432x288 with 1 Axes>"
      ]
     },
     "metadata": {
      "needs_background": "light"
     },
     "output_type": "display_data"
    }
   ],
   "source": [
    "vn.v_fac(datos)"
   ]
  },
  {
   "cell_type": "code",
   "execution_count": 9,
   "metadata": {},
   "outputs": [
    {
     "name": "stderr",
     "output_type": "stream",
     "text": [
      "c:\\users\\user\\appdata\\local\\programs\\python\\python36\\lib\\site-packages\\statsmodels\\regression\\linear_model.py:1406: RuntimeWarning: invalid value encountered in sqrt\n",
      "  return rho, np.sqrt(sigmasq)\n"
     ]
    },
    {
     "data": {
      "image/png": "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\n",
      "text/plain": [
       "<Figure size 432x288 with 1 Axes>"
      ]
     },
     "metadata": {
      "needs_background": "light"
     },
     "output_type": "display_data"
    }
   ],
   "source": [
    "vn.v_facp(datos)"
   ]
  },
  {
   "cell_type": "code",
   "execution_count": null,
=======
>>>>>>> b348e6273b8461fd22c8f8ad7cdf94064cf9cb43
   "metadata": {},
   "source": [
    "* S.A. (2019) El Financiero: ¿Qué significa que la Fed recorte la tasa de interés? Recuperado el 27 de abril del 2020 de https://www.elfinanciero.com.mx/economia/que-significa-que-la-fed-recorte-la-tasa-de-interes\n",
    "\n",
    "* S.A.(2020) Admiral Markets: FED - ¿Cómo afecta la subida tipos FED a los mercados? Recuperado el 27 de abril del 2020 de https://admiralmarkets.es/education/articles/forex-strategy/fed-tipos\n",
    "\n",
    "* S.A (2020) Los anuncios acerca de las tasas de interés de la Fed y de los bancos principales. Recuperado el 27 de abril del 2020 de https://www.iforex.mx/anuncios-tasas-de-interes"
   ]
  }
 ],
 "metadata": {
  "kernelspec": {
   "display_name": "Python 3",
   "language": "python",
   "name": "python3"
  },
  "language_info": {
   "codemirror_mode": {
    "name": "ipython",
    "version": 3
   },
   "file_extension": ".py",
   "mimetype": "text/x-python",
   "name": "python",
   "nbconvert_exporter": "python",
   "pygments_lexer": "ipython3",
   "version": "3.6.8"
  }
 },
 "nbformat": 4,
 "nbformat_minor": 2
}
