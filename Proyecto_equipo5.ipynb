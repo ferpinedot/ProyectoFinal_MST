{
 "cells": [
  {
   "cell_type": "markdown",
   "metadata": {},
   "source": [
    "<img src=\"http://oci02.img.iteso.mx/identidad_de_instancia_2018/ITESO/Logos%20ITESO/Logo-ITESO-Principal.jpg\">\n"
   ]
  },
  {
   "cell_type": "markdown",
   "metadata": {},
   "source": [
    "<center> <font color= #004A94> <font size = 6> Lic. Ingeniería Financiera </font> <br> <br> <font color= #047CFB> <font size = 4>I.F. María Fernanda Pinedo Talango - if705971@iteso.mx <br> I.F. Francisco Ricardo Rodríguez Ramírez - if705783@iteso.mx <br> I.F. Oscar Eduardo Flores Hernández - if715029@iteso.mx </font>\n",
    "\n",
    " "
   ]
  },
  {
   "cell_type": "markdown",
   "metadata": {},
   "source": [
    "<center><font color= #004A94> <font size = 6> Microestructura y Sistemas de Trading </font> <br> <br>"
   ]
  },
  {
   "cell_type": "markdown",
   "metadata": {},
   "source": [
    "<center><font color=#42c29b><font size=5> Laboratorio 4: Proyecto Final </font> <br> <br>"
   ]
  },
  {
   "cell_type": "markdown",
   "metadata": {},
   "source": [
    "<center> <font color= #047CFB> <font size = 4> Primavera 2020 </font>  |  <font color= #047CFB> <font size = 4> Repositorio: <a href='https://github.com/OscarFlores-IFi/proyecto_equipo5'>https://github.com/OscarFlores-IFi/proyecto_equipo5</a></font>"
   ]
  },
  {
   "cell_type": "markdown",
   "metadata": {},
   "source": [
    "# Abstract"
   ]
  },
  {
   "cell_type": "markdown",
   "metadata": {},
   "source": [
    "<font size =3> <p style=\"text-align: justify;\"> El trading consiste en la negociación de valores en el mercado con el objetivo de obtener beneficios, el cual ha ido evolucionando con el tiempo a raíz de los avances tecnológicos, por lo que el trading se puede dividir en:\n",
    "<br>\n",
    "    \n",
    "* Discrecional\n",
    "* Algorítmico\n",
    "\n",
    "    \n",
    "<font size =3> <p style=\"text-align: justify;\"> En este proyecto se busca, por medio de todas las herramientas otorgadas en la carrera de Ingeniería Financiera del ITESO, realizar una estrategia de trading con el par de divisas *EUR/USD*, la cual estará basada en la publicación del indicador de *Fed Interest Rate Decision* de la economía de Estados Unidos. \n",
    "    \n",
    "<font size =3> <p style=\"text-align: justify;\">Utilizando tanto análisis técnico como análisis fundamental, el trading discrecional y el trading algorítmico, realizando pruebas para escoger el indicador mencionado anteriormente por medio del análisis técnico, y haciendo uso del calendario económico para las notificaciones que se pudieran dar del indicador y estar pendientes del cambio realizado en el par, debido a los cambios dados por parte del indicador. Para de esta manera poder tomar ventaja de los cambios dados a las tasas de interés de la Reserva Federal de los Estados Unidos, y obtener ganancias con el par EUR/USD escogido. \n",
    "    \n",
    "\n",
    "<font size =3> <p style=\"text-align: justify;\">Realizando una estrategia algorítmica por medio de backtesting y optimización (usando algoritmos genéticos de Inteligencia Artificial), poder entrenar un código para escoger el tipo de operación correcta (compra/venta), de acuerdo al escenario que se presente."
   ]
  },
  {
   "cell_type": "markdown",
   "metadata": {},
   "source": [
    "###### <span style=\"font-family:Papyrus; font-size:4em;\"> Aspectos financieros"
   ]
  },
  {
   "cell_type": "markdown",
   "metadata": {},
   "source": [
    "# Fed Interest Rate Decision"
   ]
  },
  {
   "cell_type": "markdown",
   "metadata": {},
   "source": [
    "<font size =3> <p style=\"text-align: justify;\"> Las tasas de interés hacen referencia a la cantidad de interés que se debe en un periodo, el cual se representa como un porcentaje anual. Cada país consta de un Banco Central, el cual es el responsable de la política económica del país y ocasionalmente está involucrado en la toma de decisiones sobre las tasas. Las decisiones de un Banco Central, en especial de potencias económicas como lo es, Estados Unidos suelen tener gran impacto en el mercado de divisas, dado que en su anuncio viene implícito el rumbo de la economía. La decisión sobre un aumento, un recorte o el mantenerlas son establecidas sobre las condiciones actuales del empleo, inflación e inversiones. </p>\n",
    "<p style=\"text-align: justify;\">Es un indicador muy importante, por lo que los operadores están muy al pendiente de sus anuncios, los cuales están en fechas predefinidas. Estos anuncios suelen afectar las decisiones de los operadores dado que los movimientos en las tasas de interés podrías afectar en varios aspectos del mercado de todas las industrias. \n",
    "Se considera este indicador, dado que las decisiones que toma el sistema de la Reserva Federal de los Estados Unidos, sobre las tasas de interés suelen influir en la economía mundial. Por lo que un movimiento en estas podría afectar tanto la inflación y el crecimiento de la potencia económica que representa este país. \n",
    "Cualquier movimiento en las tasas de interés puede ser influyente, es decir si se decide recortarla, aumentarla o mantenerla. Dado que las decisiones siempre son orientadas con el objetivo de promover el crecimiento económico por lo que cualquiera de estas decisiones afecta al mercado de la siguiente manera. \n",
    "</p>"
   ]
  },
  {
   "cell_type": "markdown",
   "metadata": {},
   "source": [
    "<font size =3> Para comprender como afectan las decisiones de la Fed, sobre las tasas de interés. Es importante mencionar que la política económica de la Reserva Federal se basa en el control de la inflación y la promoción del máximo empleo. \n",
    "\n",
    "* Si la tasa de interés sufre un aumento.\n",
    "    * Se suele tomar como una reducción al impulso de la política económica de la economía. \n",
    "* Si la tasa de interés sufre un recorte. \n",
    "    * Se traduce a la búsqueda de impulsar la economía, dado que el objetivo es      que los créditos se abaraten.\n",
    "* Si la tasa de interés se mantiene.\n",
    "    * Podría ocasionar movimientos en el mercado si es que los inversionistas         esperaban un cambio.\n"
   ]
  },
  {
   "cell_type": "markdown",
   "metadata": {},
   "source": [
    "# Validaciones visuales"
   ]
  },
  {
   "cell_type": "markdown",
   "metadata": {},
   "source": [
    "<font size =3> <p style=\"text-align: justify;\"> A continuación, se presenta validaciones visuales sobre el comportamiento del Euro en relación con el Dólar en el momento en el que la Fed anuncia la tasa de interés por un lapso de media hora. Para entender las siguientes figuras es preciso destacar lo siguiente. \n",
    "    \n",
    "* Las líneas azules corresponden al periodo de tiempo, desde que se reporta el   indicador hasta que transcurre media hora. \n",
    "* La línea verde corresponde al máximo que se obtuvo en el periodo de media       hora.\n",
    "* La línea roja corresponde al mínimo que se obtuvo en el periodo de media       hora. \n",
    "* Las líneas negras marcan la diferencia entre el máximo y el mínimo o           viceversa.\n",
    "* Las líneas punteadas azules corresponden a la validación de máximos y/o        mínimos."
   ]
  },
  {
   "cell_type": "markdown",
   "metadata": {},
   "source": [
    "<font size =3> Los siguientes escenarios se presentaron en la zona horaria 00:00"
   ]
  },
  {
   "cell_type": "markdown",
   "metadata": {},
   "source": [
    "## Escenario 1 "
   ]
  },
  {
   "cell_type": "markdown",
   "metadata": {},
   "source": [
    "<font size =3> La Fed toma la decisión de aumentar la tasa de interés."
   ]
  },
  {
   "cell_type": "markdown",
   "metadata": {},
   "source": [
    "![title](images/time00.PNG)"
   ]
  },
  {
   "cell_type": "markdown",
   "metadata": {},
   "source": [
    "<font size =3> El día 19 de diciembre del 2018 se esperaba que la FED anunciara un aumento en las tasas de interés, dado que anteriormente habían anunciado una tasa de 2.25% en esta ocasión los analistas esperaban un aumento de 25 puntos base. De acuerdo con el calendario económico de FXstreet, las tasas sufrieron un incremento de 25 puntos base."
   ]
  },
  {
   "cell_type": "markdown",
   "metadata": {},
   "source": [
    "![title](images/graph00.png)"
   ]
  },
  {
   "cell_type": "markdown",
   "metadata": {},
   "source": [
    "<font size =3> <p style=\"text-align: justify;\">De acuerdo con la gráfica 1.1 podemos observar que en el lapso de media hora, una vez se emitió el  reporte sobre las tasas de interés. En este caso el dólar se aprecia frente al euro a raíz de la decisión de la Fed de subir 25 puntos base la tasa de interés. "
   ]
  },
  {
   "cell_type": "markdown",
   "metadata": {},
   "source": [
    "Tabla 1.1\n",
    "\n",
    "| Vela     | Horario  | Tipo de cambio | Comentarios | \n",
    "| :------- | :------: | -----:         |  -----:     |\n",
    "|     1    |   19:00  |     1.14195    |  Máximo     |\n",
    "|     21    |   19:20  |     1.13838    |  Mínimo     |\n",
    "|     31   |   19:30  |     1.13915    |  Final      |\n"
   ]
  },
  {
   "cell_type": "markdown",
   "metadata": {},
   "source": [
    "<font size =3> <p style=\"text-align: justify;\">Observando la gráfica 1.1 y la tabla 1.1 podemos concluir que, de acuerdo con la decisión de subir la tasa de interés, el dólar se apreció frente al euro, que dentro de un periodo de 30 minutos, el tipo de cambio tocó un mínimo en el minuto 20, durante el tiempo restante el euro recupero algo de valor sin embargo, no fue significativo. Pues como podemos observar la vela final está muy por debajo de la inicial dado que esta tuvo el valor más alto en el periodo de tiempo. Cabe destacar que una vez, se dio el anuncio por parte de la Fed se puede observar un gran movimiento a favor del dólar."
   ]
  },
  {
   "cell_type": "markdown",
   "metadata": {},
   "source": [
    "Tabla 1.2 \n",
    "\n",
    "Tabla 1.6 Escenarios de ganancias en pips si abres una operación corta a las 19:00 \n",
    "\n",
    "\n",
    "| Periodo         | Pips.    |\n",
    "| :-------        | :------: | \n",
    "| Inicial - Mínimo|   35.7    |\n",
    "| Inicial - Final |  28   |"
   ]
  },
  {
   "cell_type": "markdown",
   "metadata": {},
   "source": [
    "<font size =3> <p style=\"text-align: justify;\"> De acuerdo con la tabla 1.2, si en el momento del anuncio de la Fed se hubiera tomado una posición corta durante 20 minutos se hubiera alcanzado una ganancia de 35.7 pips. De igual manera, si se hubiera mantenido la posición durante los 30 minutos se obtendría una ganancia de 28 pips. "
   ]
  },
  {
   "cell_type": "markdown",
   "metadata": {},
   "source": [
    "## Diseño empírico de una operación"
   ]
  },
  {
   "cell_type": "markdown",
   "metadata": {},
   "source": [
    "<font size =3> A continuación, describiremos que hubiera pasado en caso de abrir una posición corta antes de que se diera el anuncio de la Fed. "
   ]
  },
  {
   "cell_type": "markdown",
   "metadata": {},
   "source": [
    "Escenarios 1.1\n",
    "\n",
    "* Se abre la posición un minuto antes de la publicación de indicador, se coloca un Takeprofit de 30 pips y un Stoploss de 10 pips\n",
    "\n",
    "Tabla 1.3\n",
    "\n",
    "| Apertura de posición|  Se cierra la posición  |Ganancia en Pips| Velas transcurridas |\n",
    "| :-------:         | :------:                | :----:        |   :-----------:     |\n",
    "|    1.14364          |    1.1395          |    32.8        |        3           |\n",
    "\n",
    "\n",
    "* Se abre la posición un minuto antes de la publicación de indicador, se coloca un Takeprofit de 50 pips y un Stoploss de 10 pips\n",
    "\n",
    "Tabla 1.\n",
    "\n",
    "| Apertura de posición|  Se cierra la posición  |Ganancia en Pips| Velas transcurridas |\n",
    "| :-------:         | :------:                | :----:        |   :-----------:     |\n",
    "|    1.14364          |    1.13844              |    52         |        20             |\n",
    "\n"
   ]
  },
  {
   "cell_type": "markdown",
   "metadata": {},
   "source": [
    "\n",
    "## Escenario 2\n",
    "\n",
    "<font size =3><p style=\"text-align: justify;\"> La Fed toma la decisión de mantener la tasa de interés\n",
    "    "
   ]
  },
  {
   "cell_type": "markdown",
   "metadata": {},
   "source": [
    "![title](images/time002.PNG)"
   ]
  },
  {
   "cell_type": "markdown",
   "metadata": {},
   "source": [
    "<font size =3> <p style=\"text-align: justify;\">El día 19 de junio del 2019 se esperaba el reporte de la Fed sobre las tasas de interés, en el periodo anterior se había reportado una tasa de 2.5%  y para este anuncio se esperaba por parte de los analistas, que la tasas no sufrieran algún movimiento. De acuerdo con el calendario económico de FXstreet la tasa de interés anunciada por la Fed se mantuvo."
   ]
  },
  {
   "cell_type": "markdown",
   "metadata": {},
   "source": [
    "Gráfica 1.2"
   ]
  },
  {
   "cell_type": "markdown",
   "metadata": {},
   "source": [
    "![title](images/Graph01.png)"
   ]
  },
  {
   "cell_type": "markdown",
   "metadata": {},
   "source": [
    "<p style=\"text-align: justify;\">"
   ]
  },
  {
   "cell_type": "markdown",
   "metadata": {},
   "source": [
    "<font size =3> <p style=\"text-align: justify;\">De acuerdo con la gráfica 1.2 podemos observar que en el lapso de media hora, una vez se emitió el  reporte sobre las tasas de interés. En este caso el euro se vio fortalecido frente al dólar a raíz de la decisión de mantener constante la tasa de interés. "
   ]
  },
  {
   "cell_type": "markdown",
   "metadata": {},
   "source": [
    "Tabla 1.5"
   ]
  },
  {
   "cell_type": "markdown",
   "metadata": {},
   "source": [
    "| Vela     | Horario  | Tipo de cambio | Comentarios |\n",
    "| :------- | :------: | -----:         |  -----:     |\n",
    "|     1    |   18:00  |     1.12283    |  Vela inicial   |\n",
    "|     7    |   18:06  |     1.12500    |  Máximo     |\n",
    "|    31    |   18:30  |     1.12468    |  Vela final |"
   ]
  },
  {
   "cell_type": "markdown",
   "metadata": {},
   "source": [
    "<font size =3> <p style=\"text-align: justify;\">Observando la gráfica 1.2 y la tabla 1.5 podemos concluir que, de acuerdo con la decisión de mantener la tasa de interés, el dólar se debilitó frente al euro, que dentro de un periodo de 30 minutos, el tipo de cambio alcanzó su máximo en la minuto 6 y posteriormente tomó una tendencia a la baja durante 15 minutos para después recuperar valor a favor del euro. Cabe destacar que se manifestó un movimiento brusco a la 18:00 es decir en momento que en teoría se anunció la decisión de la Fed, el euro se vio favorecido. "
   ]
  },
  {
   "cell_type": "markdown",
   "metadata": {},
   "source": [
    "Tabla 1.6 \n",
    "\n",
    "Escenarios de ganancias en pips si abres una operación larga a las 18:00 \n",
    "\n",
    "| Periodo     | Pips.    |\n",
    "| :------- | :------: | \n",
    "| Inicial - Máximo|    21.7      | \n",
    "| Inicial - Vela final |  18.5        | "
   ]
  },
  {
   "cell_type": "markdown",
   "metadata": {},
   "source": [
    "<font size =3> <p style=\"text-align: justify;\">De acuerdo con la tabla 1.6, si en el momento del anuncio de la Fed se hubiera tomado una posición larga durante 6 minutos se hubiera alcanzado una ganancia de 21.7 pips. De igual manera, si se hubiera mantenidio la misma posición durante los 30 minutos se obtendría una ganancia de 18.5 pips. "
   ]
  },
  {
   "cell_type": "markdown",
   "metadata": {},
   "source": [
    "## Diseño empírico de una operación"
   ]
  },
  {
   "cell_type": "markdown",
   "metadata": {},
   "source": [
    "<font size =3> A continuación, describiremos que hubiera pasado en caso de abrir una posición larga un minuto antes de que se diera el anuncio de la Fed."
   ]
  },
  {
   "cell_type": "markdown",
   "metadata": {},
   "source": [
    "Escenarios 1.2\n",
    "\n",
    "* Se abre la posición un minuto antes de la publicación de indicador, se coloca un Takeprofit de 10 pips y un Stoploss de 10 pips\n",
    "\n",
    "Tabla 1.7\n",
    "\n",
    "| Apertura de posición|  Se cierra la posición  |Ganancia en Pips| Velas transcurridas |\n",
    "| :-------:         | :------:                | :----:        |   :-----------:     |\n",
    "|   1.12215          | 1.12338        |    12.3       |        2         |\n",
    "\n",
    "\n",
    "* Se abre la posición un minuto antes de la publicación de indicador, se coloca un Takeprofit de 50 pips y un Stoploss de 10 pips\n",
    "\n",
    "Tabla 1.8\n",
    "\n",
    "| Apertura de posición|  Se cierra la posición  |Ganancia en Pips| Velas transcurridas |\n",
    "| :-------:         | :------:                | :----:        |   :-----------:     |\n",
    "|    1.12215         |    N/A              |    0        |        30             |\n",
    "\n",
    "En este caso no se ejecutó la orden dado que en el periodo de 30 minutos no se llega a a alcanzar la ganancia de 50 pips, lo máximo que su pudo haber alcanzado fue una ganancia de 28.5 pips en un transcurso de media hora.\n"
   ]
  },
  {
   "cell_type": "markdown",
   "metadata": {},
   "source": [
    "## Escenario 3"
   ]
  },
  {
   "cell_type": "markdown",
   "metadata": {},
   "source": [
    "<font size =3> La Fed toma la decisión de recortar la tasa de interés"
   ]
  },
  {
   "cell_type": "markdown",
   "metadata": {},
   "source": [
    "![title](images/time03.PNG)"
   ]
  },
  {
   "cell_type": "markdown",
   "metadata": {},
   "source": [
    "<font size =3> <p style=\"text-align: justify;\">El día 31 de julio del 2019, se esperaba el reporte de la Fed, conocemos que anteriormente se había mantenido la tasa de interés en 2.5%, sin embargo, la expectativa de los analistas indicaba que este periodo se reportaría algún recorte en las tasas de interés. En esta ocasión  de acuerdo con el calendario económico de FXStreet, la Fed reportó un recorte de 25 puntos base, es decir en este caso se estableció la tasa de interés en 2.25%. "
   ]
  },
  {
   "cell_type": "markdown",
   "metadata": {},
   "source": [
    "Gráfica 1.3"
   ]
  },
  {
   "cell_type": "markdown",
   "metadata": {},
   "source": [
    "![title](images/Graph02.png)"
   ]
  },
  {
   "cell_type": "markdown",
   "metadata": {},
   "source": [
    " <font size =3> De acuerdo con la gráfica 1.3, podemos observar como a raíz del recorte de la tasa de interés el euro se depreció frente al dólar, es decir en la gráfica podemos notar una tendencia bajista en cuanto al tipo de cambio EUR/USD "
   ]
  },
  {
   "cell_type": "markdown",
   "metadata": {},
   "source": [
    "Tabla 1.9"
   ]
  },
  {
   "cell_type": "markdown",
   "metadata": {},
   "source": [
    "| Vela     | Horario  | Tipo de cambio | Comentarios |\n",
    "| :------- | :------: | -----:         |  -----:     |\n",
    "|    1     | 18:00    |1.11264         |Máximo       |\n",
    "|    4     | 18:03    |1.10983         |Mínimo       |\n",
    "|   31     | 18:30    |1.11122         |Vela final|"
   ]
  },
  {
   "cell_type": "markdown",
   "metadata": {},
   "source": [
    "<font size =3> <p style=\"text-align: justify;\"> Observando la gráfica 1.3 y la tabla 1.9 podemos concluir que, de acuerdo con la decisión de la Fed de recortar las tasas de interés, el dólar se vio favorecido frente al euro. Que a raíz de la publicación del indicador el tipo de cambio tomo una tendencia a la baja en donde el dólar se ve fortalecido, en el periodo de 30 minutos el valor máximo se encuentra en el inicio del periodo, después de este, el valor mínimo es alcanzado en el minuto 3, como se puede observar en la gráfica 1.2 el tipo de cambio no recupero su valor inicial. En conclusión, en esta ocasión la decisión de recortar la tasa de interés el dólar fortaleció frente al euro."
   ]
  },
  {
   "cell_type": "markdown",
   "metadata": {},
   "source": [
    "Tabla 1.10\n",
    "\n",
    "Escenarios de ganancias en pips si abres una posición corta a las 18:00 \n",
    "\n",
    "| Periodo         | Pips.    |\n",
    "| :-------        | :------: |  \n",
    "| Inicial - Mínimo|   28.1    |\n",
    "| Inicial - Final|    14.2  |"
   ]
  },
  {
   "cell_type": "markdown",
   "metadata": {},
   "source": [
    "<font size =3> <p style=\"text-align: justify;\">De acuerdo con la tabla 1.10, si en el momento del anuncio de la Fed se hubiera tomado una posición corta durante 4 minutos se hubiera alcanzado una ganancia de 28.1 pips. De igual manera, si se hubiera mantenido la misma posición durante los 30 minutos se obtendría una ganancia de 14.2 pips. "
   ]
  },
  {
   "cell_type": "markdown",
   "metadata": {},
   "source": [
    "## Diseño empírico de una operación\n",
    "\n",
    "<font size =3> A continuación, describiremos que hubiera pasado en caso de abrir una posición corta antes de que se diera el anuncio de la Fed."
   ]
  },
  {
   "cell_type": "markdown",
   "metadata": {},
   "source": [
    "Escenarios 1.4\n",
    "\n",
    "* Se abre la posición un minuto antes de la publicación de indicador, se coloca un Takeprofit de 20 pips y un Stoploss de 10 pips\n",
    "\n",
    "Tabla 1.11\n",
    "\n",
    "| Apertura de posición|  Se cierra la posición  |Ganancia en Pips| Velas transcurridas |\n",
    "| :-------:         | :------:                | :----:        |   :-----------:     |\n",
    "|   1.11378          | 1.11169       |    24.8      |        2         |\n",
    "\n",
    "\n",
    "* Se abre la posición un minuto antes de la publicación de indicador, se coloca un Takeprofit de 35 pips y un Stoploss de 10 pips\n",
    "\n",
    "Tabla 1.12\n",
    "\n",
    "| Apertura de posición|  Se cierra la posición  |Ganancia en Pips| Velas transcurridas |\n",
    "| :-------:         | :------:                | :----:        |   :-----------:     |\n",
    "|    1.11378        |    1.11130              |    39.5       |        4             |"
   ]
  },
  {
   "cell_type": "markdown",
   "metadata": {},
   "source": [
    "## Escenario 4"
   ]
  },
  {
   "cell_type": "markdown",
   "metadata": {},
   "source": [
    "<font size =3> La Fed toma la decisión de recortar la tasa de interés"
   ]
  },
  {
   "cell_type": "markdown",
   "metadata": {},
   "source": [
    "![title](images/time04.PNG)"
   ]
  },
  {
   "cell_type": "markdown",
   "metadata": {},
   "source": [
    "<font size =3> <p style=\"text-align: justify;\">El día 18 de septiembre del 2019 se esperaba el reporte de la Fed sobre las tasas de interés, en el periodo anterior se había reportado una tasa de 2.25%  y para este anuncio se esperaba por parte de los analistas que las tasas sufrieran un recorte. De acuerdo con el calendario económico de FXstreet la Fed tomó la decisión de recortar las tasas de interés."
   ]
  },
  {
   "cell_type": "markdown",
   "metadata": {},
   "source": [
    "Gráfica 1.4"
   ]
  },
  {
   "cell_type": "markdown",
   "metadata": {},
   "source": [
    "![title](images/Graph03.png)"
   ]
  },
  {
   "cell_type": "markdown",
   "metadata": {},
   "source": [
    "<font size =3> De acuerdo con la gráfica 1.4, podemos observar como a raíz del recorte, el euro se depreció frente al dólar, es decir en la gráfica podemos notar una tendencia bajista en cuanto al tipo de cambio EUR/USD."
   ]
  },
  {
   "cell_type": "markdown",
   "metadata": {},
   "source": [
    "Tabla 1.12"
   ]
  },
  {
   "cell_type": "markdown",
   "metadata": {},
   "source": [
    "| Vela     | Horario  | Tipo de cambio | Comentarios |\n",
    "| :------- | :------: | -----:         |  -----:     |\n",
    "|   1      |  18:00   |    1.10612     | Máximo     |\n",
    "|   17     |  18:16   |    1.10287     | Mínimo     |\n",
    "|   31     |  18:30   |    1.10338     | Vela Final |"
   ]
  },
  {
   "cell_type": "markdown",
   "metadata": {},
   "source": [
    "<font size =3><p style=\"text-align: justify;\"> Observando la gráfica 1.4 y la Tabla 1.7 podemos concluir que, de acuerdo con la decisión de la Fed de recortar las tasas de interés, el dólar se vio favorecido frente al euro. Que a raíz de la publicación del indicador el tipo de cambio tomo una tendencia a la baja, en el periodo de 30 minutos el valor máximo se encuentra en el inicio del periodo, después de este, el valor mínimo es alcanzado en el minuto 16, como se puede observar en la gráfica 1.4 el tipo de cambio no recupero su valor inicial. En conclusión, en nuevamente la decisión de recortar las tasas de interés el dólar se vio fortalecido frente al euro."
   ]
  },
  {
   "cell_type": "markdown",
   "metadata": {},
   "source": [
    "Tabla 1.13\n",
    "\n",
    "\n",
    "Escenarios de ganancias en pips si abres una posición corta a las 18:00 \n",
    "\n",
    "\n",
    "| Periodo         | Pips.    |\n",
    "| :-------        | :------: |  \n",
    "| Inicial - Mínimo|  32.5    |\n",
    "| Inicial - Final |  27.4    |"
   ]
  },
  {
   "cell_type": "markdown",
   "metadata": {},
   "source": [
    "<font size =3> <p style=\"text-align: justify;\">De acuerdo con la tabla 1.13, si en el momento del anuncio de la Fed se hubiera tomado una posición corta durante 17 minutos se hubiera alcanzado una ganancia de 28.1 pips. De igual manera, si se hubiera mantendio la misma posición durante los 30 minutos se obtendría una ganancia de 27.4 pips. "
   ]
  },
  {
   "cell_type": "markdown",
   "metadata": {},
   "source": [
    "## Diseño empírico de una operación\n",
    "\n",
    "<font size =3> A continuación, describiremos que hubiera pasado en caso de abrir una posición corta antes de que se diera el anuncio de la Fed."
   ]
  },
  {
   "cell_type": "markdown",
   "metadata": {},
   "source": [
    "Escenarios 1.4\n",
    "\n",
    "* Se abre la posición un minuto antes de la publicación de indicador, se coloca un Takeprofit de 30 pips y un Stoploss de 10 pips\n",
    "\n",
    "Tabla 1.11\n",
    "\n",
    "| Apertura de posición|  Se cierra la posición  |Ganancia en Pips| Velas transcurridas |\n",
    "| :-------:         | :------:                | :----:        |   :-----------:     |\n",
    "|   1.10655          | 1.10350       |    30      |        14         |\n",
    "\n",
    "\n",
    "* Se abre la posición un minuto antes de la publicación de indicador, se coloca un Takeprofit de 35 pips y un Stoploss de 10 pips\n",
    "\n",
    "Tabla 1.12\n",
    "\n",
    "| Apertura de posición|  Se cierra la posición  |Ganancia en Pips| Velas transcurridas |\n",
    "| :-------:         | :------:             | :----:        |   :-----------:     |\n",
    "|    1.10655        |    1.10295              |    36      |        16           |"
   ]
  },
  {
   "cell_type": "markdown",
   "metadata": {},
   "source": [
    "## Escenario 5 \n",
    "\n",
    "<font size =3> La Fed toma la decisión de mantener la tasa de interés"
   ]
  },
  {
   "cell_type": "markdown",
   "metadata": {},
   "source": [
    "![title](images/time05.PNG)"
   ]
  },
  {
   "cell_type": "markdown",
   "metadata": {},
   "source": [
    "Gráfica 1.5"
   ]
  },
  {
   "cell_type": "markdown",
   "metadata": {},
   "source": [
    "![title](images/Graph05.png)"
   ]
  },
  {
   "cell_type": "markdown",
   "metadata": {},
   "source": [
    "<font size =3> De acuerdo con la gráfica 1.5, podemos observar como a raíz la decisión de mantener las tasas de interés,  el euro se vio fortalecido frente al dólar, es decir podemos en la gráfica podemos observar la tendencia alcista que toma el tipo de cambio a favor del euro."
   ]
  },
  {
   "cell_type": "markdown",
   "metadata": {},
   "source": [
    "Tabla 1.14"
   ]
  },
  {
   "cell_type": "markdown",
   "metadata": {},
   "source": [
    "| Vela     | Horario  | Tipo de cambio | Comentarios |\n",
    "| :------- | :------: | -----:         |  -----:     |\n",
    "|   1      | 19:00    | 1.10023        |  Vela inicial     |\n",
    "|   5      | 19:04    | 1.09995        |  Mínimo    |\n",
    "|   28     | 19:27    | 1.10081        |  Máximo     |\n",
    "|   31     | 19:30    | 1.10079        |  Vela final |"
   ]
  },
  {
   "cell_type": "markdown",
   "metadata": {},
   "source": [
    "<font size =3> <p style=\"text-align: justify;\"> Observando la gráfica 1.5 y la tabla 1.14 podemos concluir que, de acuerdo con la decisión de la Fed de mantenerlas tasas de interés, el euro se vio favorecido frente al dólar. Que a raíz de la publicación del indicador el tipo de cambio tomo una tendencia alcista, en el periodo de 30 minutos el valor mínimo se da en el 4 para después tomar una tendencia alcista en donde toca el  máximo en el minuto 27, En conclusión, la decisión de mantener las tasas de interés favoreció al euro."
   ]
  },
  {
   "cell_type": "markdown",
   "metadata": {},
   "source": [
    "Tabla 1.15\n",
    "\n",
    "\n",
    "Escenarios de ganacias en pips si abres una posición larga a las 19:00 \n",
    "\n",
    "\n",
    "| Periodo         | Pips.    |\n",
    "| :-------        | :------: |  \n",
    "| Inicial - Máximo| 5.8    |\n",
    "| Inicial - Mínimo| 2.8  |\n",
    "| Inicial - Final|  5.6   |"
   ]
  },
  {
   "cell_type": "markdown",
   "metadata": {},
   "source": [
    "<font size =3> <p style=\"text-align: justify;\">De acuerdo con la tabla 1.15, si en el momento del anuncio de la Fed se hubiera tomado una posición larga durante 26 minutos se hubiera alcanzado una ganancia de 5.8 pips. De igual manera, si se hubiera mantenido la posición durante los 30 minutos se obtendría una ganancia de 5.6 pips. "
   ]
  },
  {
   "cell_type": "markdown",
   "metadata": {},
   "source": [
    "## Diseño empírico de una operación\n",
    "\n",
    "<font size =3> A continuación, describiremos que hubiera pasado en caso de abrir una posición larga antes de que se diera el anuncio de la Fed."
   ]
  },
  {
   "cell_type": "markdown",
   "metadata": {},
   "source": [
    "Escenarios 1.5\n",
    "\n",
    "* Se abre la posición un minuto antes de la publicación de indicador, se coloca un Takeprofit de 30 pips y un Stoploss de 5 pips\n",
    "\n",
    "Tabla 1.16\n",
    "\n",
    "| Apertura de posición|  Se cierra la posición  |Ganancia en Pips| Velas transcurridas |\n",
    "| :-------:         | :------:                | :----:        |   :-----------:     |\n",
    "|   1.10023          |         N/A         |    0      |        31         |\n",
    "\n",
    "En este caso no se ejecutó la orden dado que en el periodo de 30 minutos no se llega a a alcanzar la ganancia de 30 pips, lo máximo que su pudo haber alcanzado fue una ganancia de 5.8 pips en un transcurso de 28 minutos.\n",
    "\n",
    "* Se abre la posición un minuto antes de la publicación de indicador, se coloca un Takeprofit de 35 pips y un Stoploss de 10 pips\n",
    "\n",
    "Tabla 1.17\n",
    "\n",
    "| Apertura de posición|  Se cierra la posición  |Ganancia en Pips| Velas transcurridas |\n",
    "| :-------:         | :------:             | :----:        |   :-----------:     |\n",
    "|    1.10023        |    N/A           |    0     |        31          |\n",
    "\n",
    "En este caso no se ejecutó la orden dado que en el periodo de 30 minutos no se llega a a alcanzar la ganancia de 30 pips, lo máximo que su pudo haber alcanzado fue una ganancia de 5.8 pips en un transcurso de 28 minutos."
   ]
  },
  {
   "cell_type": "markdown",
   "metadata": {},
   "source": [
    "###### <span style=\"font-family:Papyrus; font-size:4em;\"> Aspectos Estadísticos/Matemáticos"
   ]
  },
  {
   "cell_type": "markdown",
   "metadata": {},
   "source": [
    "## Caracterización econométrica"
   ]
  },
  {
   "cell_type": "markdown",
   "metadata": {},
   "source": [
    "<font size =3> <p style=\"text-align: justify;\">Para tener un mejor entendimiento del comportamiento del Indicador escogido y mencionado anteriormente, se realiza un análisis estadístico/matemático basado en la metodología de **Box-Jenkins**. En donde el indicador pasa por una serie de diferentes pruebas para poder determinar características y propiedades de la serie de tiempo, como lo son la autocorrelación y la autocorrelación parcial, la heterocedasticidad, la normalidad, estacionalidad, estacionariedad y la detección de valores atípicos, para posteriormente, tomando en cuenta estas características, se pueda armar una mejor estrategia de trading."
   ]
  },
  {
   "cell_type": "code",
   "execution_count": 104,
   "metadata": {},
   "outputs": [],
   "source": [
    "# Descarga de librerías a utilizar\n",
    "\n",
    "import funciones as fn\n",
    "import visualizaciones as vn\n",
    "import datos as dt\n",
    "import entradas as et\n",
    "\n",
    "import pandas as pd\n",
    "import numpy as np\n",
    "import matplotlib.pyplot as plt\n",
    "\n",
    "import statsmodels.api as sm\n",
    "from statsmodels.tsa.stattools import adfuller\n",
    "from statsmodels.stats.diagnostic import het_breuschpagan \n",
    "import statsmodels.stats.diagnostic as smd\n",
    "import scipy.stats\n",
    "from scipy.stats import shapiro\n",
    "from scipy.stats import normaltest\n",
    "\n",
    "import matplotlib.pyplot as plt\n",
    "from statsmodels.graphics.tsaplots import plot_acf\n",
    "from statsmodels.graphics.tsaplots import plot_pacf\n",
    "from statsmodels.graphics.gofplots import qqplot\n",
    "from statsmodels.tsa.seasonal import seasonal_decompose\n",
    "import statsmodels.api as sm\n",
    "from statsmodels.tsa.seasonal import STL\n",
    "\n",
    "from statsmodels.tsa.arima_model import ARIMA\n",
    "from pandas.plotting import register_matplotlib_converters\n",
    "register_matplotlib_converters()\n",
    "\n",
    "import pickle\n",
    "\n",
    "import warnings\n",
    "warnings.filterwarnings('ignore')"
   ]
  },
  {
   "cell_type": "code",
   "execution_count": 105,
   "metadata": {},
   "outputs": [],
   "source": [
    "# Lectura del archivo excel con el indicador\n",
    "\n",
    "datos = fn.f_leer_archivo(param_archivo = 'archivos/FedInterestRateDecision-UnitedStates.xlsx', sheet_name= 0)"
   ]
  },
  {
   "cell_type": "code",
   "execution_count": 106,
   "metadata": {},
   "outputs": [
    {
     "data": {
      "text/html": [
       "<div>\n",
       "<style scoped>\n",
       "    .dataframe tbody tr th:only-of-type {\n",
       "        vertical-align: middle;\n",
       "    }\n",
       "\n",
       "    .dataframe tbody tr th {\n",
       "        vertical-align: top;\n",
       "    }\n",
       "\n",
       "    .dataframe thead th {\n",
       "        text-align: right;\n",
       "    }\n",
       "</style>\n",
       "<table border=\"1\" class=\"dataframe\">\n",
       "  <thead>\n",
       "    <tr style=\"text-align: right;\">\n",
       "      <th></th>\n",
       "      <th>datetime</th>\n",
       "      <th>actual</th>\n",
       "      <th>consensus</th>\n",
       "      <th>previous</th>\n",
       "    </tr>\n",
       "  </thead>\n",
       "  <tbody>\n",
       "    <tr>\n",
       "      <th>0</th>\n",
       "      <td>2020-01-29 19:00:00</td>\n",
       "      <td>1.75</td>\n",
       "      <td>1.75</td>\n",
       "      <td>1.75</td>\n",
       "    </tr>\n",
       "    <tr>\n",
       "      <th>1</th>\n",
       "      <td>2019-12-11 19:00:00</td>\n",
       "      <td>1.75</td>\n",
       "      <td>1.75</td>\n",
       "      <td>1.75</td>\n",
       "    </tr>\n",
       "    <tr>\n",
       "      <th>2</th>\n",
       "      <td>2019-10-30 18:00:00</td>\n",
       "      <td>1.75</td>\n",
       "      <td>1.75</td>\n",
       "      <td>2.00</td>\n",
       "    </tr>\n",
       "    <tr>\n",
       "      <th>3</th>\n",
       "      <td>2019-09-18 18:00:00</td>\n",
       "      <td>2.00</td>\n",
       "      <td>2.00</td>\n",
       "      <td>2.25</td>\n",
       "    </tr>\n",
       "    <tr>\n",
       "      <th>4</th>\n",
       "      <td>2019-07-31 18:00:00</td>\n",
       "      <td>2.25</td>\n",
       "      <td>2.25</td>\n",
       "      <td>2.50</td>\n",
       "    </tr>\n",
       "    <tr>\n",
       "      <th>5</th>\n",
       "      <td>2019-06-19 18:00:00</td>\n",
       "      <td>2.50</td>\n",
       "      <td>2.50</td>\n",
       "      <td>2.50</td>\n",
       "    </tr>\n",
       "    <tr>\n",
       "      <th>6</th>\n",
       "      <td>2019-05-01 18:00:00</td>\n",
       "      <td>2.50</td>\n",
       "      <td>2.50</td>\n",
       "      <td>2.50</td>\n",
       "    </tr>\n",
       "    <tr>\n",
       "      <th>7</th>\n",
       "      <td>2019-03-20 18:00:00</td>\n",
       "      <td>2.50</td>\n",
       "      <td>2.50</td>\n",
       "      <td>2.50</td>\n",
       "    </tr>\n",
       "    <tr>\n",
       "      <th>8</th>\n",
       "      <td>2019-01-30 19:00:00</td>\n",
       "      <td>2.50</td>\n",
       "      <td>2.50</td>\n",
       "      <td>2.50</td>\n",
       "    </tr>\n",
       "    <tr>\n",
       "      <th>9</th>\n",
       "      <td>2018-12-19 19:00:00</td>\n",
       "      <td>2.50</td>\n",
       "      <td>2.50</td>\n",
       "      <td>2.25</td>\n",
       "    </tr>\n",
       "    <tr>\n",
       "      <th>10</th>\n",
       "      <td>2018-11-08 19:00:00</td>\n",
       "      <td>2.25</td>\n",
       "      <td>2.25</td>\n",
       "      <td>2.25</td>\n",
       "    </tr>\n",
       "    <tr>\n",
       "      <th>11</th>\n",
       "      <td>2018-09-26 18:00:00</td>\n",
       "      <td>2.25</td>\n",
       "      <td>2.25</td>\n",
       "      <td>2.00</td>\n",
       "    </tr>\n",
       "    <tr>\n",
       "      <th>12</th>\n",
       "      <td>2018-08-01 18:00:00</td>\n",
       "      <td>2.00</td>\n",
       "      <td>2.00</td>\n",
       "      <td>2.00</td>\n",
       "    </tr>\n",
       "    <tr>\n",
       "      <th>13</th>\n",
       "      <td>2018-06-13 18:00:00</td>\n",
       "      <td>2.00</td>\n",
       "      <td>2.00</td>\n",
       "      <td>1.75</td>\n",
       "    </tr>\n",
       "    <tr>\n",
       "      <th>14</th>\n",
       "      <td>2018-05-02 18:00:00</td>\n",
       "      <td>1.75</td>\n",
       "      <td>1.75</td>\n",
       "      <td>1.75</td>\n",
       "    </tr>\n",
       "    <tr>\n",
       "      <th>15</th>\n",
       "      <td>2018-03-21 18:00:00</td>\n",
       "      <td>1.75</td>\n",
       "      <td>1.75</td>\n",
       "      <td>1.50</td>\n",
       "    </tr>\n",
       "    <tr>\n",
       "      <th>16</th>\n",
       "      <td>2018-01-31 19:00:00</td>\n",
       "      <td>1.50</td>\n",
       "      <td>1.50</td>\n",
       "      <td>1.50</td>\n",
       "    </tr>\n",
       "    <tr>\n",
       "      <th>17</th>\n",
       "      <td>2017-12-13 19:00:00</td>\n",
       "      <td>1.50</td>\n",
       "      <td>1.50</td>\n",
       "      <td>1.25</td>\n",
       "    </tr>\n",
       "    <tr>\n",
       "      <th>18</th>\n",
       "      <td>2017-11-01 18:00:00</td>\n",
       "      <td>1.25</td>\n",
       "      <td>1.25</td>\n",
       "      <td>1.25</td>\n",
       "    </tr>\n",
       "    <tr>\n",
       "      <th>19</th>\n",
       "      <td>2017-09-20 18:00:00</td>\n",
       "      <td>1.25</td>\n",
       "      <td>1.25</td>\n",
       "      <td>1.25</td>\n",
       "    </tr>\n",
       "  </tbody>\n",
       "</table>\n",
       "</div>"
      ],
      "text/plain": [
       "              datetime  actual  consensus  previous\n",
       "0  2020-01-29 19:00:00    1.75       1.75      1.75\n",
       "1  2019-12-11 19:00:00    1.75       1.75      1.75\n",
       "2  2019-10-30 18:00:00    1.75       1.75      2.00\n",
       "3  2019-09-18 18:00:00    2.00       2.00      2.25\n",
       "4  2019-07-31 18:00:00    2.25       2.25      2.50\n",
       "5  2019-06-19 18:00:00    2.50       2.50      2.50\n",
       "6  2019-05-01 18:00:00    2.50       2.50      2.50\n",
       "7  2019-03-20 18:00:00    2.50       2.50      2.50\n",
       "8  2019-01-30 19:00:00    2.50       2.50      2.50\n",
       "9  2018-12-19 19:00:00    2.50       2.50      2.25\n",
       "10 2018-11-08 19:00:00    2.25       2.25      2.25\n",
       "11 2018-09-26 18:00:00    2.25       2.25      2.00\n",
       "12 2018-08-01 18:00:00    2.00       2.00      2.00\n",
       "13 2018-06-13 18:00:00    2.00       2.00      1.75\n",
       "14 2018-05-02 18:00:00    1.75       1.75      1.75\n",
       "15 2018-03-21 18:00:00    1.75       1.75      1.50\n",
       "16 2018-01-31 19:00:00    1.50       1.50      1.50\n",
       "17 2017-12-13 19:00:00    1.50       1.50      1.25\n",
       "18 2017-11-01 18:00:00    1.25       1.25      1.25\n",
       "19 2017-09-20 18:00:00    1.25       1.25      1.25"
      ]
     },
     "execution_count": 106,
     "metadata": {},
     "output_type": "execute_result"
    }
   ],
   "source": [
    "datos.head(20)"
   ]
  },
  {
   "cell_type": "markdown",
   "metadata": {},
   "source": [
    "<font size =3> En la gráfica siguiente se observa el valor actual del cambio de las tasas de interés de la Reserva Federal de Estados Unidos a través del tiempo, con un período de tiempo de once años, desde el año 2009 hasta el 2020."
   ]
  },
  {
   "cell_type": "code",
   "execution_count": 107,
   "metadata": {},
   "outputs": [
    {
     "data": {
      "image/png": "[encoded data removed]",
      "text/plain": [
       "<Figure size 432x288 with 1 Axes>"
      ]
     },
     "metadata": {
      "needs_background": "light"
     },
     "output_type": "display_data"
    }
   ],
   "source": [
    "vn.v_indicador_orig(datos)"
   ]
  },
  {
   "cell_type": "markdown",
   "metadata": {},
   "source": [
    "<font size =3>  Por medio de la gráfica siguiente, se puede observar que el indicador no tiene una media móvil constante, así como su desviación estándar tampoco es constante, por lo que no será una serie estacionaria, y se confirmará más adelante haciéndole la prueba de Dickey-Fuller."
   ]
  },
  {
   "cell_type": "code",
   "execution_count": 108,
   "metadata": {},
   "outputs": [
    {
     "data": {
      "image/png": "[encoded data removed]",
      "text/plain": [
       "<Figure size 432x288 with 1 Axes>"
      ]
     },
     "metadata": {
      "needs_background": "light"
     },
     "output_type": "display_data"
    }
   ],
   "source": [
    "vn.v_rmrdsv_original(datos)"
   ]
  },
  {
   "cell_type": "markdown",
   "metadata": {},
   "source": [
    "<font size =3> La metodología de **Box Jenkins**, se divide principalmente en tres etapas:\n",
    "1. Identificación\n",
    "2. Estimación\n",
    "3. Diagnóstico del modelo\n",
    "<br>\n",
    "\n",
    "    En este caso, únicamente se utilizarán las primeras dos partes del modelo, la identificación del mismo y la estimación, en donde en la primera parte utilizaremos pruebas que se mencionarán más adelante para tener una estimación del tipo de serie con el se estará tratando para crear la estrategia de trading a lo largo del proyecto."
   ]
  },
  {
   "cell_type": "markdown",
   "metadata": {},
   "source": [
    "# 1. Identificación del modelo"
   ]
  },
  {
   "cell_type": "markdown",
   "metadata": {},
   "source": [
    "<font size =3> <p style=\"text-align: justify;\">En esta primera etapa de la metodología del modelo Box-Jenkins, el primer paso es analizar la estacionariedad de la serie, como se observó en las gráficas anteriores, la serie no parece ser estacionaria a simple vista, por lo que a continuación se le aplicará la prueba de Dickey-Fuller para verificar esta observación con respecto al valor actual del indicador. Posterior al análisis de estacionariedad, para la identificación del modelo, es igualmente necesario checar el factor de autocorrelación y autocorrelación de la serie ya estacionaria para poder en un futuro usar de guía ambas gráficas para determinar los valores *p* y *q* del modelo, así como la estacionalidad para determinar si existe algún factor estacional dentro de la misma serie."
   ]
  },
  {
   "cell_type": "markdown",
   "metadata": {},
   "source": [
    "## Estacionariedad"
   ]
  },
  {
   "cell_type": "markdown",
   "metadata": {},
   "source": [
    "<font size =3> <p style=\"text-align: justify;\"> Estacionariedad es cuando la distribución de probabilidad en un instante de tiempo fijo es la misma para todos los instantes de tiempo o posiciones. Para que se diga que una serie es estacionaria, es porque su media y volatilidad permanecen constantes.\n",
    "<br>\n",
    "Para hacer la prueba de estacionariedad, se realizó de manera matemática la **Prueba Aumentada de Dickey-Fuller** para esta serie de tiempo, en donde:\n",
    "<br>\n",
    "\n",
    "\\begin{equation*}\n",
    "H_0 = Presencia de Raiz Unitaria\n",
    "\\end{equation*}\n",
    "<br>\n",
    "    \n",
    "\\begin{equation*}\n",
    "H_1 = No hay Presencia de Raiz Unitaria\n",
    "\\end{equation*}\n",
    "<br>\n",
    "    \n",
    "<font size =3> <p style=\"text-align: justify;\">Siendo que la hipótesis nula, al tener presencia de raíz unitaria es *no estacionaria*, por lo que su media y volatilidad no son constates, por otro lado, la hipótesis alternativa indica que al no tener presencia de raíz unitaria, la serie de tiempo se considera *estacionaria*.\n",
    "<br>\n",
    "Para ser un poco más claros, la raíz unitaria, ya mencionada antes es una característica de los procesos en modelos de series de tiempo, es una tendencia estocástica en la misma.\n",
    "<br>\n",
    "En la prueba realizada a los valores actuales del indicador, el resultado fue un *p-value* mucho mayor al valor asignado a alfa de 0.05\n",
    "<br>\n",
    "    \n",
    "\\begin{equation*}\n",
    "p-value > \\alpha\n",
    "\\end{equation*}\n",
    "<br>\n",
    "Por lo que existe presencia de una raíz unitaria, siendo así que la serie de tiempo de las tasas de interés de Estados Unidos se trata de una serie no estacionaria."
   ]
  },
  {
   "cell_type": "markdown",
   "metadata": {},
   "source": [
    "<font size =3> <p style=\"text-align: justify;\">La prueba matemática utilizada, como se menciona anteriormente es la prueba aumentada de **Dickey-Fuller**, la cual evalúa la presencia de raíz unitaria en la serie de datos. El resultado de esta prueba se mide en números negativos, mientras menor sea el número (más negativo), mayor es el rechazo de la hipótesis nula, por lo que la función sería estacionaria, así como también se espera que el valor de la prueba de Dickey Fuller sea mucho menor que el valor crítico al 5% de nivel de significancia.\n",
    "<br>\n",
    "<font size =3> <p style=\"text-align: justify;\">En el caso de esta serie de tiempo, el valor es negativo relativamente cercano a cero, por lo que se puede asumir que no se rechaza la hipótesis nula, así como este valor es mayor que los valores críticos, y además de esto el *p-value* es mayor al valor de alfa, por lo que se aceptaría la hipótesis nula con lo que se confirma que la serie de tiempo no es estacionaria."
   ]
  },
  {
   "cell_type": "code",
   "execution_count": 109,
   "metadata": {},
   "outputs": [
    {
     "data": {
      "text/plain": [
       "{'Dickey Fuller Test Statistic': -1.8386366695928613,\n",
       " 'P-Value': 0.6858367571183146,\n",
       " 'Número de rezagos': 2,\n",
       " 'Número de observaciones': 86,\n",
       " 'Valores críticos': {'1%': -4.068093220911366,\n",
       "  '5%': -3.462834240758675,\n",
       "  '10%': -3.1576809941263035},\n",
       " 'Criterio de información maximizada': -194.8219055754903,\n",
       " '¿Estacionaria?': 'No'}"
      ]
     },
     "execution_count": 109,
     "metadata": {},
     "output_type": "execute_result"
    }
   ],
   "source": [
    "# Prueba Dickey-Fuller\n",
    "\n",
    "estacionariedad = fn.f_stationarity(datos)\n",
    "estacionariedad"
   ]
  },
  {
   "cell_type": "markdown",
   "metadata": {},
   "source": [
    "<font size =3> <p style=\"text-align: justify;\"> Como se busca que la serie de tiempo sea estacionaria, se le aplica una diferenciación, lo cual es tomar la diferencia de la observación en un instante en particular con la de un punto anterior en el tiempo, lo cual ayuda a la reducción de tendencia y la estacionalidad, mejorando la estacionariedad.\n",
    "<br>\n",
    "<font size =3> <p style=\"text-align: justify;\">Como se observa a continuación, después de aplicar la diferenciación, se vuelve a realizar la prueba de Dickey-Fuller, pero esta vez los valores de la prueba son mucho menores (más negativos), además de que el valor ahora es menor que todos los valores críticos, y en este caso el *p-value* es menor al asignado por alfa, aceptando la hipótesis alternativa concluyendo que la serie de tiempo del indicador ahora si es estacionaria."
   ]
  },
  {
   "cell_type": "code",
   "execution_count": 110,
   "metadata": {},
   "outputs": [
    {
     "data": {
      "text/plain": [
       "{'Dickey Fuller Test Statistic': -4.3757569128093134,\n",
       " 'P-Value': 0.0023929390318738154,\n",
       " 'Número de rezagos': 2,\n",
       " 'Número de observaciones': 85,\n",
       " 'Valores críticos': {'1%': -4.06943017911663,\n",
       "  '5%': -3.4634663061266027,\n",
       "  '10%': -3.1580485182169755},\n",
       " 'Criterio de información maximizada': -207.7006236913499,\n",
       " '¿Estacionaria?': 'Si'}"
      ]
     },
     "execution_count": 110,
     "metadata": {},
     "output_type": "execute_result"
    }
   ],
   "source": [
    "# Prueba Dickey-Fuller con serie despues de diferenciación\n",
    "\n",
    "estacionariedad_dif = fn.f_dif_stationarity(datos)\n",
    "estacionariedad_dif"
   ]
  },
  {
   "cell_type": "code",
   "execution_count": 111,
   "metadata": {},
   "outputs": [
    {
     "data": {
      "image/png": "[encoded data removed]",
      "text/plain": [
       "<Figure size 432x288 with 1 Axes>"
      ]
     },
     "metadata": {
      "needs_background": "light"
     },
     "output_type": "display_data"
    }
   ],
   "source": [
    "vn.v_indicador_dif(datos)"
   ]
  },
  {
   "cell_type": "code",
   "execution_count": 112,
   "metadata": {},
   "outputs": [
    {
     "data": {
      "image/png": "[encoded data removed]",
      "text/plain": [
       "<Figure size 432x288 with 1 Axes>"
      ]
     },
     "metadata": {
      "needs_background": "light"
     },
     "output_type": "display_data"
    }
   ],
   "source": [
    "vn.v_rmrdsv_dif(datos)"
   ]
  },
  {
   "cell_type": "markdown",
   "metadata": {},
   "source": [
    "<font size =3> <p style=\"text-align: justify;\">De igual manera, en las gráficas anteriores, para facilitar la visualización de los datos del indicador, se muestra en la primera gráfica los valores del indicador con una diferencia y en la segunda, se muestran los mismos valores con la diferencia, o sea, ya estacionarios con su media y desviación estándar móviles. "
   ]
  },
  {
   "cell_type": "markdown",
   "metadata": {},
   "source": [
    "<font size =3> <p style=\"text-align: justify;\"> Otra forma de ratificar los nuevos resultados es utilizando las gráficas de autocorrelación y autocorrelación parcial, pero con la nueva serie de tiempo modificada, ya estacionaria. Se pueden observar estas gráficas en donde ahora, ambas convergen a cero al final del eje x. La gráfica de autocorrelación converge a cero de una manera más rápida que la gráfica de autocorrelación con los valores del indicador antes de ser estacionario, igualmente, la gráfica de autocorrelación parcial converje a cero igualmente, en vez de diverger como sería en el caso de utilizar los valores no estacionarios del indicador, mostrando de esta manera que la nueva serie diferenciada es estacionaria."
   ]
  },
  {
   "cell_type": "markdown",
   "metadata": {},
   "source": [
    "## Componentes de Autocorrelación y Autocorrelación Parcial"
   ]
  },
  {
   "cell_type": "markdown",
   "metadata": {},
   "source": [
    "<font size =3> <p style=\"text-align: justify;\"> La autocorrelación y la autocorrelación parcial se utilizan para medir la fuerza de una relación por medio de una observación en una serie de tiempo, en este caso, del indicador, con observaciones en pasos de tiempo anteriores. Y así poder verificar si el comportamiento de la serie tiene algún patrón a futuro.\n",
    "<br>\n",
    "Para el cálculo matemático de la autocorrelación se utilizó la prueba de **Multiplicadores de Lagrange** , en donde:\n",
    "<br>\n",
    "\n",
    "\\begin{equation*}\n",
    "H_0 = No Existe Autocorrelacion\n",
    "\\end{equation*}\n",
    "<br>\n",
    "    \n",
    "\\begin{equation*}\n",
    "H_1 = Existe Autocorrelacion\n",
    "\\end{equation*}\n",
    "<br>\n",
    "    \n",
    "En la hipótesis nula se considera que existe una distribución de datos de forma independiente, y en la hipótesis alternativa se menciona que la distribución de datos no se da de forma independiente. \n",
    "<br>\n",
    "    \n",
    "<font size =3> <p style=\"text-align: justify;\">En la prueba realizada a la serie de tiempo, se obtuvo que el *p-value* era demasiado cercano al cero, por lo que se acepta la hipótesis alternativa, dando así como conclusión que la serie está autocorrelacionada. Teniendo como resultado una serie autocorrelacionada, se debe de considerar la existencia de un patrón de comportamiento, la cual se podría especificar con procesos autorregresivos *AR(p)*, de medias móviles *MA(q)* o mixtos *ARMA(p,q)*."
   ]
  },
  {
   "cell_type": "code",
   "execution_count": 113,
   "metadata": {},
   "outputs": [
    {
     "data": {
      "text/plain": [
       "{'Lagrange Multiplier Value': 41.76556383941004,\n",
       " 'LM P-Value': 3.6272014236401087e-06,\n",
       " 'F-Statistic Value': 8.599637569940047,\n",
       " 'F-Statistic P-Value': 1.628019697341453e-08,\n",
       " '¿Autocorrelación?': 'Si'}"
      ]
     },
     "execution_count": 113,
     "metadata": {},
     "output_type": "execute_result"
    }
   ],
   "source": [
    "# Prueba Multiplicadores de Lagrange\n",
    "\n",
    "fac_lm = fn.f_autocorr_lm(datos)\n",
    "fac_lm"
   ]
  },
  {
   "cell_type": "markdown",
   "metadata": {},
   "source": [
    "<font size =3> Para la gráfica de autocorrelación se utilizó la correlación de Pearson como base, en donde el coeficiente del mismo es utilizado como índice para medir el grado de relación, en este caso de la misma variable pero en dos períodos de tiempo diferentes. \n",
    "<br>\n",
    "    \n",
    "\\begin{equation*} \n",
    "\\rho_{{x_t}{x_{t-1}}} = \\frac{\\sigma_{{x_t}{x_{t-1}}}} {\\sigma_{x_t} \\sigma_{x_{t-1}}}\n",
    "\\end{equation*}\n",
    "<br>\n",
    "    \n",
    "<font size =3> <p style=\"text-align: justify;\">Siendo el numerador la covarianza de *X* en tiempo *t* y *X* en tiempo *t-1*, y el denominador la desviación estándar de *X* en tiempo *t* multiplicada por la desviación estándar de *X* en tiempo *t-1*\n",
    "<br>\n",
    "<font size =3> <p style=\"text-align: justify;\">Para la interpretación de la gráfica de autocorrelación, se puede observar que el primer valor de los veinte mostrados en la gráfica es uno, el cual es un valor bastante alto, aunque los datos parecen converger hacia el cero, lo que muestra que la serie del indicador ya diferenciado de las tasas de interés de la Reserva Federal de los Estados Unidos, es una serie estacionaria, por lo que queda oficialmente que al modelo se le podría incluir la diferenciación de orden 1. Y en cuanto a los *q* valores, se deciden tomar en cuenta MA(3) debido a la gráfica a continuación."
   ]
  },
  {
   "cell_type": "code",
   "execution_count": 114,
   "metadata": {},
   "outputs": [
    {
     "data": {
      "image/png": "[encoded data removed]",
      "text/plain": [
       "<Figure size 432x288 with 1 Axes>"
      ]
     },
     "metadata": {
      "needs_background": "light"
     },
     "output_type": "display_data"
    }
   ],
   "source": [
    "vn.v_fac_estac(datos)"
   ]
  },
  {
   "cell_type": "markdown",
   "metadata": {},
   "source": [
    "<font size =3> <p style=\"text-align: justify;\"> Para la gráfica de autocorrelación parcial se utiliza la fórmula matemática:\n",
    "<br>\n",
    "    \n",
    "\\begin{equation*} \n",
    "\\rho_{{x_t}{x_{t-1}}} = \\frac{\\sigma_{{x_t}{x_{t-1}}}} {\\sqrt{\\sigma_{x_t} \\sigma_{x_{t-1}}}}\n",
    "\\end{equation*}\n",
    "<br>\n",
    "<font size =3> <p style=\"text-align: justify;\">Para la interpretación de la gráfica de la autocorrelación parcial, normalmente se busca que sea lo más cercana a cero y converja; como se puede observar, en este caso los *p* valores de la gráfica se van acercando al cero, aunque al primer valor ser uno, muestra que la serie no es invertible. \n"
   ]
  },
  {
   "cell_type": "code",
   "execution_count": 115,
   "metadata": {},
   "outputs": [
    {
     "data": {
      "image/png": "[encoded data removed]",
      "text/plain": [
       "<Figure size 432x288 with 1 Axes>"
      ]
     },
     "metadata": {
      "needs_background": "light"
     },
     "output_type": "display_data"
    }
   ],
   "source": [
    "vn.v_facp_estac(datos)"
   ]
  },
  {
   "cell_type": "markdown",
   "metadata": {},
   "source": [
    "## Estacionalidad"
   ]
  },
  {
   "cell_type": "markdown",
   "metadata": {},
   "source": [
    "<font size =3> <p style=\"text-align: justify;\"> La estacionalidad o variación estacional de una serie de tiempo, es la variación periódica y predecible de la misma con un periodo anterior, usualmente inferior o igual a un año.\n",
    "<br>\n",
    "Se dice que existe estacionalidad en los datos cuando estos presentan un comportamiento cíclico o periódico, esto quiere decir, que el comportamiento de los datos se repite en el tiempo, siendo por ejemplo, el precio de las tasas de interés del día de hoy, parecidas a las del mes pasado, y el del mes pasado al antepasado, etcétera."
   ]
  },
  {
   "cell_type": "code",
   "execution_count": 116,
   "metadata": {},
   "outputs": [
    {
     "data": {
      "image/png": "[encoded data removed]",
      "text/plain": [
       "<Figure size 432x288 with 4 Axes>"
      ]
     },
     "metadata": {
      "needs_background": "light"
     },
     "output_type": "display_data"
    }
   ],
   "source": [
    "vn.v_seasonality(datos)"
   ]
  },
  {
   "cell_type": "markdown",
   "metadata": {},
   "source": [
    "<font size =3> <p style=\"text-align: justify;\"> En la gráfica mostrada anteriormente, se puede apreciar de manera visual el comportamiento de los precios actuales del indicador de la Reserva Federal de los Estados Unidos. En la primera gráfica, se muestra el comportamiento de las tasas, con la serie ya estacionaria, después de una diferencia, en la segunda gráfica se observa la tendencia de estos datos, en la cuarta gráfica, se observa los residuos, los cuales son interesantes de observar, ya que se ven muy constantes desde el 2009 al 2015, teniendo relación con la gráfica *actual*, y a partir del 2016 a este año 2020, ya se muestra como un período de alta variabilidad en los datos.\n",
    "<br> \n",
    "    Por último, en la tercera gráfica, se puede observar la *estacionalidad*, en donde se observa un comportamiento repetitivo a partir del 2015/2016 en donde parece que existe un mismo patrón con ligeras modificaciones por año aproximadamente, en donde, conforme pasa el tiempo, los cambios a pesar de tener el mismo comportamiento, son más significativos."
   ]
  },
  {
   "cell_type": "markdown",
   "metadata": {},
   "source": [
    "# 2. Estimación del modelo"
   ]
  },
  {
   "cell_type": "markdown",
   "metadata": {},
   "source": [
    "<font size =3> <p style=\"text-align: justify;\">Para la segunda etapa de la metodología de *Box-Jenkins*, se realiza con ayuda de la etapa anterior de identificación, una propuesta para el modelo de la serie ya estacionaria. En este caso se llegó a la conclusión de que se trataba de un ARIMA(3,1,3) con factor estacional que para este caso no se tomará en cuenta, ya que solo trabajaremos con modelos ARIMA y no SARIMA."
   ]
  },
  {
   "cell_type": "code",
   "execution_count": 117,
   "metadata": {},
   "outputs": [
    {
     "data": {
      "image/png": "[encoded data removed]",
      "text/plain": [
       "<Figure size 432x288 with 1 Axes>"
      ]
     },
     "metadata": {
      "needs_background": "light"
     },
     "output_type": "display_data"
    }
   ],
   "source": [
    "vn.v_model_arima_orig(datos)"
   ]
  },
  {
   "cell_type": "markdown",
   "metadata": {},
   "source": [
    "<font size =3> La gráfica anterior, muestra de color azul la serie de tiempo del indicador ya estacionaria, con una diferencia, como se puede comprobar en gráficas anteriores, el color naranja se observa el modelo propuesto como ARIMA(3,1,3) en donde se tomó AR(3), una diferencia I(1), y MA(3)."
   ]
  },
  {
   "cell_type": "markdown",
   "metadata": {},
   "source": [
    "# 3. Diagnóstico del modelo"
   ]
  },
  {
   "cell_type": "markdown",
   "metadata": {},
   "source": [
    "## Prueba de Normalidad"
   ]
  },
  {
   "cell_type": "markdown",
   "metadata": {},
   "source": [
    "<font size =3> <p style=\"text-align: justify;\">La prueba de normalidad se utiliza al momento de hacer uso de datos, y sirve para determinar si un conjunto de estos está bien modelado y sus residuales siguen una distribución normal, así como para calcular la probabilidad de que una variable aleatoria subyacente al conjunto de datos se distribuya normalmente.\n",
    "<br> Para el caso del diagnóstico del modelo según la metodología de **Box-Jenkins**, se realiza esta prueba de normalidad con los residuales del modelo propuesto. A continuación se observan los resultados de la prueba de normalidad **Chi-Squared**, en donde el *p-value* al ser menor que el valor *alfa*, indica que no se trata de una distribución normal de los residuos de la serie estacionaria."
   ]
  },
  {
   "cell_type": "code",
   "execution_count": 118,
   "metadata": {},
   "outputs": [
    {
     "data": {
      "text/plain": [
       "{'Chi Squared Test Value': 10.783535243591057,\n",
       " 'P-value': 0.004553916614951616,\n",
       " '¿Normal?': 'No'}"
      ]
     },
     "execution_count": 118,
     "metadata": {},
     "output_type": "execute_result"
    }
   ],
   "source": [
    "fn.f_norm_resid(datos)"
   ]
  },
  {
   "cell_type": "markdown",
   "metadata": {},
   "source": [
    "<font size =3> <p style=\"text-align: justify;\"> Igualmente se observa una gráfica a continuación, en donde se muestra que los residuales no siguen exactamente una distribución normal, pero tiene cierto parecido, siendo una distribución simétrica.\n",
    "<br> De esta manera se podría concluir con respecto a la metodología de **Box-Jenkins**, que el modelo a pesar de no ser exacto, ya que no se tomo en cuenta el factor estacional para la predicción del mismo, es bastante parecido, por lo que el modelo estimado no es tan diferente del modelo real de la serie."
   ]
  },
  {
   "cell_type": "code",
   "execution_count": 119,
   "metadata": {},
   "outputs": [
    {
     "data": {
      "image/png": "[encoded data removed]",
      "text/plain": [
       "<Figure size 864x576 with 1 Axes>"
      ]
     },
     "metadata": {
      "needs_background": "light"
     },
     "output_type": "display_data"
    },
    {
     "data": {
      "text/plain": [
       "<Figure size 864x576 with 0 Axes>"
      ]
     },
     "metadata": {},
     "output_type": "display_data"
    }
   ],
   "source": [
    "vn.v_norm_resids(datos)"
   ]
  },
  {
   "cell_type": "code",
   "execution_count": 120,
   "metadata": {},
   "outputs": [
    {
     "data": {
      "text/plain": [
       "{'Nivel de sesgo': 0.21121407501141617,\n",
       " 'Asimétrico?': 'No',\n",
       " 'Tipo de asimetría si hay': 'Simétrico'}"
      ]
     },
     "execution_count": 120,
     "metadata": {},
     "output_type": "execute_result"
    }
   ],
   "source": [
    "fn.f_skewness_resid(datos)"
   ]
  },
  {
   "cell_type": "markdown",
   "metadata": {},
   "source": [
    "# Prueba de Normalidad a los datos del indicador estacionario"
   ]
  },
  {
   "cell_type": "markdown",
   "metadata": {},
   "source": [
    "<font size =3> <p style=\"text-align: justify;\"> Cada una de las pruebas a utilizar, calcula una estadística específica de la prueba, por lo que como se ha visto en pruebas anteriores, los resultados de estas pueden variar significativamente, por lo que se ha escogido el *p-value* para interpretar los resultados de estas.\n",
    "    <br>\n",
    "    Para la prueba de normalidad en el cálculo matemático se hicieron las pruebas de **Shapiro-Wilk** y **D'Agostino** en donde:\n",
    "<br>\n",
    "    \n",
    "\\begin{equation*}\n",
    "H_0 = Distribucion Normal\n",
    "\\end{equation*}\n",
    "<br>\n",
    " \n",
    "\\begin{equation*}\n",
    "H_1 = Distribucion No Normal\n",
    "\\end{equation*}\n",
    "\n",
    "En las dos pruebas realizadas el resultado fue el mismo, el *p-value* era mucho menor al valor alfa asignado de 0.05.\n",
    "\\begin{equation*}\n",
    "p-value < \\alpha\n",
    "\\end{equation*}\n",
    "<br>\n",
    "Por lo que se rechaza la hipótesis nula y se acepta la hipótesis alternativa confirmando que los datos no tienen una distribución normal.   "
   ]
  },
  {
   "cell_type": "markdown",
   "metadata": {},
   "source": [
    "<font size =3> La primera prueba realizada fue la de **Shapiro-Wilk**, la cual evalúa los datos y cuantifica la probabilidad de que formen parte de una distribución normal, haciendo así que el resultado de la prueba estadística oscile entre los valores 0 y 1.\n",
    "<br>\n",
    "En este caso, a pesar de que el valor estadístico fue superior al 0.50, indicando que los datos tienen un 66% de probabilidad de asemejarse a una distribución normal, aún hay una cantidad razonablemente grande para pensar que así es, por lo que se concluye que los datos no tienen una distribución normal.\n",
    "<br> \n",
    "En cuanto al *p-value*, se observa a primera vista que el valor es mucho menor al alfa del 0.05, por lo que como se mencionaba antes, se rechaza la hipótesis nula y se acepta la hipótesis alternativa, siendo así que los datos no forman parte de una distribución normal."
   ]
  },
  {
   "cell_type": "code",
   "execution_count": 121,
   "metadata": {},
   "outputs": [
    {
     "data": {
      "text/plain": [
       "{'Statistic Value': 0.49207377433776855,\n",
       " 'P-value': 6.424537911247383e-16,\n",
       " '¿Normal?': 'No'}"
      ]
     },
     "execution_count": 121,
     "metadata": {},
     "output_type": "execute_result"
    }
   ],
   "source": [
    "# Prueba Shapiro-Wilk\n",
    "\n",
    "normalidad_shw = fn.f_norm_shw(datos)\n",
    "normalidad_shw"
   ]
  },
  {
   "cell_type": "markdown",
   "metadata": {},
   "source": [
    "<font size =3> <p style=\"text-align: justify;\"> La segunda prueba realizada fue la de **D'Agostino**, en donde lo que ésta hace es basarse en las transformaciones de la curtosis y la asimetría de los datos, para determinar si siguen una distribución normal. En este caso al igual que en los anteriores, se observa que el *p-value* es mucho menor al valor alfa asignado, por lo que se rechaza la hipótesis nula y se acepta la alternativa de que no es una distribución normal."
   ]
  },
  {
   "cell_type": "code",
   "execution_count": 122,
   "metadata": {},
   "outputs": [
    {
     "data": {
      "text/plain": [
       "{'Statistic Value': 24.421788912190085,\n",
       " 'P-value': 4.975948978508964e-06,\n",
       " '¿Normal?': 'No'}"
      ]
     },
     "execution_count": 122,
     "metadata": {},
     "output_type": "execute_result"
    }
   ],
   "source": [
    "# Prueba D'Agostino\n",
    "\n",
    "normalidad_dagp = fn.f_norm_dagp(datos)\n",
    "normalidad_dagp"
   ]
  },
  {
   "cell_type": "markdown",
   "metadata": {},
   "source": [
    "<font size =3> <p style=\"text-align: justify;\"> Una forma de interpretar los valores de la serie de tiempo para determinar si se trata de una distribución normal, es realizar un *histograma*, colocando en el eje *x* los valores del indicador estacionario y en el eje *y* el número de observaciones de cada valor. \n",
    "<br> Se puede observar a primera vista que el número de observaciones por dato, pareciese tener una ligera forma de la campana de Gauss, aunque le faltan varios valores, ya que al momento de volver la serie estacionaria sacándole la diferencia, lo que esto hace es \"emparejar\" los valores, tratando de volver la media, como la varianza, constantes.\n",
    "<br>\n",
    "    Igualmente se calculó de la misma serie de datos estacionarios el sesgo, si es que este existía. Y se observa que la distribución no es necesariamente asimétrica, ya que aunque el nivel de sesgo es diferente de cero, no llega a entrar entre los valores 1 y -1."
   ]
  },
  {
   "cell_type": "code",
   "execution_count": 123,
   "metadata": {},
   "outputs": [
    {
     "data": {
      "image/png": "[encoded data removed]",
      "text/plain": [
       "<Figure size 432x288 with 1 Axes>"
      ]
     },
     "metadata": {
      "needs_background": "light"
     },
     "output_type": "display_data"
    }
   ],
   "source": [
    "vn.v_norm_hist(datos)"
   ]
  },
  {
   "cell_type": "code",
   "execution_count": 124,
   "metadata": {},
   "outputs": [
    {
     "data": {
      "text/plain": [
       "{'Nivel de sesgo': -0.8560854426364055,\n",
       " 'Asimétrico?': 'No',\n",
       " 'Tipo de asimetría si hay': 'Simétrico'}"
      ]
     },
     "execution_count": 124,
     "metadata": {},
     "output_type": "execute_result"
    }
   ],
   "source": [
    "sesgo = fn.f_skewness(datos)\n",
    "sesgo"
   ]
  },
  {
   "cell_type": "markdown",
   "metadata": {},
   "source": [
    "<font size =3> <p style=\"text-align: justify;\">Una segunda forma de visualizar si los datos cumplen con una distribución normal, es un gráfico muy popular conocido como *gráfico QQ* (cuantil-cuantil). Esta gráfica genera la distrubución gaussiana/normal y estas se dividen en cinco grupos llamados cuantiles. Cada punto azul en la muestra de nuestros datos se combina con un miembro similar de la distribución gaussiana en la misma distribución acumulativa. \n",
    "<br>\n",
    "    Un escenario perfecto en el que los datos se colocan exactamente por encima de la línea roja a 45° inicializando de la esquina inferior izquierda. Y como en este caso los puntos azules no siguen la línea roja, se puede decir que no se trata de una distribución normal."
   ]
  },
  {
   "cell_type": "code",
   "execution_count": 125,
   "metadata": {},
   "outputs": [
    {
     "data": {
      "image/png": "[encoded data removed]",
      "text/plain": [
       "<Figure size 432x288 with 1 Axes>"
      ]
     },
     "metadata": {
      "needs_background": "light"
     },
     "output_type": "display_data"
    }
   ],
   "source": [
    "vn.v_norm_qq(datos)"
   ]
  },
  {
   "cell_type": "markdown",
   "metadata": {},
   "source": [
    "# Heterocedasticidad de Indicador estacionario"
   ]
  },
  {
   "cell_type": "markdown",
   "metadata": {},
   "source": [
    "<font size =3> <p style=\"text-align: justify;\"> La heterocedasticidad es una propiedad de las series de tiempo, la cual indica que la varianza está aumentando de manera sistemática, como una tendencia alcista, creciente o que va en aumento. \n",
    "<br>\n",
    "Para el cálculo matemático de la misma, se realizaron tres pruebas diferentes, **Breusch-Pagan**, **White** y **ARCH**, como se observará a continuación en el mismo orden, en donde:\n",
    "<br>\n",
    "    \n",
    "\\begin{equation*}\n",
    "H_0 = Serie de tiempo Homocedastica\n",
    "\\end{equation*}\n",
    "<br>\n",
    "    \n",
    "\\begin{equation*}\n",
    "H_1 = Serie de tiempo Heterocedastica\n",
    "\\end{equation*}\n",
    "<br>\n",
    "    \n",
    "Siendo una serie de tiempo Homocedástica, significaría una varianza constante a través del tiempo. En las tres pruebas realizadas, el resultado fue el mismo, el *p-value* fue menor al valor de significancia de 0.05 asignado.\n",
    "<br>\n",
    "    \n",
    "\\begin{equation*} \n",
    "p-value < \\alpha \n",
    "\\end{equation*}\n",
    "<br>           \n",
    "    \n",
    "Por lo que se rechaza la hipótesis nula y se aprueba la hipótesis alternativa, probando así que la serie de tiempo es heterocedástica."
   ]
  },
  {
   "cell_type": "code",
   "execution_count": 126,
   "metadata": {},
   "outputs": [
    {
     "data": {
      "text/plain": [
       "{'Lagrange Multiplier Value': 19.70365620510584,\n",
       " 'LM P-value': 9.042818831042661e-06,\n",
       " 'Statistic Value': 24.811202759667857,\n",
       " 'F-Statistic P-Value': 3.2286616769047155e-06,\n",
       " '¿Heteroscedástico?': 'Si'}"
      ]
     },
     "execution_count": 126,
     "metadata": {},
     "output_type": "execute_result"
    }
   ],
   "source": [
    "# Prueba Breusch-Pagan\n",
    "\n",
    "heterocedasticidad_bp = fn.f_heter_bp(datos)\n",
    "heterocedasticidad_bp"
   ]
  },
  {
   "cell_type": "code",
   "execution_count": 127,
   "metadata": {},
   "outputs": [
    {
     "data": {
      "text/plain": [
       "{'Lagrange Multiplier Value': 25.077406012752412,\n",
       " 'LM P-value': 3.58517594728579e-06,\n",
       " 'Statistic Value': 16.938109000369234,\n",
       " 'F-Statistic P-Value': 6.438248039593287e-07,\n",
       " '¿Heteroscedástico?': 'Si'}"
      ]
     },
     "execution_count": 127,
     "metadata": {},
     "output_type": "execute_result"
    }
   ],
   "source": [
    "# Prueba White\n",
    "\n",
    "heterocedasticidad_w = fn.f_heter_w(datos)\n",
    "heterocedasticidad_w"
   ]
  },
  {
   "cell_type": "code",
   "execution_count": 128,
   "metadata": {},
   "outputs": [
    {
     "data": {
      "text/plain": [
       "{'Lagrange Multiplier Value': 58.129125938485494,\n",
       " 'LM P-value': 1.3815643263087996e-05,\n",
       " 'Statistic Value': 13.839042530999702,\n",
       " 'F-Statistic P-Value': 1.720848551656553e-13,\n",
       " '¿Heteroscedástico?': 'Si'}"
      ]
     },
     "execution_count": 128,
     "metadata": {},
     "output_type": "execute_result"
    }
   ],
   "source": [
    "# Prueba ARCH\n",
    "\n",
    "heterocedasticidad_arch = fn.f_het_arch(datos)\n",
    "heterocedasticidad_arch"
   ]
  },
  {
   "cell_type": "markdown",
   "metadata": {},
   "source": [
    "<font size =3> <p style=\"text-align: justify;\">Posteriormente se hizo una investigación más a fondo, en donde para este tipo de datos, de series de tiempo, la prueba que realmente calcula si la serie es heterocedástica u homogénea, es únicamente la prueba ARCH. Ya que esta contempla no solamente la varianza no uniforme, sino que también se ve afectada por varianzas precedentes, lo cual es llamado *autorregresión*, así como esto, igualmente toma en cuenta que la varianza de un período es afectada por una o más variables, siendo *condicional*, siendo estas consideraciones importantes para el análisis de series de tiempo en finanzas."
   ]
  },
  {
   "cell_type": "markdown",
   "metadata": {},
   "source": [
    "# Detección de valores atípicos"
   ]
  },
  {
   "cell_type": "markdown",
   "metadata": {},
   "source": [
    "<font size =3> <p style=\"text-align: justify;\"> La detección de valores atípicos es muchas veces crucial para las pruebas de heterocedasticidad o normalidad, ya que en el caso de una prueba de *normalidad* la cual se base en la asimetría de los datos o en la curtosis, se puede ver afectada por la presencia de estos valores, en el caso de las pruebas de *heterocedasticidad*, puede afectar los resultados de la misma, interpretándose como un incremento en la varianza en ese instante y puede confundirse con efectos de heterocedasticidad condicional. Por lo que es importante detectar estos valores.\n",
    "<br> \n",
    "    Una manera de poder visualizar estos valores, es por medio de una gráfica de cuantiles, en donde se observa el valor mínimo, el valor máximo, cual es el rango en el que se concentran la mayoría de los valores e igualmente se muestran de esta forma también los valores atípicos."
   ]
  },
  {
   "cell_type": "markdown",
   "metadata": {},
   "source": [
    "### Datos del Indicador no estacionario"
   ]
  },
  {
   "cell_type": "markdown",
   "metadata": {},
   "source": [
    "<font size =3> <p style=\"text-align: justify;\"> Para la identificación de estos valores en la serie de tiempo del indicador deseado, se realizó la gráfica de cuantiles, y se observa que la mayoría de los valores se concentran en el rango de cero a uno, lo cual se puede confirmar en la primera gráfica donde se muestran los valores actuales del indicador a través del tiempo desde el 2009 hasta el 2020, en donde en los primeros siete años estas tasas se mantuvieron muy bajas, representando más del 60% de los datos en ese rango. Los mostrados como datos atípicos en esta gráfica son los mayores a dos por ciento, ya que las tasas llegaron a esos niveles entre el 2018 y 2020; aunque realmente no sería necesario excluirlos de la serie de tiempo, porque aunque se muestren como valores atípicos en la gráfica, realmente no están tan alejados del promedio de los datos, por lo cual la varianza de los mismos no necesariamente se ve tan afectada."
   ]
  },
  {
   "cell_type": "code",
   "execution_count": 129,
   "metadata": {},
   "outputs": [
    {
     "data": {
      "image/png": "[encoded data removed]",
      "text/plain": [
       "<Figure size 432x288 with 1 Axes>"
      ]
     },
     "metadata": {
      "needs_background": "light"
     },
     "output_type": "display_data"
    }
   ],
   "source": [
    "vn.v_det_at(datos)"
   ]
  },
  {
   "cell_type": "markdown",
   "metadata": {},
   "source": [
    "### Datos del Indicador estacionario"
   ]
  },
  {
   "cell_type": "markdown",
   "metadata": {},
   "source": [
    "<font size =3> <p style=\"text-align: justify;\"> En el caso del indicador ya estacionario, se realiza de igual manera la gráfica de cuantiles y se observa que los valores esta vez se concentran en el cero, con unos pocos sobrepasando el -2 y otros sobrepasando el 2, pero sin valores entre los rangos mencionados. Por lo que tampoco serían necesariamente datos atípicos, ya que en sí los datos ya estacionarios no son continuos."
   ]
  },
  {
   "cell_type": "code",
   "execution_count": 130,
   "metadata": {},
   "outputs": [
    {
     "data": {
      "image/png": "[encoded data removed]",
      "text/plain": [
       "<Figure size 432x288 with 1 Axes>"
      ]
     },
     "metadata": {
      "needs_background": "light"
     },
     "output_type": "display_data"
    }
   ],
   "source": [
    "vn.v_det_at_dif(datos)"
   ]
  },
  {
   "cell_type": "markdown",
   "metadata": {},
   "source": [
    "###### <span style=\"font-family:Papyrus; font-size:4em;\"> Regla de Trading"
   ]
  },
  {
   "cell_type": "markdown",
   "metadata": {},
   "source": [
    "<font size =3> <p style=\"text-align: justify;\">  De acuerdo con las visualizaciones visuales, tenemos los siguientes indicios para la regla de trading. \n",
    "\n",
    "* Lo ideal sería tomar la posición un minuto antes de la decisión de la Fed para aprovechar la volatilidad al momento que se anuncia el indicador.\n",
    "* La mayoría de las veces los analistas se anticipan a la decisión de la Fed, lo que provoca que los movimientos en el tipo de cambio no sean tan bruscos. \n",
    "* La tendencia del tipo de cambio se logra observar en los primero 5 minutos.  \n"
   ]
  },
  {
   "cell_type": "markdown",
   "metadata": {},
   "source": [
    "<font size =3> <p style=\"text-align: justify;\">  Con base en la información obtenida, es decir los resultados de la evaluación empírica se considerará lo siguiente para formular una estrategia de trading para cuando se publiquen el indicador que le corresponde a la decisión de la Fed sobre las tasas de interés. \n",
    "</font>\n",
    "\n",
    " Tabla 1.11\n",
    "\n",
    "| Escenario  |Estrategia |Lotes | Takeprofit| Stoploss |Comentario|\n",
    "| :-------   | :------:  |:-------| :------:  | :------- |         :------- |          \n",
    "| La Fed decide mantener las tasas de interés | Tomar posición larga EUR/USD  |1 |25| 10|El euro se ve apreciado frente al dólar, los cambios en pips no suelen ser muy altos.\n",
    "| La Fed decide incrementar las tasas de interés    | Tomar posición corta EUR/USD|1 |30|10 |El euro se deprecia frente al dólar, los cambios en pips suelen ser altos. \n",
    "| La Fed decide recortar las tasas de interés   |   Tomar posición corta EUR/USD  |1| 15|5 | El euro se deprecia frente al dólar, los cambios en pips no suelen ser altos. "
   ]
  },
  {
   "cell_type": "markdown",
   "metadata": {},
   "source": [
    "\n",
    " Tabla 1.12\n",
    "\n",
    "| Escenario|  Regla      |Lotes | Sentido| Takeprofit |Stoploss| Justificación|\n",
    "| :-------| :------:  |:----:| :------:  | :----: |:----: | :-------: \n",
    "|A|Actual >= Consensus >= Previous|1| Comprar  | 25   | 10  |Las posibilidades de que la Fed mantenga las tasas de interés son altas. |\n",
    "|B|Actual >= Consensus < Previous |1| Comprar |    25    |  10     |Las posibilidades de que la Fed mantenga las tasas de interés son altas.|\n",
    "|C|Actual < Consensus >= Previous |1| Comprar   |   25       |  10       | Las posibilidades de que la Fed mantenga las tasas de interés son altas.\n",
    "|D|Actual < Consensus < Previous  |1|  Vender     |     15     |  5       | Las posibilidades de un recorte de las tasas de interés son bajas."
   ]
  },
  {
   "cell_type": "markdown",
   "metadata": {},
   "source": [
    "###### <span style=\"font-family:Papyrus; font-size:4em;\"> Aspectos computacionales"
   ]
  },
  {
   "cell_type": "code",
   "execution_count": 131,
   "metadata": {},
   "outputs": [],
   "source": [
    "import pickle\n",
    "datos_instrumento = pickle.load(open('precios.sav','rb'))\n",
    "clasificacion = fn.f_clasificacion_ocurrencia(datos)"
   ]
  },
  {
   "cell_type": "markdown",
   "metadata": {},
   "source": [
    "<font size =3> <p style=\"text-align: justify;\">Primeramente, para el aspecto computacional, se hace un análisis de los posibles escenarios llevados a cabo en el período mencionado con anterioridad, del año 2009 al 2020. Utilizando los parámetros a continuación, se muestra los escenarios de ocurrencia con el Indicador **Fed Interest Rate Decision**"
   ]
  },
  {
   "cell_type": "markdown",
   "metadata": {},
   "source": [
    "| Escenario|  Regla      \n",
    "| :-------| :------:  | \n",
    "|A|Actual >= Consensus >= Previous\n",
    "|B|Actual >= Consensus < Previous \n",
    "|C|Actual < Consensus >= Previous \n",
    "|D|Actual < Consensus < Previous  "
   ]
  },
  {
   "cell_type": "code",
   "execution_count": 132,
   "metadata": {},
   "outputs": [
    {
     "data": {
      "image/png": "[encoded data removed]",
      "text/plain": [
       "<Figure size 432x288 with 1 Axes>"
      ]
     },
     "metadata": {
      "needs_background": "light"
     },
     "output_type": "display_data"
    }
   ],
   "source": [
    "vn.v_indicador_orig(datos)"
   ]
  },
  {
   "cell_type": "markdown",
   "metadata": {},
   "source": [
    "<font size =3> <p style=\"text-align: justify;\">Como se puede observar en la gráfica anteriormente, y las reglas de los posibles escenarios a analizar para la aplicación y optimización de la estrategia de trading, se puede observar a simple vista que el indicador se mantuvo durante los primeros siete años en el mismo porcentaje menor a 5%, del 2016 al 2019 aumentó significaivamente, y posterior a eso, en el último año, decayeron las tasas de interés de la Reserva Federal.\n",
    "<br>\n",
    "    Tomando en cuenta lo anterior, se observan a continuación los escenarios que se llevan a cabo en el período mencionado."
   ]
  },
  {
   "cell_type": "code",
   "execution_count": 133,
   "metadata": {},
   "outputs": [
    {
     "data": {
      "text/plain": [
       "['A',\n",
       " 'A',\n",
       " 'B',\n",
       " 'B',\n",
       " 'B',\n",
       " 'A',\n",
       " 'A',\n",
       " 'A',\n",
       " 'A',\n",
       " 'A',\n",
       " 'A',\n",
       " 'A',\n",
       " 'A',\n",
       " 'A',\n",
       " 'A',\n",
       " 'A',\n",
       " 'A',\n",
       " 'A',\n",
       " 'A',\n",
       " 'A',\n",
       " 'A',\n",
       " 'A',\n",
       " 'A',\n",
       " 'A',\n",
       " 'A',\n",
       " 'A',\n",
       " 'A',\n",
       " 'A',\n",
       " 'A',\n",
       " 'A',\n",
       " 'A',\n",
       " 'A',\n",
       " 'A',\n",
       " 'A',\n",
       " 'A',\n",
       " 'A',\n",
       " 'A',\n",
       " 'A',\n",
       " 'A',\n",
       " 'A',\n",
       " 'A',\n",
       " 'A',\n",
       " 'A',\n",
       " 'A',\n",
       " 'A',\n",
       " 'A',\n",
       " 'A',\n",
       " 'A',\n",
       " 'A',\n",
       " 'A',\n",
       " 'A',\n",
       " 'A',\n",
       " 'A',\n",
       " 'A',\n",
       " 'A',\n",
       " 'A',\n",
       " 'A',\n",
       " 'A',\n",
       " 'A',\n",
       " 'A',\n",
       " 'A',\n",
       " 'A',\n",
       " 'A',\n",
       " 'A',\n",
       " 'A',\n",
       " 'A',\n",
       " 'A',\n",
       " 'A',\n",
       " 'A',\n",
       " 'A',\n",
       " 'A',\n",
       " 'A',\n",
       " 'A',\n",
       " 'A',\n",
       " 'A',\n",
       " 'A',\n",
       " 'A',\n",
       " 'A',\n",
       " 'A',\n",
       " 'A',\n",
       " 'A',\n",
       " 'A',\n",
       " 'A',\n",
       " 'A',\n",
       " 'A',\n",
       " 'A',\n",
       " 'A',\n",
       " 'A',\n",
       " 'A']"
      ]
     },
     "execution_count": 133,
     "metadata": {},
     "output_type": "execute_result"
    }
   ],
   "source": [
    "fn.f_clasificacion_ocurrencia(datos)"
   ]
  },
  {
   "cell_type": "markdown",
   "metadata": {},
   "source": [
    "<font size =3> <p style=\"text-align: justify;\"> Como se puede observar, son 89 escenarios mostrados, debido a que se hacen aproximadamente 8 comunicados al año. En el caso de este indicador, solo se hacen presentes dos de los cuatro posibles escenarios con nuestro indicador, en el que predomina por mucho el escenario **A**, siendo que el precio actual del indicador es igual o mayor que el esperado, e igual o mayor que el precio anterior; y el escenario **B** el que se muestra en tres ocasiones, en donde el precio actual del indicador fue mayor o igual al precio esperado, pero menor al precio anterior."
   ]
  },
  {
   "cell_type": "code",
   "execution_count": 134,
   "metadata": {
    "scrolled": false
   },
   "outputs": [],
   "source": [
    "time_delta = pd.to_timedelta('00:31:00')\n",
    "granularity = 'M1'\n",
    "instrument = \"EUR_USD\"\n",
    "oatk='107596e9d65c' + '1bbc9175953d917140' + '12-f975c6201dddad03ac1592232c0ea0ea'\n",
    "try:\n",
    "    # Si tenemos los datos ya descargados, los importamos.\n",
    "    datos_instrumento = pickle.load(open('precios.sav','rb'))\n",
    "except:\n",
    "    # Si no tenemos los datos descargados, los descargamos y los guardamos.\n",
    "    datos_instrumento = {i : fn.f_precios_masivos(i, i + time_delta, granularity, instrument, oatk,  p5_ginc=4900)\n",
    "                         for i in datos.datetime}\n",
    "    pickle.dump(datos_instrumento, open('precios.sav','wb'))\n",
    "#datos_instrumento[datos.datetime[0]]  # hay 89 DataFrames como ese. "
   ]
  },
  {
   "cell_type": "code",
   "execution_count": 135,
   "metadata": {},
   "outputs": [
    {
     "data": {
      "text/html": [
       "<div>\n",
       "<style scoped>\n",
       "    .dataframe tbody tr th:only-of-type {\n",
       "        vertical-align: middle;\n",
       "    }\n",
       "\n",
       "    .dataframe tbody tr th {\n",
       "        vertical-align: top;\n",
       "    }\n",
       "\n",
       "    .dataframe thead th {\n",
       "        text-align: right;\n",
       "    }\n",
       "</style>\n",
       "<table border=\"1\" class=\"dataframe\">\n",
       "  <thead>\n",
       "    <tr style=\"text-align: right;\">\n",
       "      <th></th>\n",
       "      <th>TimeStamp</th>\n",
       "      <th>Open</th>\n",
       "      <th>High</th>\n",
       "      <th>Low</th>\n",
       "      <th>Close</th>\n",
       "    </tr>\n",
       "  </thead>\n",
       "  <tbody>\n",
       "    <tr>\n",
       "      <th>0</th>\n",
       "      <td>2020-01-30 00:00:00+00:00</td>\n",
       "      <td>1.10138</td>\n",
       "      <td>1.10138</td>\n",
       "      <td>1.10136</td>\n",
       "      <td>1.10138</td>\n",
       "    </tr>\n",
       "    <tr>\n",
       "      <th>1</th>\n",
       "      <td>2020-01-30 00:01:00+00:00</td>\n",
       "      <td>1.10140</td>\n",
       "      <td>1.10142</td>\n",
       "      <td>1.10140</td>\n",
       "      <td>1.10140</td>\n",
       "    </tr>\n",
       "    <tr>\n",
       "      <th>2</th>\n",
       "      <td>2020-01-30 00:02:00+00:00</td>\n",
       "      <td>1.10142</td>\n",
       "      <td>1.10148</td>\n",
       "      <td>1.10142</td>\n",
       "      <td>1.10146</td>\n",
       "    </tr>\n",
       "    <tr>\n",
       "      <th>3</th>\n",
       "      <td>2020-01-30 00:03:00+00:00</td>\n",
       "      <td>1.10145</td>\n",
       "      <td>1.10145</td>\n",
       "      <td>1.10140</td>\n",
       "      <td>1.10140</td>\n",
       "    </tr>\n",
       "    <tr>\n",
       "      <th>4</th>\n",
       "      <td>2020-01-30 00:04:00+00:00</td>\n",
       "      <td>1.10138</td>\n",
       "      <td>1.10138</td>\n",
       "      <td>1.10132</td>\n",
       "      <td>1.10136</td>\n",
       "    </tr>\n",
       "    <tr>\n",
       "      <th>5</th>\n",
       "      <td>2020-01-30 00:05:00+00:00</td>\n",
       "      <td>1.10137</td>\n",
       "      <td>1.10137</td>\n",
       "      <td>1.10136</td>\n",
       "      <td>1.10136</td>\n",
       "    </tr>\n",
       "    <tr>\n",
       "      <th>6</th>\n",
       "      <td>2020-01-30 00:06:00+00:00</td>\n",
       "      <td>1.10138</td>\n",
       "      <td>1.10146</td>\n",
       "      <td>1.10138</td>\n",
       "      <td>1.10146</td>\n",
       "    </tr>\n",
       "    <tr>\n",
       "      <th>7</th>\n",
       "      <td>2020-01-30 00:07:00+00:00</td>\n",
       "      <td>1.10147</td>\n",
       "      <td>1.10148</td>\n",
       "      <td>1.10144</td>\n",
       "      <td>1.10144</td>\n",
       "    </tr>\n",
       "    <tr>\n",
       "      <th>8</th>\n",
       "      <td>2020-01-30 00:08:00+00:00</td>\n",
       "      <td>1.10146</td>\n",
       "      <td>1.10152</td>\n",
       "      <td>1.10146</td>\n",
       "      <td>1.10151</td>\n",
       "    </tr>\n",
       "    <tr>\n",
       "      <th>9</th>\n",
       "      <td>2020-01-30 00:09:00+00:00</td>\n",
       "      <td>1.10150</td>\n",
       "      <td>1.10150</td>\n",
       "      <td>1.10146</td>\n",
       "      <td>1.10148</td>\n",
       "    </tr>\n",
       "    <tr>\n",
       "      <th>10</th>\n",
       "      <td>2020-01-30 00:10:00+00:00</td>\n",
       "      <td>1.10147</td>\n",
       "      <td>1.10147</td>\n",
       "      <td>1.10146</td>\n",
       "      <td>1.10146</td>\n",
       "    </tr>\n",
       "    <tr>\n",
       "      <th>11</th>\n",
       "      <td>2020-01-30 00:11:00+00:00</td>\n",
       "      <td>1.10147</td>\n",
       "      <td>1.10147</td>\n",
       "      <td>1.10146</td>\n",
       "      <td>1.10146</td>\n",
       "    </tr>\n",
       "    <tr>\n",
       "      <th>12</th>\n",
       "      <td>2020-01-30 00:12:00+00:00</td>\n",
       "      <td>1.10147</td>\n",
       "      <td>1.10148</td>\n",
       "      <td>1.10146</td>\n",
       "      <td>1.10148</td>\n",
       "    </tr>\n",
       "    <tr>\n",
       "      <th>13</th>\n",
       "      <td>2020-01-30 00:13:00+00:00</td>\n",
       "      <td>1.10146</td>\n",
       "      <td>1.10146</td>\n",
       "      <td>1.10146</td>\n",
       "      <td>1.10146</td>\n",
       "    </tr>\n",
       "    <tr>\n",
       "      <th>14</th>\n",
       "      <td>2020-01-30 00:14:00+00:00</td>\n",
       "      <td>1.10145</td>\n",
       "      <td>1.10146</td>\n",
       "      <td>1.10144</td>\n",
       "      <td>1.10145</td>\n",
       "    </tr>\n",
       "    <tr>\n",
       "      <th>15</th>\n",
       "      <td>2020-01-30 00:15:00+00:00</td>\n",
       "      <td>1.10144</td>\n",
       "      <td>1.10144</td>\n",
       "      <td>1.10141</td>\n",
       "      <td>1.10142</td>\n",
       "    </tr>\n",
       "    <tr>\n",
       "      <th>16</th>\n",
       "      <td>2020-01-30 00:16:00+00:00</td>\n",
       "      <td>1.10141</td>\n",
       "      <td>1.10144</td>\n",
       "      <td>1.10141</td>\n",
       "      <td>1.10142</td>\n",
       "    </tr>\n",
       "    <tr>\n",
       "      <th>17</th>\n",
       "      <td>2020-01-30 00:17:00+00:00</td>\n",
       "      <td>1.10143</td>\n",
       "      <td>1.10144</td>\n",
       "      <td>1.10140</td>\n",
       "      <td>1.10140</td>\n",
       "    </tr>\n",
       "    <tr>\n",
       "      <th>18</th>\n",
       "      <td>2020-01-30 00:18:00+00:00</td>\n",
       "      <td>1.10142</td>\n",
       "      <td>1.10143</td>\n",
       "      <td>1.10140</td>\n",
       "      <td>1.10140</td>\n",
       "    </tr>\n",
       "    <tr>\n",
       "      <th>19</th>\n",
       "      <td>2020-01-30 00:19:00+00:00</td>\n",
       "      <td>1.10141</td>\n",
       "      <td>1.10141</td>\n",
       "      <td>1.10136</td>\n",
       "      <td>1.10136</td>\n",
       "    </tr>\n",
       "    <tr>\n",
       "      <th>20</th>\n",
       "      <td>2020-01-30 00:20:00+00:00</td>\n",
       "      <td>1.10138</td>\n",
       "      <td>1.10144</td>\n",
       "      <td>1.10136</td>\n",
       "      <td>1.10144</td>\n",
       "    </tr>\n",
       "    <tr>\n",
       "      <th>21</th>\n",
       "      <td>2020-01-30 00:21:00+00:00</td>\n",
       "      <td>1.10144</td>\n",
       "      <td>1.10150</td>\n",
       "      <td>1.10142</td>\n",
       "      <td>1.10150</td>\n",
       "    </tr>\n",
       "    <tr>\n",
       "      <th>22</th>\n",
       "      <td>2020-01-30 00:22:00+00:00</td>\n",
       "      <td>1.10149</td>\n",
       "      <td>1.10150</td>\n",
       "      <td>1.10149</td>\n",
       "      <td>1.10150</td>\n",
       "    </tr>\n",
       "    <tr>\n",
       "      <th>23</th>\n",
       "      <td>2020-01-30 00:24:00+00:00</td>\n",
       "      <td>1.10152</td>\n",
       "      <td>1.10154</td>\n",
       "      <td>1.10150</td>\n",
       "      <td>1.10150</td>\n",
       "    </tr>\n",
       "    <tr>\n",
       "      <th>24</th>\n",
       "      <td>2020-01-30 00:25:00+00:00</td>\n",
       "      <td>1.10150</td>\n",
       "      <td>1.10150</td>\n",
       "      <td>1.10140</td>\n",
       "      <td>1.10142</td>\n",
       "    </tr>\n",
       "    <tr>\n",
       "      <th>25</th>\n",
       "      <td>2020-01-30 00:26:00+00:00</td>\n",
       "      <td>1.10140</td>\n",
       "      <td>1.10144</td>\n",
       "      <td>1.10140</td>\n",
       "      <td>1.10144</td>\n",
       "    </tr>\n",
       "    <tr>\n",
       "      <th>26</th>\n",
       "      <td>2020-01-30 00:27:00+00:00</td>\n",
       "      <td>1.10144</td>\n",
       "      <td>1.10146</td>\n",
       "      <td>1.10142</td>\n",
       "      <td>1.10146</td>\n",
       "    </tr>\n",
       "    <tr>\n",
       "      <th>27</th>\n",
       "      <td>2020-01-30 00:28:00+00:00</td>\n",
       "      <td>1.10146</td>\n",
       "      <td>1.10148</td>\n",
       "      <td>1.10144</td>\n",
       "      <td>1.10145</td>\n",
       "    </tr>\n",
       "  </tbody>\n",
       "</table>\n",
       "</div>"
      ],
      "text/plain": [
       "                   TimeStamp     Open     High      Low    Close\n",
       "0  2020-01-30 00:00:00+00:00  1.10138  1.10138  1.10136  1.10138\n",
       "1  2020-01-30 00:01:00+00:00  1.10140  1.10142  1.10140  1.10140\n",
       "2  2020-01-30 00:02:00+00:00  1.10142  1.10148  1.10142  1.10146\n",
       "3  2020-01-30 00:03:00+00:00  1.10145  1.10145  1.10140  1.10140\n",
       "4  2020-01-30 00:04:00+00:00  1.10138  1.10138  1.10132  1.10136\n",
       "5  2020-01-30 00:05:00+00:00  1.10137  1.10137  1.10136  1.10136\n",
       "6  2020-01-30 00:06:00+00:00  1.10138  1.10146  1.10138  1.10146\n",
       "7  2020-01-30 00:07:00+00:00  1.10147  1.10148  1.10144  1.10144\n",
       "8  2020-01-30 00:08:00+00:00  1.10146  1.10152  1.10146  1.10151\n",
       "9  2020-01-30 00:09:00+00:00  1.10150  1.10150  1.10146  1.10148\n",
       "10 2020-01-30 00:10:00+00:00  1.10147  1.10147  1.10146  1.10146\n",
       "11 2020-01-30 00:11:00+00:00  1.10147  1.10147  1.10146  1.10146\n",
       "12 2020-01-30 00:12:00+00:00  1.10147  1.10148  1.10146  1.10148\n",
       "13 2020-01-30 00:13:00+00:00  1.10146  1.10146  1.10146  1.10146\n",
       "14 2020-01-30 00:14:00+00:00  1.10145  1.10146  1.10144  1.10145\n",
       "15 2020-01-30 00:15:00+00:00  1.10144  1.10144  1.10141  1.10142\n",
       "16 2020-01-30 00:16:00+00:00  1.10141  1.10144  1.10141  1.10142\n",
       "17 2020-01-30 00:17:00+00:00  1.10143  1.10144  1.10140  1.10140\n",
       "18 2020-01-30 00:18:00+00:00  1.10142  1.10143  1.10140  1.10140\n",
       "19 2020-01-30 00:19:00+00:00  1.10141  1.10141  1.10136  1.10136\n",
       "20 2020-01-30 00:20:00+00:00  1.10138  1.10144  1.10136  1.10144\n",
       "21 2020-01-30 00:21:00+00:00  1.10144  1.10150  1.10142  1.10150\n",
       "22 2020-01-30 00:22:00+00:00  1.10149  1.10150  1.10149  1.10150\n",
       "23 2020-01-30 00:24:00+00:00  1.10152  1.10154  1.10150  1.10150\n",
       "24 2020-01-30 00:25:00+00:00  1.10150  1.10150  1.10140  1.10142\n",
       "25 2020-01-30 00:26:00+00:00  1.10140  1.10144  1.10140  1.10144\n",
       "26 2020-01-30 00:27:00+00:00  1.10144  1.10146  1.10142  1.10146\n",
       "27 2020-01-30 00:28:00+00:00  1.10146  1.10148  1.10144  1.10145"
      ]
     },
     "execution_count": 135,
     "metadata": {},
     "output_type": "execute_result"
    }
   ],
   "source": [
    "datos_instrumento[datos.datetime[0]]"
   ]
  },
  {
   "cell_type": "markdown",
   "metadata": {},
   "source": [
    "<font size =3> <p style=\"text-align: justify;\"> A continuación, después de realizar la descarga de precios por los siguientes 30min posteriores al comunicado del indicador, se observa el dataframe con los escenarios del indicador. Incluyendo esta vez la *dirección*, siendo 1 si el precio de cierre es mayor o igual al precio de apertura y -1 si es menor el precio de cierre que el de apertura; *pips alcistas* y *pips bajistas* si hubo algún aumento o disminución de pips con respecto al precio de apertura; y *volatilidad* siendo estaa expresada en pips, el precio máximo en los 30min a analizar menos el precio mínimo de los 30min a analizar."
   ]
  },
  {
   "cell_type": "code",
   "execution_count": 136,
   "metadata": {},
   "outputs": [
    {
     "data": {
      "text/html": [
       "<div>\n",
       "<style scoped>\n",
       "    .dataframe tbody tr th:only-of-type {\n",
       "        vertical-align: middle;\n",
       "    }\n",
       "\n",
       "    .dataframe tbody tr th {\n",
       "        vertical-align: top;\n",
       "    }\n",
       "\n",
       "    .dataframe thead th {\n",
       "        text-align: right;\n",
       "    }\n",
       "</style>\n",
       "<table border=\"1\" class=\"dataframe\">\n",
       "  <thead>\n",
       "    <tr style=\"text-align: right;\">\n",
       "      <th></th>\n",
       "      <th>escenario</th>\n",
       "      <th>direccion</th>\n",
       "      <th>pips_alcistas</th>\n",
       "      <th>pips_bajistas</th>\n",
       "      <th>volatilidad</th>\n",
       "    </tr>\n",
       "  </thead>\n",
       "  <tbody>\n",
       "    <tr>\n",
       "      <th>2020-01-29 19:00:00</th>\n",
       "      <td>A</td>\n",
       "      <td>1</td>\n",
       "      <td>1.6</td>\n",
       "      <td>0.6</td>\n",
       "      <td>2.2</td>\n",
       "    </tr>\n",
       "    <tr>\n",
       "      <th>2019-12-11 19:00:00</th>\n",
       "      <td>A</td>\n",
       "      <td>1</td>\n",
       "      <td>3.5</td>\n",
       "      <td>1.2</td>\n",
       "      <td>4.7</td>\n",
       "    </tr>\n",
       "    <tr>\n",
       "      <th>2019-10-30 18:00:00</th>\n",
       "      <td>B</td>\n",
       "      <td>1</td>\n",
       "      <td>2.0</td>\n",
       "      <td>0.1</td>\n",
       "      <td>2.1</td>\n",
       "    </tr>\n",
       "    <tr>\n",
       "      <th>2019-09-18 18:00:00</th>\n",
       "      <td>B</td>\n",
       "      <td>-1</td>\n",
       "      <td>1.1</td>\n",
       "      <td>2.2</td>\n",
       "      <td>3.3</td>\n",
       "    </tr>\n",
       "    <tr>\n",
       "      <th>2019-07-31 18:00:00</th>\n",
       "      <td>B</td>\n",
       "      <td>1</td>\n",
       "      <td>5.7</td>\n",
       "      <td>0.0</td>\n",
       "      <td>5.7</td>\n",
       "    </tr>\n",
       "    <tr>\n",
       "      <th>...</th>\n",
       "      <td>...</td>\n",
       "      <td>...</td>\n",
       "      <td>...</td>\n",
       "      <td>...</td>\n",
       "      <td>...</td>\n",
       "    </tr>\n",
       "    <tr>\n",
       "      <th>2009-08-12 18:15:00</th>\n",
       "      <td>A</td>\n",
       "      <td>1</td>\n",
       "      <td>1.6</td>\n",
       "      <td>2.3</td>\n",
       "      <td>3.9</td>\n",
       "    </tr>\n",
       "    <tr>\n",
       "      <th>2009-06-24 18:15:00</th>\n",
       "      <td>A</td>\n",
       "      <td>1</td>\n",
       "      <td>10.2</td>\n",
       "      <td>6.5</td>\n",
       "      <td>16.7</td>\n",
       "    </tr>\n",
       "    <tr>\n",
       "      <th>2009-04-29 18:15:00</th>\n",
       "      <td>A</td>\n",
       "      <td>1</td>\n",
       "      <td>6.0</td>\n",
       "      <td>5.7</td>\n",
       "      <td>11.7</td>\n",
       "    </tr>\n",
       "    <tr>\n",
       "      <th>2009-03-18 18:15:00</th>\n",
       "      <td>A</td>\n",
       "      <td>-1</td>\n",
       "      <td>8.5</td>\n",
       "      <td>14.6</td>\n",
       "      <td>23.1</td>\n",
       "    </tr>\n",
       "    <tr>\n",
       "      <th>2009-01-28 19:15:00</th>\n",
       "      <td>A</td>\n",
       "      <td>-1</td>\n",
       "      <td>9.6</td>\n",
       "      <td>21.6</td>\n",
       "      <td>31.2</td>\n",
       "    </tr>\n",
       "  </tbody>\n",
       "</table>\n",
       "<p>89 rows × 5 columns</p>\n",
       "</div>"
      ],
      "text/plain": [
       "                    escenario  direccion  pips_alcistas  pips_bajistas  \\\n",
       "2020-01-29 19:00:00         A          1            1.6            0.6   \n",
       "2019-12-11 19:00:00         A          1            3.5            1.2   \n",
       "2019-10-30 18:00:00         B          1            2.0            0.1   \n",
       "2019-09-18 18:00:00         B         -1            1.1            2.2   \n",
       "2019-07-31 18:00:00         B          1            5.7            0.0   \n",
       "...                       ...        ...            ...            ...   \n",
       "2009-08-12 18:15:00         A          1            1.6            2.3   \n",
       "2009-06-24 18:15:00         A          1           10.2            6.5   \n",
       "2009-04-29 18:15:00         A          1            6.0            5.7   \n",
       "2009-03-18 18:15:00         A         -1            8.5           14.6   \n",
       "2009-01-28 19:15:00         A         -1            9.6           21.6   \n",
       "\n",
       "                     volatilidad  \n",
       "2020-01-29 19:00:00          2.2  \n",
       "2019-12-11 19:00:00          4.7  \n",
       "2019-10-30 18:00:00          2.1  \n",
       "2019-09-18 18:00:00          3.3  \n",
       "2019-07-31 18:00:00          5.7  \n",
       "...                          ...  \n",
       "2009-08-12 18:15:00          3.9  \n",
       "2009-06-24 18:15:00         16.7  \n",
       "2009-04-29 18:15:00         11.7  \n",
       "2009-03-18 18:15:00         23.1  \n",
       "2009-01-28 19:15:00         31.2  \n",
       "\n",
       "[89 rows x 5 columns]"
      ]
     },
     "execution_count": 136,
     "metadata": {},
     "output_type": "execute_result"
    }
   ],
   "source": [
    "df_escenarios = fn.f_df_escenarios(datos_instrumento, clasificacion)\n",
    "df_escenarios"
   ]
  },
  {
   "cell_type": "markdown",
   "metadata": {},
   "source": [
    "# Backtesting"
   ]
  },
  {
   "cell_type": "markdown",
   "metadata": {},
   "source": [
    "<font size =3> <p style=\"text-align: justify;\"> El *backtesting* es la metodología que se utiliza para verificar la eficiencia y resultados de un modelo en particular. Después de haber realizado la propuesta de trading, se realiza una corrida, en donde el código realiza los movimientos hipotéticos de compra o venta con las especificaciones dadas, mostrando así, cuales hubiesen sido los resultados en capital acumulado si nuestra regla de trading hubiese sido aplicada desde el 2009 hasta el 2020."
   ]
  },
  {
   "cell_type": "markdown",
   "metadata": {},
   "source": [
    "<font size =3> <p style=\"text-align: justify;\"> Considerando un capital inicial de \\\\$100,000 USD, un riesgo máximo de \\\\$1,000 USD, siendo el 1% del capital inicial, se muestra a continuación el dataframe que indica el tipo de operación a ejecutar (si compra o venta), el stop loss, take profit y volumen de la operación expresada en unidades, para el caso de cada uno de los escenarios."
   ]
  },
  {
   "cell_type": "code",
   "execution_count": 137,
   "metadata": {},
   "outputs": [
    {
     "data": {
      "text/html": [
       "<div>\n",
       "<style scoped>\n",
       "    .dataframe tbody tr th:only-of-type {\n",
       "        vertical-align: middle;\n",
       "    }\n",
       "\n",
       "    .dataframe tbody tr th {\n",
       "        vertical-align: top;\n",
       "    }\n",
       "\n",
       "    .dataframe thead th {\n",
       "        text-align: right;\n",
       "    }\n",
       "</style>\n",
       "<table border=\"1\" class=\"dataframe\">\n",
       "  <thead>\n",
       "    <tr style=\"text-align: right;\">\n",
       "      <th></th>\n",
       "      <th>operacion</th>\n",
       "      <th>StopLoss</th>\n",
       "      <th>TakeProfit</th>\n",
       "      <th>Volume</th>\n",
       "    </tr>\n",
       "  </thead>\n",
       "  <tbody>\n",
       "    <tr>\n",
       "      <th>A</th>\n",
       "      <td>compra</td>\n",
       "      <td>10</td>\n",
       "      <td>25</td>\n",
       "      <td>10000</td>\n",
       "    </tr>\n",
       "    <tr>\n",
       "      <th>B</th>\n",
       "      <td>compra</td>\n",
       "      <td>10</td>\n",
       "      <td>25</td>\n",
       "      <td>10000</td>\n",
       "    </tr>\n",
       "    <tr>\n",
       "      <th>C</th>\n",
       "      <td>compra</td>\n",
       "      <td>10</td>\n",
       "      <td>25</td>\n",
       "      <td>10000</td>\n",
       "    </tr>\n",
       "    <tr>\n",
       "      <th>D</th>\n",
       "      <td>venta</td>\n",
       "      <td>10</td>\n",
       "      <td>30</td>\n",
       "      <td>100000</td>\n",
       "    </tr>\n",
       "  </tbody>\n",
       "</table>\n",
       "</div>"
      ],
      "text/plain": [
       "  operacion  StopLoss  TakeProfit  Volume\n",
       "A    compra        10          25   10000\n",
       "B    compra        10          25   10000\n",
       "C    compra        10          25   10000\n",
       "D     venta        10          30  100000"
      ]
     },
     "execution_count": 137,
     "metadata": {},
     "output_type": "execute_result"
    }
   ],
   "source": [
    "df_decisiones = pd.DataFrame(data = [['compra',10,25, 10000],['compra', 10, 25, 10000],['compra',10,25, 10000],['venta', 10, 30, 100000]],\n",
    "                            index = ['A', 'B', 'C', 'D'], columns = ['operacion', 'StopLoss', 'TakeProfit', 'Volume'])\n",
    "df_decisiones"
   ]
  },
  {
   "cell_type": "markdown",
   "metadata": {},
   "source": [
    "<font size =3> <p style=\"text-align: justify;\"> Tomando en cuenta los parámetros mostrados anteriormente, se realiza el *backtesting*, mostrando a continuación un dataframe en donde se muestra el resultado de lo que hubiera sido la operativa de la cuenta, utilizando las reglas anteriores, en los escenarios presentados durante el período de 2009 al 2020, siendo así que únicamente se presentaron escenarios A en su mayoría, y unos escasos tres escenarios B."
   ]
  },
  {
   "cell_type": "code",
   "execution_count": 138,
   "metadata": {},
   "outputs": [
    {
     "data": {
      "text/html": [
       "<div>\n",
       "<style scoped>\n",
       "    .dataframe tbody tr th:only-of-type {\n",
       "        vertical-align: middle;\n",
       "    }\n",
       "\n",
       "    .dataframe tbody tr th {\n",
       "        vertical-align: top;\n",
       "    }\n",
       "\n",
       "    .dataframe thead th {\n",
       "        text-align: right;\n",
       "    }\n",
       "</style>\n",
       "<table border=\"1\" class=\"dataframe\">\n",
       "  <thead>\n",
       "    <tr style=\"text-align: right;\">\n",
       "      <th></th>\n",
       "      <th>escenario</th>\n",
       "      <th>operacion</th>\n",
       "      <th>volumen</th>\n",
       "      <th>resultado</th>\n",
       "      <th>pips</th>\n",
       "      <th>capital</th>\n",
       "      <th>capital acumulado</th>\n",
       "    </tr>\n",
       "  </thead>\n",
       "  <tbody>\n",
       "    <tr>\n",
       "      <th>2020-01-29 19:00:00</th>\n",
       "      <td>A</td>\n",
       "      <td>compra</td>\n",
       "      <td>10000</td>\n",
       "      <td>Gain</td>\n",
       "      <td>0.7</td>\n",
       "      <td>70.0</td>\n",
       "      <td>101220.0</td>\n",
       "    </tr>\n",
       "    <tr>\n",
       "      <th>2019-12-11 19:00:00</th>\n",
       "      <td>A</td>\n",
       "      <td>compra</td>\n",
       "      <td>10000</td>\n",
       "      <td>Gain</td>\n",
       "      <td>3.0</td>\n",
       "      <td>300.0</td>\n",
       "      <td>101150.0</td>\n",
       "    </tr>\n",
       "    <tr>\n",
       "      <th>2019-10-30 18:00:00</th>\n",
       "      <td>B</td>\n",
       "      <td>compra</td>\n",
       "      <td>10000</td>\n",
       "      <td>Gain</td>\n",
       "      <td>0.2</td>\n",
       "      <td>20.0</td>\n",
       "      <td>100850.0</td>\n",
       "    </tr>\n",
       "    <tr>\n",
       "      <th>2019-09-18 18:00:00</th>\n",
       "      <td>B</td>\n",
       "      <td>compra</td>\n",
       "      <td>10000</td>\n",
       "      <td>Loss</td>\n",
       "      <td>-2.2</td>\n",
       "      <td>-220.0</td>\n",
       "      <td>100830.0</td>\n",
       "    </tr>\n",
       "    <tr>\n",
       "      <th>2019-07-31 18:00:00</th>\n",
       "      <td>B</td>\n",
       "      <td>compra</td>\n",
       "      <td>10000</td>\n",
       "      <td>Gain</td>\n",
       "      <td>3.1</td>\n",
       "      <td>310.0</td>\n",
       "      <td>101050.0</td>\n",
       "    </tr>\n",
       "    <tr>\n",
       "      <th>...</th>\n",
       "      <td>...</td>\n",
       "      <td>...</td>\n",
       "      <td>...</td>\n",
       "      <td>...</td>\n",
       "      <td>...</td>\n",
       "      <td>...</td>\n",
       "      <td>...</td>\n",
       "    </tr>\n",
       "    <tr>\n",
       "      <th>2009-08-12 18:15:00</th>\n",
       "      <td>A</td>\n",
       "      <td>compra</td>\n",
       "      <td>10000</td>\n",
       "      <td>Gain</td>\n",
       "      <td>1.6</td>\n",
       "      <td>160.0</td>\n",
       "      <td>98950.0</td>\n",
       "    </tr>\n",
       "    <tr>\n",
       "      <th>2009-06-24 18:15:00</th>\n",
       "      <td>A</td>\n",
       "      <td>compra</td>\n",
       "      <td>10000</td>\n",
       "      <td>Gain</td>\n",
       "      <td>4.1</td>\n",
       "      <td>410.0</td>\n",
       "      <td>98790.0</td>\n",
       "    </tr>\n",
       "    <tr>\n",
       "      <th>2009-04-29 18:15:00</th>\n",
       "      <td>A</td>\n",
       "      <td>compra</td>\n",
       "      <td>10000</td>\n",
       "      <td>Gain</td>\n",
       "      <td>3.8</td>\n",
       "      <td>380.0</td>\n",
       "      <td>98380.0</td>\n",
       "    </tr>\n",
       "    <tr>\n",
       "      <th>2009-03-18 18:15:00</th>\n",
       "      <td>A</td>\n",
       "      <td>compra</td>\n",
       "      <td>10000</td>\n",
       "      <td>Loss</td>\n",
       "      <td>-10.0</td>\n",
       "      <td>-1000.0</td>\n",
       "      <td>98000.0</td>\n",
       "    </tr>\n",
       "    <tr>\n",
       "      <th>2009-01-28 19:15:00</th>\n",
       "      <td>A</td>\n",
       "      <td>compra</td>\n",
       "      <td>10000</td>\n",
       "      <td>Loss</td>\n",
       "      <td>-10.0</td>\n",
       "      <td>-1000.0</td>\n",
       "      <td>99000.0</td>\n",
       "    </tr>\n",
       "  </tbody>\n",
       "</table>\n",
       "<p>89 rows × 7 columns</p>\n",
       "</div>"
      ],
      "text/plain": [
       "                    escenario operacion  volumen resultado  pips  capital  \\\n",
       "2020-01-29 19:00:00         A    compra    10000      Gain   0.7     70.0   \n",
       "2019-12-11 19:00:00         A    compra    10000      Gain   3.0    300.0   \n",
       "2019-10-30 18:00:00         B    compra    10000      Gain   0.2     20.0   \n",
       "2019-09-18 18:00:00         B    compra    10000      Loss  -2.2   -220.0   \n",
       "2019-07-31 18:00:00         B    compra    10000      Gain   3.1    310.0   \n",
       "...                       ...       ...      ...       ...   ...      ...   \n",
       "2009-08-12 18:15:00         A    compra    10000      Gain   1.6    160.0   \n",
       "2009-06-24 18:15:00         A    compra    10000      Gain   4.1    410.0   \n",
       "2009-04-29 18:15:00         A    compra    10000      Gain   3.8    380.0   \n",
       "2009-03-18 18:15:00         A    compra    10000      Loss -10.0  -1000.0   \n",
       "2009-01-28 19:15:00         A    compra    10000      Loss -10.0  -1000.0   \n",
       "\n",
       "                     capital acumulado  \n",
       "2020-01-29 19:00:00           101220.0  \n",
       "2019-12-11 19:00:00           101150.0  \n",
       "2019-10-30 18:00:00           100850.0  \n",
       "2019-09-18 18:00:00           100830.0  \n",
       "2019-07-31 18:00:00           101050.0  \n",
       "...                                ...  \n",
       "2009-08-12 18:15:00            98950.0  \n",
       "2009-06-24 18:15:00            98790.0  \n",
       "2009-04-29 18:15:00            98380.0  \n",
       "2009-03-18 18:15:00            98000.0  \n",
       "2009-01-28 19:15:00            99000.0  \n",
       "\n",
       "[89 rows x 7 columns]"
      ]
     },
     "execution_count": 138,
     "metadata": {},
     "output_type": "execute_result"
    }
   ],
   "source": [
    "df_backtest = fn.f_df_backtest(datos_instrumento, clasificacion, df_decisiones)\n",
    "df_backtest"
   ]
  },
  {
   "cell_type": "markdown",
   "metadata": {},
   "source": [
    "## Gráfica de convergencia"
   ]
  },
  {
   "cell_type": "markdown",
   "metadata": {},
   "source": [
    "<font size =3> Como se muestra a continuación, se fueron guardando los resultados de cada vez que se realizaba la prueba de configuración distinta de parámetros y su resultado, creando esta gráfica de convergencia en donde, como se muestra, el eje *x* es el número de iteraciones que se realizaron y el eje *y* el valor de la métrica de desempeño Sharpe."
   ]
  },
  {
   "cell_type": "code",
   "execution_count": 139,
   "metadata": {},
   "outputs": [
    {
     "ename": "NameError",
     "evalue": "name 'hist_sharpe' is not defined",
     "output_type": "error",
     "traceback": [
      "\u001b[1;31m---------------------------------------------------------------------------\u001b[0m",
      "\u001b[1;31mNameError\u001b[0m                                 Traceback (most recent call last)",
      "\u001b[1;32m<ipython-input-139-409a72ee0aeb>\u001b[0m in \u001b[0;36m<module>\u001b[1;34m\u001b[0m\n\u001b[1;32m----> 1\u001b[1;33m \u001b[0mvn\u001b[0m\u001b[1;33m.\u001b[0m\u001b[0mv_hist_sharpe\u001b[0m\u001b[1;33m(\u001b[0m\u001b[0mhist_sharpe\u001b[0m\u001b[1;33m)\u001b[0m\u001b[1;33m\u001b[0m\u001b[1;33m\u001b[0m\u001b[0m\n\u001b[0m",
      "\u001b[1;31mNameError\u001b[0m: name 'hist_sharpe' is not defined"
     ]
    }
   ],
   "source": [
    "vn.v_hist_sharpe(hist_sharpe)"
   ]
  },
  {
   "cell_type": "markdown",
   "metadata": {},
   "source": [
    "## Capital acumulado backtest"
   ]
  },
  {
   "cell_type": "markdown",
   "metadata": {},
   "source": [
    "<font size =3> Aplicando las reglas para la toma de decisiones, se muestra a continuación la gráfica de la evolución del capital en el período de backtesting, tomando en cuenta que se utilizarían las reglas propuestas durante todo el período del indicador, obteniendo así ganancias de más de mil USD."
   ]
  },
  {
   "cell_type": "code",
   "execution_count": 45,
   "metadata": {},
   "outputs": [
    {
     "data": {
      "image/png": "[encoded data removed]",
      "text/plain": [
       "<Figure size 432x288 with 1 Axes>"
      ]
     },
     "metadata": {
      "needs_background": "light"
     },
     "output_type": "display_data"
    }
   ],
   "source": [
    "vn.capital_backtest(df_backtest)"
   ]
  },
  {
   "cell_type": "markdown",
   "metadata": {},
   "source": [
    "# Optimización de la estrategia de trading"
   ]
  },
  {
   "cell_type": "markdown",
   "metadata": {},
   "source": [
    "<font size =3> Para optimizar los resultados mostrados anteriormente, primero se espera separar los datos a analizar en períodos de entrenamiento y de prueba, en donde en el entrenamiento se probaran el 70% de los datos totales"
   ]
  },
  {
   "cell_type": "code",
   "execution_count": 46,
   "metadata": {},
   "outputs": [],
   "source": [
    "# Separar datos para train/Test\n",
    "training_ratio = 0.9 # Entrenamos el 70 % de los datos.\n",
    "train_data_timestamps = datos[round(len(datos_instrumento)*(1-training_ratio)):].datetime\n",
    "test_data_timestamps = datos[0:round(len(datos_instrumento)*(1-training_ratio))].datetime\n",
    "\n",
    "training_data = { i: datos_instrumento[i] for i in train_data_timestamps }\n",
    "testing_data = { i: datos_instrumento[i] for i in test_data_timestamps }\n",
    "\n",
    "training_clasification = fn.f_clasificacion_ocurrencia(datos[round(len(datos_instrumento)*(1-training_ratio)):])\n",
    "testing_clasification = fn.f_clasificacion_ocurrencia(datos[:round(len(datos_instrumento)*(1-training_ratio))])\n"
   ]
  },
  {
   "cell_type": "markdown",
   "metadata": {},
   "source": [
    "<font size =3> <p style=\"text-align: justify;\"> Después de haber hecho la clasificación de los datos en entrenamiento y prueba, se realiza la optimización haciendo uso de métodos de inteligencia artificial, como lo son los **algoritmos genéticos**, el cual es un algoritmo inspirado en la evolución biológica y genético-molecular. Haciendo evolucionar una población de individuos sometiéndola a acciones aleatorias como mutaciones y recombinaciones genéticas, haciendo una selección de los \"mejores\" hijos como resultado según el criterio especificado. "
   ]
  },
  {
   "cell_type": "code",
   "execution_count": 47,
   "metadata": {
    "scrolled": true
   },
   "outputs": [],
   "source": [
    "# Optimización de ratio de Sharpe usando algorítmo genético creado manualmente\n",
    "train_data = [training_data, training_clasification]\n",
    "filename = 'genetico2.sav'\n",
    "\n",
    "# optimización de periodo de training.\n",
    "# EN CASO DE QUE NO EXISTA GENETICO.SAV, EJECUTAR LA SIGUIENTE LINEA:\n",
    "#[punt,padres,hist_mean,hist_std,hist_sharpe,hist_padres] = gen(train_data, filename = filename)\n",
    "[padres,hist_mean,hist_std,hist_sharpe,hist_padres] = pickle.load(open(filename,'rb'))"
   ]
  },
  {
   "cell_type": "markdown",
   "metadata": {},
   "source": [
    "<font size =3> <p style=\"text-align: justify;\"> Los resultados del algorítmo genético se guardan en un archivo binario '.sav' una vez que se tienen todos los resultados. De esta forma no es necesario tener que correr todo el algorítmo genético cada vez de que se corre este archivo. Una vez se tienen los resultados propuestos por el Algorítmo genético procedemos a probarlo y ver como este se comportó con los datos de entrenamiento y con los datos de prueba. "
   ]
  },
  {
   "cell_type": "code",
   "execution_count": 48,
   "metadata": {},
   "outputs": [
    {
     "name": "stdout",
     "output_type": "stream",
     "text": [
      "  operacion  StopLoss  TakeProfit  Volume\n",
      "A     venta       1.0        41.0  2362.0\n"
     ]
    }
   ],
   "source": [
    "seleccionado = padres[-1]\n",
    "seleccionado\n",
    "df_decisiones = pd.DataFrame(data = [seleccionado],\n",
    "                            index = ['A'],\n",
    "                            columns = ['operacion', 'StopLoss', 'TakeProfit', 'Volume'])\n",
    "df_decisiones['operacion'][df_decisiones['operacion']==1] = 'compra'\n",
    "df_decisiones['operacion'][df_decisiones['operacion']==0] = 'venta'\n",
    "print(df_decisiones)"
   ]
  },
  {
   "cell_type": "markdown",
   "metadata": {},
   "source": [
    "<font size =3> <p style=\"text-align: justify;\"> Las restricciones que se instauraron al algorítmo genético fueron:\n",
    "> - **Operación**: Binario ; 1 = 'compra', 0 = 'venta'\n",
    "> - **StopLoss**: Int ; [1, 42] (El máximo de pips alcistas en todo momento fue de 21, mientras que de pips bajistas fue de 41.5. Se decidió establecer como límite 42, básicamente este punto implica que no se pretende establecer ningún  Stop loss (debido a que nunca se llegó a presentar uno de ellos), del mismo modo, se establece el 1 como límite inferior considerando que es el spread que cobraría nuestro broker. \n",
    "> - **TakeProfit**: Mismos límites que en StopLoss.\n",
    "> - **Volumen**: Int : [1, 2380] ante la premisa de que la mayor cantidad de perdida que podríamos presentar es de 1000usd, así como que el peor de los escenarios nos da una perdida de 42 pips, entonces nuestro máximo volúmen es de 2380 unidades por transacción.\n",
    "\n",
    "<font size =3> <p style=\"text-align: justify;\"> Una vez que se tienen todas las restricciones y corremos el algorítmo genético encontramos que se sugiere ponerse en corto en todo momento, si las cosas salen mal y el precio sube (en cualquier momento del tiempo) se deberá cortar la operación, de otra forma, dejaremos libre la posición hasta que se cumpla el tiempo instaurado inicialmente (en este caso, 30min.). Notese que prácticamente se subiere utilizar el máximo de nuestra operación.\n",
    "\n",
    "Parece ser una estrategia bastante sólida, los resultados se muestran a continuación."
   ]
  },
  {
   "cell_type": "code",
   "execution_count": 41,
   "metadata": {},
   "outputs": [
    {
     "data": {
      "text/html": [
       "<div>\n",
       "<style scoped>\n",
       "    .dataframe tbody tr th:only-of-type {\n",
       "        vertical-align: middle;\n",
       "    }\n",
       "\n",
       "    .dataframe tbody tr th {\n",
       "        vertical-align: top;\n",
       "    }\n",
       "\n",
       "    .dataframe thead th {\n",
       "        text-align: right;\n",
       "    }\n",
       "</style>\n",
       "<table border=\"1\" class=\"dataframe\">\n",
       "  <thead>\n",
       "    <tr style=\"text-align: right;\">\n",
       "      <th></th>\n",
       "      <th>escenario</th>\n",
       "      <th>operacion</th>\n",
       "      <th>volumen</th>\n",
       "      <th>resultado</th>\n",
       "      <th>pips</th>\n",
       "      <th>capital</th>\n",
       "      <th>capital acumulado</th>\n",
       "    </tr>\n",
       "  </thead>\n",
       "  <tbody>\n",
       "    <tr>\n",
       "      <th>2018-12-19 19:00:00</th>\n",
       "      <td>A</td>\n",
       "      <td>venta</td>\n",
       "      <td>2372.0</td>\n",
       "      <td>Gain</td>\n",
       "      <td>41.0</td>\n",
       "      <td>972.52</td>\n",
       "      <td>156337.372</td>\n",
       "    </tr>\n",
       "    <tr>\n",
       "      <th>2018-11-08 19:00:00</th>\n",
       "      <td>A</td>\n",
       "      <td>venta</td>\n",
       "      <td>2372.0</td>\n",
       "      <td>Gain</td>\n",
       "      <td>41.0</td>\n",
       "      <td>972.52</td>\n",
       "      <td>155364.852</td>\n",
       "    </tr>\n",
       "    <tr>\n",
       "      <th>2018-09-26 18:00:00</th>\n",
       "      <td>A</td>\n",
       "      <td>venta</td>\n",
       "      <td>2372.0</td>\n",
       "      <td>Gain</td>\n",
       "      <td>41.0</td>\n",
       "      <td>972.52</td>\n",
       "      <td>154392.332</td>\n",
       "    </tr>\n",
       "    <tr>\n",
       "      <th>2018-08-01 18:00:00</th>\n",
       "      <td>A</td>\n",
       "      <td>venta</td>\n",
       "      <td>2372.0</td>\n",
       "      <td>Loss</td>\n",
       "      <td>-2.0</td>\n",
       "      <td>-47.44</td>\n",
       "      <td>153419.812</td>\n",
       "    </tr>\n",
       "    <tr>\n",
       "      <th>2018-06-13 18:00:00</th>\n",
       "      <td>A</td>\n",
       "      <td>venta</td>\n",
       "      <td>2372.0</td>\n",
       "      <td>Gain</td>\n",
       "      <td>41.0</td>\n",
       "      <td>972.52</td>\n",
       "      <td>153467.252</td>\n",
       "    </tr>\n",
       "    <tr>\n",
       "      <th>...</th>\n",
       "      <td>...</td>\n",
       "      <td>...</td>\n",
       "      <td>...</td>\n",
       "      <td>...</td>\n",
       "      <td>...</td>\n",
       "      <td>...</td>\n",
       "      <td>...</td>\n",
       "    </tr>\n",
       "    <tr>\n",
       "      <th>2009-08-12 18:15:00</th>\n",
       "      <td>A</td>\n",
       "      <td>venta</td>\n",
       "      <td>2372.0</td>\n",
       "      <td>Gain</td>\n",
       "      <td>41.0</td>\n",
       "      <td>972.52</td>\n",
       "      <td>104862.600</td>\n",
       "    </tr>\n",
       "    <tr>\n",
       "      <th>2009-06-24 18:15:00</th>\n",
       "      <td>A</td>\n",
       "      <td>venta</td>\n",
       "      <td>2372.0</td>\n",
       "      <td>Gain</td>\n",
       "      <td>41.0</td>\n",
       "      <td>972.52</td>\n",
       "      <td>103890.080</td>\n",
       "    </tr>\n",
       "    <tr>\n",
       "      <th>2009-04-29 18:15:00</th>\n",
       "      <td>A</td>\n",
       "      <td>venta</td>\n",
       "      <td>2372.0</td>\n",
       "      <td>Gain</td>\n",
       "      <td>41.0</td>\n",
       "      <td>972.52</td>\n",
       "      <td>102917.560</td>\n",
       "    </tr>\n",
       "    <tr>\n",
       "      <th>2009-03-18 18:15:00</th>\n",
       "      <td>A</td>\n",
       "      <td>venta</td>\n",
       "      <td>2372.0</td>\n",
       "      <td>Gain</td>\n",
       "      <td>41.0</td>\n",
       "      <td>972.52</td>\n",
       "      <td>101945.040</td>\n",
       "    </tr>\n",
       "    <tr>\n",
       "      <th>2009-01-28 19:15:00</th>\n",
       "      <td>A</td>\n",
       "      <td>venta</td>\n",
       "      <td>2372.0</td>\n",
       "      <td>Gain</td>\n",
       "      <td>41.0</td>\n",
       "      <td>972.52</td>\n",
       "      <td>100972.520</td>\n",
       "    </tr>\n",
       "  </tbody>\n",
       "</table>\n",
       "<p>80 rows × 7 columns</p>\n",
       "</div>"
      ],
      "text/plain": [
       "                    escenario operacion  volumen resultado  pips  capital  \\\n",
       "2018-12-19 19:00:00         A     venta   2372.0      Gain  41.0   972.52   \n",
       "2018-11-08 19:00:00         A     venta   2372.0      Gain  41.0   972.52   \n",
       "2018-09-26 18:00:00         A     venta   2372.0      Gain  41.0   972.52   \n",
       "2018-08-01 18:00:00         A     venta   2372.0      Loss  -2.0   -47.44   \n",
       "2018-06-13 18:00:00         A     venta   2372.0      Gain  41.0   972.52   \n",
       "...                       ...       ...      ...       ...   ...      ...   \n",
       "2009-08-12 18:15:00         A     venta   2372.0      Gain  41.0   972.52   \n",
       "2009-06-24 18:15:00         A     venta   2372.0      Gain  41.0   972.52   \n",
       "2009-04-29 18:15:00         A     venta   2372.0      Gain  41.0   972.52   \n",
       "2009-03-18 18:15:00         A     venta   2372.0      Gain  41.0   972.52   \n",
       "2009-01-28 19:15:00         A     venta   2372.0      Gain  41.0   972.52   \n",
       "\n",
       "                     capital acumulado  \n",
       "2018-12-19 19:00:00         156337.372  \n",
       "2018-11-08 19:00:00         155364.852  \n",
       "2018-09-26 18:00:00         154392.332  \n",
       "2018-08-01 18:00:00         153419.812  \n",
       "2018-06-13 18:00:00         153467.252  \n",
       "...                                ...  \n",
       "2009-08-12 18:15:00         104862.600  \n",
       "2009-06-24 18:15:00         103890.080  \n",
       "2009-04-29 18:15:00         102917.560  \n",
       "2009-03-18 18:15:00         101945.040  \n",
       "2009-01-28 19:15:00         100972.520  \n",
       "\n",
       "[80 rows x 7 columns]"
      ]
     },
     "execution_count": 41,
     "metadata": {},
     "output_type": "execute_result"
    }
   ],
   "source": [
    "df_entrenamiento = fn.f_df_backtest(training_data, training_clasification, df_decisiones)\n",
    "df_entrenamiento"
   ]
  },
  {
   "cell_type": "code",
   "execution_count": 42,
   "metadata": {},
   "outputs": [
    {
     "data": {
      "image/png": "[encoded data removed]",
      "text/plain": [
       "<Figure size 432x288 with 1 Axes>"
      ]
     },
     "metadata": {
      "needs_background": "light"
     },
     "output_type": "display_data"
    }
   ],
   "source": [
    "vn.capital_entrenamiento(df_entrenamiento)"
   ]
  },
  {
   "cell_type": "code",
   "execution_count": 43,
   "metadata": {},
   "outputs": [
    {
     "data": {
      "text/html": [
       "<div>\n",
       "<style scoped>\n",
       "    .dataframe tbody tr th:only-of-type {\n",
       "        vertical-align: middle;\n",
       "    }\n",
       "\n",
       "    .dataframe tbody tr th {\n",
       "        vertical-align: top;\n",
       "    }\n",
       "\n",
       "    .dataframe thead th {\n",
       "        text-align: right;\n",
       "    }\n",
       "</style>\n",
       "<table border=\"1\" class=\"dataframe\">\n",
       "  <thead>\n",
       "    <tr style=\"text-align: right;\">\n",
       "      <th></th>\n",
       "      <th>escenario</th>\n",
       "      <th>operacion</th>\n",
       "      <th>volumen</th>\n",
       "      <th>resultado</th>\n",
       "      <th>pips</th>\n",
       "      <th>capital</th>\n",
       "      <th>capital acumulado</th>\n",
       "    </tr>\n",
       "  </thead>\n",
       "  <tbody>\n",
       "    <tr>\n",
       "      <th>2020-01-29 19:00:00</th>\n",
       "      <td>A</td>\n",
       "      <td>venta</td>\n",
       "      <td>2372.0</td>\n",
       "      <td>Loss</td>\n",
       "      <td>-0.7</td>\n",
       "      <td>-16.604</td>\n",
       "      <td>101620.076</td>\n",
       "    </tr>\n",
       "    <tr>\n",
       "      <th>2019-12-11 19:00:00</th>\n",
       "      <td>A</td>\n",
       "      <td>venta</td>\n",
       "      <td>2372.0</td>\n",
       "      <td>Gain</td>\n",
       "      <td>41.0</td>\n",
       "      <td>972.520</td>\n",
       "      <td>101636.680</td>\n",
       "    </tr>\n",
       "    <tr>\n",
       "      <th>2019-10-30 18:00:00</th>\n",
       "      <td>B</td>\n",
       "      <td>compra</td>\n",
       "      <td>0.0</td>\n",
       "      <td>Gain</td>\n",
       "      <td>0.0</td>\n",
       "      <td>0.000</td>\n",
       "      <td>100664.160</td>\n",
       "    </tr>\n",
       "    <tr>\n",
       "      <th>2019-09-18 18:00:00</th>\n",
       "      <td>B</td>\n",
       "      <td>compra</td>\n",
       "      <td>0.0</td>\n",
       "      <td>Gain</td>\n",
       "      <td>0.0</td>\n",
       "      <td>0.000</td>\n",
       "      <td>100664.160</td>\n",
       "    </tr>\n",
       "    <tr>\n",
       "      <th>2019-07-31 18:00:00</th>\n",
       "      <td>B</td>\n",
       "      <td>compra</td>\n",
       "      <td>0.0</td>\n",
       "      <td>Gain</td>\n",
       "      <td>0.0</td>\n",
       "      <td>0.000</td>\n",
       "      <td>100664.160</td>\n",
       "    </tr>\n",
       "    <tr>\n",
       "      <th>2019-06-19 18:00:00</th>\n",
       "      <td>A</td>\n",
       "      <td>venta</td>\n",
       "      <td>2372.0</td>\n",
       "      <td>Loss</td>\n",
       "      <td>-1.7</td>\n",
       "      <td>-40.324</td>\n",
       "      <td>100664.160</td>\n",
       "    </tr>\n",
       "    <tr>\n",
       "      <th>2019-05-01 18:00:00</th>\n",
       "      <td>A</td>\n",
       "      <td>venta</td>\n",
       "      <td>2372.0</td>\n",
       "      <td>Loss</td>\n",
       "      <td>-3.3</td>\n",
       "      <td>-78.276</td>\n",
       "      <td>100704.484</td>\n",
       "    </tr>\n",
       "    <tr>\n",
       "      <th>2019-03-20 18:00:00</th>\n",
       "      <td>A</td>\n",
       "      <td>venta</td>\n",
       "      <td>2372.0</td>\n",
       "      <td>Gain</td>\n",
       "      <td>41.0</td>\n",
       "      <td>972.520</td>\n",
       "      <td>100782.760</td>\n",
       "    </tr>\n",
       "    <tr>\n",
       "      <th>2019-01-30 19:00:00</th>\n",
       "      <td>A</td>\n",
       "      <td>venta</td>\n",
       "      <td>2372.0</td>\n",
       "      <td>Loss</td>\n",
       "      <td>-8.0</td>\n",
       "      <td>-189.760</td>\n",
       "      <td>99810.240</td>\n",
       "    </tr>\n",
       "  </tbody>\n",
       "</table>\n",
       "</div>"
      ],
      "text/plain": [
       "                    escenario operacion  volumen resultado  pips  capital  \\\n",
       "2020-01-29 19:00:00         A     venta   2372.0      Loss  -0.7  -16.604   \n",
       "2019-12-11 19:00:00         A     venta   2372.0      Gain  41.0  972.520   \n",
       "2019-10-30 18:00:00         B    compra      0.0      Gain   0.0    0.000   \n",
       "2019-09-18 18:00:00         B    compra      0.0      Gain   0.0    0.000   \n",
       "2019-07-31 18:00:00         B    compra      0.0      Gain   0.0    0.000   \n",
       "2019-06-19 18:00:00         A     venta   2372.0      Loss  -1.7  -40.324   \n",
       "2019-05-01 18:00:00         A     venta   2372.0      Loss  -3.3  -78.276   \n",
       "2019-03-20 18:00:00         A     venta   2372.0      Gain  41.0  972.520   \n",
       "2019-01-30 19:00:00         A     venta   2372.0      Loss  -8.0 -189.760   \n",
       "\n",
       "                     capital acumulado  \n",
       "2020-01-29 19:00:00         101620.076  \n",
       "2019-12-11 19:00:00         101636.680  \n",
       "2019-10-30 18:00:00         100664.160  \n",
       "2019-09-18 18:00:00         100664.160  \n",
       "2019-07-31 18:00:00         100664.160  \n",
       "2019-06-19 18:00:00         100664.160  \n",
       "2019-05-01 18:00:00         100704.484  \n",
       "2019-03-20 18:00:00         100782.760  \n",
       "2019-01-30 19:00:00          99810.240  "
      ]
     },
     "execution_count": 43,
     "metadata": {},
     "output_type": "execute_result"
    }
   ],
   "source": [
    "df_prueba = fn.f_df_backtest(testing_data, testing_clasification, df_decisiones)\n",
    "df_prueba"
   ]
  },
  {
   "cell_type": "markdown",
   "metadata": {},
   "source": [
    "## Capital acumulado prueba"
   ]
  },
  {
   "cell_type": "markdown",
   "metadata": {},
   "source": [
    "<font size =3> Para el período de prueba, se realiza la gráfica de la evolución del capital acumulado en este período, siendo del 2019 al 2020, mostrando una ganancia de $1,620 USD al final del período."
   ]
  },
  {
   "cell_type": "code",
   "execution_count": 44,
   "metadata": {},
   "outputs": [
    {
     "data": {
      "image/png": "[encoded data removed]",
      "text/plain": [
       "<Figure size 432x288 with 1 Axes>"
      ]
     },
     "metadata": {
      "needs_background": "light"
     },
     "output_type": "display_data"
    }
   ],
   "source": [
    "vn.capital_prueba(df_prueba)"
   ]
  },
  {
   "cell_type": "markdown",
   "metadata": {},
   "source": [
    "# Métricas de Atribución al Desempeño"
   ]
  },
  {
   "cell_type": "markdown",
   "metadata": {},
   "source": [
    "<font size =3> <p style=\"text-align: justify;\"> A continuación se mostrará una tabla comparativa de los resultados de las tres métricas de atribución al desempeño que se propusieron a analizar para esta estrategia de trading, utilizando los datos de la evolución del capital acumulado, tanto del backtesting, como del período de entrenamiento, así como el período de prueba, siendo las métricas a utilizar las siguientes:"
   ]
  },
  {
   "cell_type": "markdown",
   "metadata": {},
   "source": [
    "<font size =3> \n",
    "- **Sharpe Ratio**: <font size =3> <p style=\"text-align: justify;\"> Se calcula substrayendo la tasa libre de riesgo del promedio de los rendimientos logarítmicos de los movimientos, y dividiendo este resultado entre la desviación estándar de los mismos (rendimientos logarítmicos).\n",
    "    En general, cuanto mayor es el valor de la relación de Sharpe, más atractivo es el rendimiento ajustado al riesgo.\n",
    "    \\begin{equation*} \n",
    "    Sharpe Ratio = \\frac{R_p-rf}{\\sigma_p}\n",
    "    \\end{equation*}\n",
    "<br>\n",
    "- **Sortino Ratio (Posiciones Compra)**:<font size =3> <p style=\"text-align: justify;\"> Se calcula usualmente como el Sharpe, con excepción del denominador que es la desviación estándar de la desventaja, traducido del inglés. Pero en el caso de este laboratorio, a los rendimientos de las posiciones de compra se les restará el *MAR* conocido por sus siglas en inglés (Minimum Acceptable Return), tomando como MAR la tasa libre de riesgo, siendo este el rendimiento promedio objetivo que se desea obtener por parte del trader.\n",
    "    Con respecto al denominador, se calcula con los rendimientos del período que estén por debajo del MAR, por lo que sería únicamente la desviación estándar de los rendimientos por debajo del rendimiento objetivo.\n",
    "    \\begin{equation*}\n",
    "    Sortino Ratio_b = \\frac{R_b-mar}{\\sigma_d}\n",
    "    \\end{equation*}\n",
    "<br>\n",
    "- **Sortino Ratio (Posiciones Venta)**: <font size =3> <p style=\"text-align: justify;\"> Se calcula usualmente como el Sharpe, con excepción del denominador que es la desviación estándar de la desventaja, traducido del inglés.  Pero en el caso de este laboratorio, a los rendimientos de las posiciones de compra se les restará el *MAR* conocido por sus siglas en inglés (Minimum Acceptable Return), tomando como MAR la tasa libre de riesgo, siendo este el rendimiento promedio objetivo que se desea obtener por parte del trader.\n",
    "    Con respecto al denominador, se calcula con los rendimientos del período que estén por debajo del MAR, por lo que sería únicamente la desviación estándar de los rendimientos por debajo del rendimiento objetivo.\n",
    "    \\begin{equation*}\n",
    "    Sortino Ratio_s = \\frac{R_s-mar}{\\sigma_d}\n",
    "    \\end{equation*}\n",
    "<br>"
   ]
  },
  {
   "cell_type": "code",
   "execution_count": 52,
   "metadata": {},
   "outputs": [
    {
     "data": {
      "text/html": [
       "<div>\n",
       "<style scoped>\n",
       "    .dataframe tbody tr th:only-of-type {\n",
       "        vertical-align: middle;\n",
       "    }\n",
       "\n",
       "    .dataframe tbody tr th {\n",
       "        vertical-align: top;\n",
       "    }\n",
       "\n",
       "    .dataframe thead th {\n",
       "        text-align: right;\n",
       "    }\n",
       "</style>\n",
       "<table border=\"1\" class=\"dataframe\">\n",
       "  <thead>\n",
       "    <tr style=\"text-align: right;\">\n",
       "      <th></th>\n",
       "      <th>métricas</th>\n",
       "      <th>valor bt</th>\n",
       "      <th>valor prueba</th>\n",
       "      <th>valor entrenamiento</th>\n",
       "      <th>descripción</th>\n",
       "    </tr>\n",
       "  </thead>\n",
       "  <tbody>\n",
       "    <tr>\n",
       "      <th>0</th>\n",
       "      <td>sharpe</td>\n",
       "      <td>-0.307947</td>\n",
       "      <td>0.055516</td>\n",
       "      <td>0.931759</td>\n",
       "      <td>Sharpe Ratio</td>\n",
       "    </tr>\n",
       "    <tr>\n",
       "      <th>1</th>\n",
       "      <td>sortino_b</td>\n",
       "      <td>0.571910</td>\n",
       "      <td>1.000000</td>\n",
       "      <td>NaN</td>\n",
       "      <td>Sortino Ratio para Posiciones de Compra</td>\n",
       "    </tr>\n",
       "    <tr>\n",
       "      <th>2</th>\n",
       "      <td>sortino_s</td>\n",
       "      <td>NaN</td>\n",
       "      <td>-1.076323</td>\n",
       "      <td>-4.986808</td>\n",
       "      <td>Sortino Ratio para Posiciones de Venta</td>\n",
       "    </tr>\n",
       "  </tbody>\n",
       "</table>\n",
       "</div>"
      ],
      "text/plain": [
       "    métricas  valor bt  valor prueba  valor entrenamiento  \\\n",
       "0     sharpe -0.307947      0.055516             0.931759   \n",
       "1  sortino_b  0.571910      1.000000                  NaN   \n",
       "2  sortino_s       NaN     -1.076323            -4.986808   \n",
       "\n",
       "                               descripción  \n",
       "0                             Sharpe Ratio  \n",
       "1  Sortino Ratio para Posiciones de Compra  \n",
       "2   Sortino Ratio para Posiciones de Venta  "
      ]
     },
     "execution_count": 52,
     "metadata": {},
     "output_type": "execute_result"
    }
   ],
   "source": [
    "df_entrenamiento = fn.f_df_backtest(training_data, training_clasification, df_decisiones)\n",
    "df_prueba = fn.f_df_backtest(testing_data, testing_clasification, df_decisiones)\n",
    "mad = fn.f_stat_mad(df_backtest, df_entrenamiento, df_prueba)\n",
    "mad"
   ]
  },
  {
   "cell_type": "markdown",
   "metadata": {},
   "source": [
    "## Interpretación de resultados\n",
    "\n",
    "<font size =3> \n",
    "- **Sharpe Ratio**: \n",
    "<font size =3> <p style=\"text-align: justify;\">Si el índice o ratio de Sharpe es negativo, indica que el rendimiento de los movimientos es inferior a la rentabilidad sin riesgo. Todo valor del Sharpe ratio inferior a uno, significa que el rendimiento de los activos es inferior al riesgo que estamos asumiendo al invertir en un activo determinado.\n",
    "    Este es el valor que se observa utilizando la primera estrategia de trading no optimizada, obteniendo un índice de sharpe poco menor a cero, siendo este negativo, posteriormente, el Sharpe en el período de prueba aumenta a 0.05 y el período de entrenamiento con la estrategia ya optimizada obtiene un valor muy cercano a uno, mostrando la mejora considerable en la estrategia ya optimizada.\n",
    "    \n",
    "    \n",
    "- **Sortino Ratio**: \n",
    "<font size =3> <p style=\"text-align: justify;\">Mientras más elevado sea el valor del Sortino ratio, mejor será la calificación de los movimientos, ya que quiere decir que estos son operados eficientemente y no se está tomando riesgos innecesarios los cuales no están siendo recompensados con rendimientos mayores. Un sortino ratio bajo o negativo indica que al inversor no se le está recompensando por los riesgos que se están tomando. En este caso, el backtest tomó únicamente operaciones de compra, por lo que no se hacen presentes operaciones de venta, y no hay valor sortino para venta, mientras que el sortino de compra es muy bueno. Para el caso del período de prueba, el valor del sortino de compra fue muy bueno, mientras que el sortino de venta no lo fue, siendo solo tres operaciones con venta, por lo que en el período de entrenamiento, fueron únicamente operaciones de venta, por lo que no hay valor de sortino compra.\n"
   ]
  },
  {
   "cell_type": "markdown",
   "metadata": {},
   "source": [
    "## Conclusiones. \n",
    "<font size =3> <p style=\"text-align: justify;\"> La estrategia que se planteó al inicio estaba diseñada de acuerdo a las visualizaciones de las gráficas presentadas en el presente documento, en donde de acuerdo a la clasificación de escenarios se esperaba que el euro se viera fortalecido frente al dólar, en el escenario A, en donde se presentaba una serie de combinaciones en el que las tasas se podrían mantener o en su caso sufrir un aumento. Al presentarse estos dos movimientos en un mismo escenario, el cual se presentó la mayoría de las veces en la clasificación,  nos llevó a diseñar una estrategia a favor del euro, en donde en caso de que la Fed decidiera incrementar las tasas de interés y que por consecuente el dólar se viera apreciado frente al euro, no se arriesgara tanto capital. Estrategia que se puede observar con el Sortino Ratio de Venta, en donde no tenemos ningún valor dado que la estrategia estaba diseñada para la compra de euros. Al mismo tiempo al analizar el Sortimo Ratio de Compra podemos concluir que esta posición no está generando los resultados esperados dado el riesgo que se incurre. A final de cuentas obtuvimos un Ratio de Sharpe negativo, el cual nos indica que el rendimiento obtenido, derivado de la estrategia principal no fue superior a la rentabilidad sin riesgo.\n",
    "    \n",
    "Es importante destacar la importancia de optimización de la estrategia, pues en este caso, la estrategia que se había propuesto al principio cambió significativamente una vez fue optimizada, por lo que los resultados obtenidos fueron más favorecedores, como se observa principalmente en la métrica de atribución de desempeño de Sharpe."
   ]
  },
  {
   "cell_type": "markdown",
   "metadata": {},
   "source": [
    "<font size =3> Bibliografía \n",
    "\n",
    "* Hargrave, M. (2020, April 25). How to Use the Sharpe Ratio to Analyze Portfolio Risk and Return. Recuperado de www.investopedia.com/terms/s/sharperatio.asp\n",
    "    \n",
    "* Kenton, W. (2020, January 29). Understanding the Sortino Ratio. Recuperado de https://www.investopedia.com/terms/s/sortinoratio.asp\n",
    "    \n",
    "* S.A. (2019) El Financiero: ¿Qué significa que la Fed recorte la tasa de interés? Recuperado el 27 de abril del 2020 de https://www.elfinanciero.com.mx/economia/que-significa-que-la-fed-recorte-la-tasa-de-interes\n",
    "\n",
    "* S.A.(2020) Admiral Markets: FED - ¿Cómo afecta la subida tipos FED a los mercados? Recuperado el 27 de abril del 2020 de https://admiralmarkets.es/education/articles/forex-strategy/fed-tipos\n",
    "\n",
    "* S.A (2020) Los anuncios acerca de las tasas de interés de la Fed y de los bancos principales. Recuperado el 27 de abril del 2020 de https://www.iforex.mx/anuncios-tasas-de-interes"
   ]
  },
  {
   "cell_type": "code",
   "execution_count": null,
   "metadata": {},
   "outputs": [],
   "source": []
  }
 ],
 "metadata": {
  "kernelspec": {
   "display_name": "Python 3",
   "language": "python",
   "name": "python3"
  },
  "language_info": {
   "codemirror_mode": {
    "name": "ipython",
    "version": 3
   },
   "file_extension": ".py",
   "mimetype": "text/x-python",
   "name": "python",
   "nbconvert_exporter": "python",
   "pygments_lexer": "ipython3",
   "version": "3.7.7"
  }
 },
 "nbformat": 4,
 "nbformat_minor": 2
}
